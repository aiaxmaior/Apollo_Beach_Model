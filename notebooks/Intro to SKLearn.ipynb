{
 "cells": [
  {
   "cell_type": "markdown",
   "metadata": {},
   "source": [
    "<div id=\"container\" style=\"position:relative;\">\n",
    "<div style=\"float:left\"><h1>  Intro to Scikit-Learn </h1></div>\n",
    "<div style=\"position:relative; float:right\"><img style=\"height:65px\" src=\"data:image/png;base64,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\" />\n",
    "</div>\n",
    "</div>\n"
   ]
  },
  {
   "cell_type": "markdown",
   "metadata": {},
   "source": [
    "This unit is focused on various supervised and unsupervised machine learning techniques. We'll primarily be working with `scikit-learn`, a widely-used machine learning package in Python which is now becoming industry standard. \n",
    "\n",
    "`scikit-learn` contains a plethora of machine learning tools, from data preprocessing, statistical models including linear and logistic regression, to advanced machine learning models, and more. \n",
    "\n",
    "In this lecture we'll dive into the `scikit-learn` interface, building a strong foundation with its fundamentals before progressing into more sophisticated applications in machine learning throughout the unit.\n",
    "\n",
    "First, let's import the packages we need:"
   ]
  },
  {
   "cell_type": "code",
   "execution_count": 2,
   "metadata": {},
   "outputs": [],
   "source": [
    "import numpy as np\n",
    "import pandas as pd\n",
    "import matplotlib.pyplot as plt"
   ]
  },
  {
   "cell_type": "markdown",
   "metadata": {},
   "source": [
    "Note: We will never import all of `scikit-learn`, rather we'll import only the elements we'll need.\n",
    "\n",
    "For a thorough list of what is available in `scikit-learn` take a look at the API reference in the official documentation here: https://scikit-learn.org/stable/modules/classes.html"
   ]
  },
  {
   "cell_type": "markdown",
   "metadata": {},
   "source": [
    "### Creating Models\n",
    "\n",
    "In the first part of the lecture, we'll walk through each of the steps to go from a data set to a complete model that we could deploy. The general process we will follow is:\n",
    "1. Load the data\n",
    "2. Fit the model\n",
    "3. Make predictions and evaluate the model"
   ]
  },
  {
   "cell_type": "markdown",
   "metadata": {},
   "source": [
    "### Loading the Data\n",
    "\n",
    "Before we can begin fitting a model, we need data on which to fit it. This is also referred to as _training_ a model. For now, we're going to apply *supervised machine learning*, which is suitable for when we can divide our data into independent variables (usually denoted by $X$) and a dependent variable (denoted by $y$). \n",
    "\n",
    "(Later we will see how to perform *unsupervised machine learning*, which is used when our data has no dependent variable, or when we don't know what the dependent variable should be.) \n",
    "\n",
    "In a machine learning context: \n",
    "* Dependent variable = target = $y$\n",
    "* Independent variables = features = $X$\n"
   ]
  },
  {
   "cell_type": "markdown",
   "metadata": {},
   "source": [
    "#### Data Sources \n",
    "\n",
    "**1. Synthetic Data**\n",
    "\n",
    "Many of the examples we've created use *synthetic data* — data that was specifically created for illustrative purposes:"
   ]
  },
  {
   "cell_type": "code",
   "execution_count": 3,
   "metadata": {},
   "outputs": [],
   "source": [
    "# Two normal distributions (the one at -1 has label 1, the one at 1 has label 0)\n",
    "X = pd.DataFrame(np.array(np.concatenate((np.random.randn(500) + (-1),np.random.randn(500) + (+1)), axis = 0)))\n",
    "y = pd.DataFrame(np.full((1000),0))\n",
    "y.loc[:500] = 1"
   ]
  },
  {
   "cell_type": "markdown",
   "metadata": {},
   "source": [
    "**2. Comma Separated Value (CSV) files**\n",
    "\n",
    "Another source of data we use is CSV files. We've used these before, but as a refresher, each row in the file corresponds to a data point (or observation) and each column refers to a variable. \n",
    "\n",
    "We can load CSV files with Pandas as below (get the file [here](https://drive.google.com/file/d/1B8of0WSx7vkW66PlC0g0DcJXZjI2Fkgi/view?usp=sharing)):"
   ]
  },
  {
   "cell_type": "code",
   "execution_count": 4,
   "metadata": {},
   "outputs": [
    {
     "data": {
      "text/html": [
       "<div>\n",
       "<style scoped>\n",
       "    .dataframe tbody tr th:only-of-type {\n",
       "        vertical-align: middle;\n",
       "    }\n",
       "\n",
       "    .dataframe tbody tr th {\n",
       "        vertical-align: top;\n",
       "    }\n",
       "\n",
       "    .dataframe thead th {\n",
       "        text-align: right;\n",
       "    }\n",
       "</style>\n",
       "<table border=\"1\" class=\"dataframe\">\n",
       "  <thead>\n",
       "    <tr style=\"text-align: right;\">\n",
       "      <th></th>\n",
       "      <th>Credit Score</th>\n",
       "      <th>Loan Request Amount</th>\n",
       "      <th>Approval</th>\n",
       "    </tr>\n",
       "  </thead>\n",
       "  <tbody>\n",
       "    <tr>\n",
       "      <th>0</th>\n",
       "      <td>548</td>\n",
       "      <td>56</td>\n",
       "      <td>0</td>\n",
       "    </tr>\n",
       "    <tr>\n",
       "      <th>1</th>\n",
       "      <td>625</td>\n",
       "      <td>168</td>\n",
       "      <td>0</td>\n",
       "    </tr>\n",
       "    <tr>\n",
       "      <th>2</th>\n",
       "      <td>899</td>\n",
       "      <td>237</td>\n",
       "      <td>1</td>\n",
       "    </tr>\n",
       "    <tr>\n",
       "      <th>3</th>\n",
       "      <td>608</td>\n",
       "      <td>84</td>\n",
       "      <td>0</td>\n",
       "    </tr>\n",
       "    <tr>\n",
       "      <th>4</th>\n",
       "      <td>783</td>\n",
       "      <td>34</td>\n",
       "      <td>1</td>\n",
       "    </tr>\n",
       "    <tr>\n",
       "      <th>5</th>\n",
       "      <td>735</td>\n",
       "      <td>213</td>\n",
       "      <td>0</td>\n",
       "    </tr>\n",
       "    <tr>\n",
       "      <th>6</th>\n",
       "      <td>472</td>\n",
       "      <td>213</td>\n",
       "      <td>0</td>\n",
       "    </tr>\n",
       "    <tr>\n",
       "      <th>7</th>\n",
       "      <td>661</td>\n",
       "      <td>150</td>\n",
       "      <td>0</td>\n",
       "    </tr>\n",
       "    <tr>\n",
       "      <th>8</th>\n",
       "      <td>645</td>\n",
       "      <td>46</td>\n",
       "      <td>1</td>\n",
       "    </tr>\n",
       "    <tr>\n",
       "      <th>9</th>\n",
       "      <td>821</td>\n",
       "      <td>247</td>\n",
       "      <td>1</td>\n",
       "    </tr>\n",
       "  </tbody>\n",
       "</table>\n",
       "</div>"
      ],
      "text/plain": [
       "   Credit Score  Loan Request Amount  Approval\n",
       "0           548                   56         0\n",
       "1           625                  168         0\n",
       "2           899                  237         1\n",
       "3           608                   84         0\n",
       "4           783                   34         1\n",
       "5           735                  213         0\n",
       "6           472                  213         0\n",
       "7           661                  150         0\n",
       "8           645                   46         1\n",
       "9           821                  247         1"
      ]
     },
     "execution_count": 4,
     "metadata": {},
     "output_type": "execute_result"
    }
   ],
   "source": [
    "loans = pd.read_csv('loans.csv',index_col=0)\n",
    "loans.head(10)"
   ]
  },
  {
   "cell_type": "markdown",
   "metadata": {},
   "source": [
    "Here the dependent variable (or target) is _Approval_ while the independent variables (or features) are the other two columns. With the data loaded as is, we would have to split the columns manually in order to pull out our $X$ and $y$:"
   ]
  },
  {
   "cell_type": "code",
   "execution_count": 5,
   "metadata": {},
   "outputs": [],
   "source": [
    "# Pretty easy to split data with Pandas!\n",
    "X = loans[['Credit Score','Loan Request Amount']] # independent variables or features\n",
    "y = loans['Approval'] # dependent variable or target"
   ]
  },
  {
   "cell_type": "markdown",
   "metadata": {},
   "source": [
    "**3. `scikit-learn` Datasets**\n",
    "\n",
    "The final source of data we'll consider for now are the data sets included `scikit-learn`. The package has several great data sets to explore and model. For a complete list see: https://scikit-learn.org/stable/datasets.html\n",
    "\n",
    "Let's load in the California Housing dataset. This data contains various features of a home and with the average home price as the target variable. To load the data, we can use the following: "
   ]
  },
  {
   "cell_type": "code",
   "execution_count": 6,
   "metadata": {},
   "outputs": [
    {
     "name": "stdout",
     "output_type": "stream",
     "text": [
      "<class 'sklearn.utils._bunch.Bunch'>\n"
     ]
    }
   ],
   "source": [
    "from sklearn.datasets import fetch_california_housing\n",
    "\n",
    "california = fetch_california_housing()\n",
    "\n",
    "print(type(california))"
   ]
  },
  {
   "cell_type": "markdown",
   "metadata": {},
   "source": [
    "As you can see this isn't a normal Pandas dataframe, it's a special type of object specific to sklearn, a _Bunch_."
   ]
  },
  {
   "cell_type": "markdown",
   "metadata": {},
   "source": [
    "We can look at a summary of the data set using the following attribute stored within:"
   ]
  },
  {
   "cell_type": "code",
   "execution_count": 7,
   "metadata": {},
   "outputs": [],
   "source": [
    "# print(california.DESCR)"
   ]
  },
  {
   "cell_type": "markdown",
   "metadata": {},
   "source": [
    "We can still extract the dependent and independent variables:"
   ]
  },
  {
   "cell_type": "code",
   "execution_count": 8,
   "metadata": {},
   "outputs": [
    {
     "name": "stdout",
     "output_type": "stream",
     "text": [
      "The shape of the dependent variable: (20640,)\n",
      "The shape of the independent variables: (20640, 8)\n"
     ]
    }
   ],
   "source": [
    "# The dependent variable\n",
    "y = california.target\n",
    "# The independent variables\n",
    "X = california.data\n",
    "\n",
    "print (f'The shape of the dependent variable: {y.shape}')\n",
    "print (f'The shape of the independent variables: {X.shape}')"
   ]
  },
  {
   "cell_type": "markdown",
   "metadata": {},
   "source": [
    "This is now in a format we can use. As you can see there are 20,640 data points with 8 independent variables or features.\n",
    "\n",
    "**Note:** When we import data from `scikit-learn`, it is stored in a numpy array. If we want to convert it into a dataframe, we can use the `feature_names` attribute to provide the column names:"
   ]
  },
  {
   "cell_type": "code",
   "execution_count": 9,
   "metadata": {},
   "outputs": [
    {
     "data": {
      "text/html": [
       "<div>\n",
       "<style scoped>\n",
       "    .dataframe tbody tr th:only-of-type {\n",
       "        vertical-align: middle;\n",
       "    }\n",
       "\n",
       "    .dataframe tbody tr th {\n",
       "        vertical-align: top;\n",
       "    }\n",
       "\n",
       "    .dataframe thead th {\n",
       "        text-align: right;\n",
       "    }\n",
       "</style>\n",
       "<table border=\"1\" class=\"dataframe\">\n",
       "  <thead>\n",
       "    <tr style=\"text-align: right;\">\n",
       "      <th></th>\n",
       "      <th>MedInc</th>\n",
       "      <th>HouseAge</th>\n",
       "      <th>AveRooms</th>\n",
       "      <th>AveBedrms</th>\n",
       "      <th>Population</th>\n",
       "      <th>AveOccup</th>\n",
       "      <th>Latitude</th>\n",
       "      <th>Longitude</th>\n",
       "    </tr>\n",
       "  </thead>\n",
       "  <tbody>\n",
       "    <tr>\n",
       "      <th>0</th>\n",
       "      <td>8.3252</td>\n",
       "      <td>41.0</td>\n",
       "      <td>6.984127</td>\n",
       "      <td>1.023810</td>\n",
       "      <td>322.0</td>\n",
       "      <td>2.555556</td>\n",
       "      <td>37.88</td>\n",
       "      <td>-122.23</td>\n",
       "    </tr>\n",
       "    <tr>\n",
       "      <th>1</th>\n",
       "      <td>8.3014</td>\n",
       "      <td>21.0</td>\n",
       "      <td>6.238137</td>\n",
       "      <td>0.971880</td>\n",
       "      <td>2401.0</td>\n",
       "      <td>2.109842</td>\n",
       "      <td>37.86</td>\n",
       "      <td>-122.22</td>\n",
       "    </tr>\n",
       "    <tr>\n",
       "      <th>2</th>\n",
       "      <td>7.2574</td>\n",
       "      <td>52.0</td>\n",
       "      <td>8.288136</td>\n",
       "      <td>1.073446</td>\n",
       "      <td>496.0</td>\n",
       "      <td>2.802260</td>\n",
       "      <td>37.85</td>\n",
       "      <td>-122.24</td>\n",
       "    </tr>\n",
       "    <tr>\n",
       "      <th>3</th>\n",
       "      <td>5.6431</td>\n",
       "      <td>52.0</td>\n",
       "      <td>5.817352</td>\n",
       "      <td>1.073059</td>\n",
       "      <td>558.0</td>\n",
       "      <td>2.547945</td>\n",
       "      <td>37.85</td>\n",
       "      <td>-122.25</td>\n",
       "    </tr>\n",
       "    <tr>\n",
       "      <th>4</th>\n",
       "      <td>3.8462</td>\n",
       "      <td>52.0</td>\n",
       "      <td>6.281853</td>\n",
       "      <td>1.081081</td>\n",
       "      <td>565.0</td>\n",
       "      <td>2.181467</td>\n",
       "      <td>37.85</td>\n",
       "      <td>-122.25</td>\n",
       "    </tr>\n",
       "  </tbody>\n",
       "</table>\n",
       "</div>"
      ],
      "text/plain": [
       "   MedInc  HouseAge  AveRooms  AveBedrms  Population  AveOccup  Latitude  \\\n",
       "0  8.3252      41.0  6.984127   1.023810       322.0  2.555556     37.88   \n",
       "1  8.3014      21.0  6.238137   0.971880      2401.0  2.109842     37.86   \n",
       "2  7.2574      52.0  8.288136   1.073446       496.0  2.802260     37.85   \n",
       "3  5.6431      52.0  5.817352   1.073059       558.0  2.547945     37.85   \n",
       "4  3.8462      52.0  6.281853   1.081081       565.0  2.181467     37.85   \n",
       "\n",
       "   Longitude  \n",
       "0    -122.23  \n",
       "1    -122.22  \n",
       "2    -122.24  \n",
       "3    -122.25  \n",
       "4    -122.25  "
      ]
     },
     "execution_count": 9,
     "metadata": {},
     "output_type": "execute_result"
    }
   ],
   "source": [
    "X_dataframe = pd.DataFrame(X, columns = california.feature_names)\n",
    "X_dataframe.head()"
   ]
  },
  {
   "cell_type": "markdown",
   "metadata": {},
   "source": [
    "There are several more ways of getting data into a format our model can understand. For example, by reading SQL tables into Pandas dataframes. This is by no means an exhaustive list. The important point is that we start with some source data and split it into dependent and independent variables (*i.e.* target and features)."
   ]
  },
  {
   "cell_type": "markdown",
   "metadata": {},
   "source": [
    "### Fitting the Model\n",
    "\n",
    "Once we've loaded in our data and split it into the target and features, we can begin fitting our model. In the case of supervised learning, fitting a model just means that we learn how the target arises from the features. \n",
    "\n",
    "Certain models have assumptions built into them (like the target being a linear combination of the features), and others are more flexible. These assumptions will affect the patterns that are extracted from the data and the overall quality of a model's fit.\n",
    "\n",
    "The model we choose should be guided by:\n",
    "1. The type of data we have (*i.e.* is it categorical or continuous),\n",
    "2. The underlying relationships we expect to see between the features and target (or relationships that we've discovered during EDA).\n",
    "\n",
    "We'll focus on the first consideration for now."
   ]
  },
  {
   "cell_type": "markdown",
   "metadata": {},
   "source": [
    "--- \n",
    "\n",
    "**Class Discussion Exercise**: From the models we have learned thus far, which is used to predict a categorical target and which is used to predict a continuous target?\n",
    "\n",
    "---"
   ]
  },
  {
   "cell_type": "markdown",
   "metadata": {},
   "source": [
    "Once we've chosen a model and have put our data in the correct format, we can fit the model to the data using the `model.fit()` method. All of the models we've seen up to this point are *linear models*, (*i.e.* the target is predicted using a linear combination of the features). Most of these are located in `sklearn.linear_model` module  - for more information, see http://scikit-learn.org/stable/modules/linear_model.html. "
   ]
  },
  {
   "cell_type": "markdown",
   "metadata": {},
   "source": [
    "### Example: Fitting a Linear Regression Model\n",
    "\n",
    "The first example of fitting a model with `scikit-learn` will be using the California housing data. We could fit a linear regression model using all of the features (8 in total), but for ease of visualization let's just pick one feature, the median income in the given block."
   ]
  },
  {
   "cell_type": "code",
   "execution_count": 10,
   "metadata": {},
   "outputs": [],
   "source": [
    "from sklearn.datasets import fetch_california_housing\n",
    "\n",
    "california = fetch_california_housing()\n",
    "# The dependent variable\n",
    "y = california.target\n",
    "# Take the first column (median income in block) as the independent variable\n",
    "X = california.data[:, 0]"
   ]
  },
  {
   "cell_type": "markdown",
   "metadata": {},
   "source": [
    "#### Check the Shape of the Data \n",
    "\n",
    "When using `scikit-learn`, we have to be very specific about the shape of the data that the model will expect. In particular, \n",
    "- the features matrix, $X$ must be two dimensional: `(nrows, ncols)`\n",
    "- the target vector, $y$ must be one dimensional, *i.e.* a vector: `(nrows,)`"
   ]
  },
  {
   "cell_type": "code",
   "execution_count": 11,
   "metadata": {},
   "outputs": [
    {
     "data": {
      "text/plain": [
       "(20640,)"
      ]
     },
     "execution_count": 11,
     "metadata": {},
     "output_type": "execute_result"
    }
   ],
   "source": [
    "X.shape"
   ]
  },
  {
   "cell_type": "code",
   "execution_count": 12,
   "metadata": {},
   "outputs": [
    {
     "data": {
      "text/plain": [
       "(20640,)"
      ]
     },
     "execution_count": 12,
     "metadata": {},
     "output_type": "execute_result"
    }
   ],
   "source": [
    "y.shape"
   ]
  },
  {
   "cell_type": "markdown",
   "metadata": {},
   "source": [
    "Since here our feature matrix $X$ only has variable and so is one dimensional, we'll have to make sure to reshape it to make it 2-D with dimensions `(20640, 1)`:"
   ]
  },
  {
   "cell_type": "code",
   "execution_count": 13,
   "metadata": {},
   "outputs": [],
   "source": [
    "# .reshape() takes in (nrown, ncols) as its arguements\n",
    "# We are asking for 1 column and 20640 rows\n",
    "X = X.reshape(20640, 1)\n",
    "\n",
    "# More common is to use the syntax below to accomplish the same reshaping\n",
    "# We are asking for 1 column and for however many rows needed to contain the data)\n",
    "# X = X.reshape(-1, 1)"
   ]
  },
  {
   "cell_type": "code",
   "execution_count": 14,
   "metadata": {},
   "outputs": [
    {
     "data": {
      "text/plain": [
       "(20640, 1)"
      ]
     },
     "execution_count": 14,
     "metadata": {},
     "output_type": "execute_result"
    }
   ],
   "source": [
    "X.shape"
   ]
  },
  {
   "cell_type": "markdown",
   "metadata": {},
   "source": [
    "This is now exactly what we need! We can now move on to fitting a model. \n",
    "\n",
    "To build a model to fit to this data, we first define it using the appropriate model type from the `linear_model` sub-module. Here we will be using the `LinearRegression` model. First, we create a variable to hold our unfit model. This is called _instantiating_ the model. Then we use the `.fit()` method to learn the relationship between the dependent and independent variables. At this step, all of the necessary calculations are made, including the calculation of model coefficients (parameters). "
   ]
  },
  {
   "cell_type": "code",
   "execution_count": 15,
   "metadata": {},
   "outputs": [
    {
     "data": {
      "text/html": [
       "<style>#sk-container-id-1 {\n",
       "  /* Definition of color scheme common for light and dark mode */\n",
       "  --sklearn-color-text: black;\n",
       "  --sklearn-color-line: gray;\n",
       "  /* Definition of color scheme for unfitted estimators */\n",
       "  --sklearn-color-unfitted-level-0: #fff5e6;\n",
       "  --sklearn-color-unfitted-level-1: #f6e4d2;\n",
       "  --sklearn-color-unfitted-level-2: #ffe0b3;\n",
       "  --sklearn-color-unfitted-level-3: chocolate;\n",
       "  /* Definition of color scheme for fitted estimators */\n",
       "  --sklearn-color-fitted-level-0: #f0f8ff;\n",
       "  --sklearn-color-fitted-level-1: #d4ebff;\n",
       "  --sklearn-color-fitted-level-2: #b3dbfd;\n",
       "  --sklearn-color-fitted-level-3: cornflowerblue;\n",
       "\n",
       "  /* Specific color for light theme */\n",
       "  --sklearn-color-text-on-default-background: var(--sg-text-color, var(--theme-code-foreground, var(--jp-content-font-color1, black)));\n",
       "  --sklearn-color-background: var(--sg-background-color, var(--theme-background, var(--jp-layout-color0, white)));\n",
       "  --sklearn-color-border-box: var(--sg-text-color, var(--theme-code-foreground, var(--jp-content-font-color1, black)));\n",
       "  --sklearn-color-icon: #696969;\n",
       "\n",
       "  @media (prefers-color-scheme: dark) {\n",
       "    /* Redefinition of color scheme for dark theme */\n",
       "    --sklearn-color-text-on-default-background: var(--sg-text-color, var(--theme-code-foreground, var(--jp-content-font-color1, white)));\n",
       "    --sklearn-color-background: var(--sg-background-color, var(--theme-background, var(--jp-layout-color0, #111)));\n",
       "    --sklearn-color-border-box: var(--sg-text-color, var(--theme-code-foreground, var(--jp-content-font-color1, white)));\n",
       "    --sklearn-color-icon: #878787;\n",
       "  }\n",
       "}\n",
       "\n",
       "#sk-container-id-1 {\n",
       "  color: var(--sklearn-color-text);\n",
       "}\n",
       "\n",
       "#sk-container-id-1 pre {\n",
       "  padding: 0;\n",
       "}\n",
       "\n",
       "#sk-container-id-1 input.sk-hidden--visually {\n",
       "  border: 0;\n",
       "  clip: rect(1px 1px 1px 1px);\n",
       "  clip: rect(1px, 1px, 1px, 1px);\n",
       "  height: 1px;\n",
       "  margin: -1px;\n",
       "  overflow: hidden;\n",
       "  padding: 0;\n",
       "  position: absolute;\n",
       "  width: 1px;\n",
       "}\n",
       "\n",
       "#sk-container-id-1 div.sk-dashed-wrapped {\n",
       "  border: 1px dashed var(--sklearn-color-line);\n",
       "  margin: 0 0.4em 0.5em 0.4em;\n",
       "  box-sizing: border-box;\n",
       "  padding-bottom: 0.4em;\n",
       "  background-color: var(--sklearn-color-background);\n",
       "}\n",
       "\n",
       "#sk-container-id-1 div.sk-container {\n",
       "  /* jupyter's `normalize.less` sets `[hidden] { display: none; }`\n",
       "     but bootstrap.min.css set `[hidden] { display: none !important; }`\n",
       "     so we also need the `!important` here to be able to override the\n",
       "     default hidden behavior on the sphinx rendered scikit-learn.org.\n",
       "     See: https://github.com/scikit-learn/scikit-learn/issues/21755 */\n",
       "  display: inline-block !important;\n",
       "  position: relative;\n",
       "}\n",
       "\n",
       "#sk-container-id-1 div.sk-text-repr-fallback {\n",
       "  display: none;\n",
       "}\n",
       "\n",
       "div.sk-parallel-item,\n",
       "div.sk-serial,\n",
       "div.sk-item {\n",
       "  /* draw centered vertical line to link estimators */\n",
       "  background-image: linear-gradient(var(--sklearn-color-text-on-default-background), var(--sklearn-color-text-on-default-background));\n",
       "  background-size: 2px 100%;\n",
       "  background-repeat: no-repeat;\n",
       "  background-position: center center;\n",
       "}\n",
       "\n",
       "/* Parallel-specific style estimator block */\n",
       "\n",
       "#sk-container-id-1 div.sk-parallel-item::after {\n",
       "  content: \"\";\n",
       "  width: 100%;\n",
       "  border-bottom: 2px solid var(--sklearn-color-text-on-default-background);\n",
       "  flex-grow: 1;\n",
       "}\n",
       "\n",
       "#sk-container-id-1 div.sk-parallel {\n",
       "  display: flex;\n",
       "  align-items: stretch;\n",
       "  justify-content: center;\n",
       "  background-color: var(--sklearn-color-background);\n",
       "  position: relative;\n",
       "}\n",
       "\n",
       "#sk-container-id-1 div.sk-parallel-item {\n",
       "  display: flex;\n",
       "  flex-direction: column;\n",
       "}\n",
       "\n",
       "#sk-container-id-1 div.sk-parallel-item:first-child::after {\n",
       "  align-self: flex-end;\n",
       "  width: 50%;\n",
       "}\n",
       "\n",
       "#sk-container-id-1 div.sk-parallel-item:last-child::after {\n",
       "  align-self: flex-start;\n",
       "  width: 50%;\n",
       "}\n",
       "\n",
       "#sk-container-id-1 div.sk-parallel-item:only-child::after {\n",
       "  width: 0;\n",
       "}\n",
       "\n",
       "/* Serial-specific style estimator block */\n",
       "\n",
       "#sk-container-id-1 div.sk-serial {\n",
       "  display: flex;\n",
       "  flex-direction: column;\n",
       "  align-items: center;\n",
       "  background-color: var(--sklearn-color-background);\n",
       "  padding-right: 1em;\n",
       "  padding-left: 1em;\n",
       "}\n",
       "\n",
       "\n",
       "/* Toggleable style: style used for estimator/Pipeline/ColumnTransformer box that is\n",
       "clickable and can be expanded/collapsed.\n",
       "- Pipeline and ColumnTransformer use this feature and define the default style\n",
       "- Estimators will overwrite some part of the style using the `sk-estimator` class\n",
       "*/\n",
       "\n",
       "/* Pipeline and ColumnTransformer style (default) */\n",
       "\n",
       "#sk-container-id-1 div.sk-toggleable {\n",
       "  /* Default theme specific background. It is overwritten whether we have a\n",
       "  specific estimator or a Pipeline/ColumnTransformer */\n",
       "  background-color: var(--sklearn-color-background);\n",
       "}\n",
       "\n",
       "/* Toggleable label */\n",
       "#sk-container-id-1 label.sk-toggleable__label {\n",
       "  cursor: pointer;\n",
       "  display: block;\n",
       "  width: 100%;\n",
       "  margin-bottom: 0;\n",
       "  padding: 0.5em;\n",
       "  box-sizing: border-box;\n",
       "  text-align: center;\n",
       "}\n",
       "\n",
       "#sk-container-id-1 label.sk-toggleable__label-arrow:before {\n",
       "  /* Arrow on the left of the label */\n",
       "  content: \"▸\";\n",
       "  float: left;\n",
       "  margin-right: 0.25em;\n",
       "  color: var(--sklearn-color-icon);\n",
       "}\n",
       "\n",
       "#sk-container-id-1 label.sk-toggleable__label-arrow:hover:before {\n",
       "  color: var(--sklearn-color-text);\n",
       "}\n",
       "\n",
       "/* Toggleable content - dropdown */\n",
       "\n",
       "#sk-container-id-1 div.sk-toggleable__content {\n",
       "  max-height: 0;\n",
       "  max-width: 0;\n",
       "  overflow: hidden;\n",
       "  text-align: left;\n",
       "  /* unfitted */\n",
       "  background-color: var(--sklearn-color-unfitted-level-0);\n",
       "}\n",
       "\n",
       "#sk-container-id-1 div.sk-toggleable__content.fitted {\n",
       "  /* fitted */\n",
       "  background-color: var(--sklearn-color-fitted-level-0);\n",
       "}\n",
       "\n",
       "#sk-container-id-1 div.sk-toggleable__content pre {\n",
       "  margin: 0.2em;\n",
       "  border-radius: 0.25em;\n",
       "  color: var(--sklearn-color-text);\n",
       "  /* unfitted */\n",
       "  background-color: var(--sklearn-color-unfitted-level-0);\n",
       "}\n",
       "\n",
       "#sk-container-id-1 div.sk-toggleable__content.fitted pre {\n",
       "  /* unfitted */\n",
       "  background-color: var(--sklearn-color-fitted-level-0);\n",
       "}\n",
       "\n",
       "#sk-container-id-1 input.sk-toggleable__control:checked~div.sk-toggleable__content {\n",
       "  /* Expand drop-down */\n",
       "  max-height: 200px;\n",
       "  max-width: 100%;\n",
       "  overflow: auto;\n",
       "}\n",
       "\n",
       "#sk-container-id-1 input.sk-toggleable__control:checked~label.sk-toggleable__label-arrow:before {\n",
       "  content: \"▾\";\n",
       "}\n",
       "\n",
       "/* Pipeline/ColumnTransformer-specific style */\n",
       "\n",
       "#sk-container-id-1 div.sk-label input.sk-toggleable__control:checked~label.sk-toggleable__label {\n",
       "  color: var(--sklearn-color-text);\n",
       "  background-color: var(--sklearn-color-unfitted-level-2);\n",
       "}\n",
       "\n",
       "#sk-container-id-1 div.sk-label.fitted input.sk-toggleable__control:checked~label.sk-toggleable__label {\n",
       "  background-color: var(--sklearn-color-fitted-level-2);\n",
       "}\n",
       "\n",
       "/* Estimator-specific style */\n",
       "\n",
       "/* Colorize estimator box */\n",
       "#sk-container-id-1 div.sk-estimator input.sk-toggleable__control:checked~label.sk-toggleable__label {\n",
       "  /* unfitted */\n",
       "  background-color: var(--sklearn-color-unfitted-level-2);\n",
       "}\n",
       "\n",
       "#sk-container-id-1 div.sk-estimator.fitted input.sk-toggleable__control:checked~label.sk-toggleable__label {\n",
       "  /* fitted */\n",
       "  background-color: var(--sklearn-color-fitted-level-2);\n",
       "}\n",
       "\n",
       "#sk-container-id-1 div.sk-label label.sk-toggleable__label,\n",
       "#sk-container-id-1 div.sk-label label {\n",
       "  /* The background is the default theme color */\n",
       "  color: var(--sklearn-color-text-on-default-background);\n",
       "}\n",
       "\n",
       "/* On hover, darken the color of the background */\n",
       "#sk-container-id-1 div.sk-label:hover label.sk-toggleable__label {\n",
       "  color: var(--sklearn-color-text);\n",
       "  background-color: var(--sklearn-color-unfitted-level-2);\n",
       "}\n",
       "\n",
       "/* Label box, darken color on hover, fitted */\n",
       "#sk-container-id-1 div.sk-label.fitted:hover label.sk-toggleable__label.fitted {\n",
       "  color: var(--sklearn-color-text);\n",
       "  background-color: var(--sklearn-color-fitted-level-2);\n",
       "}\n",
       "\n",
       "/* Estimator label */\n",
       "\n",
       "#sk-container-id-1 div.sk-label label {\n",
       "  font-family: monospace;\n",
       "  font-weight: bold;\n",
       "  display: inline-block;\n",
       "  line-height: 1.2em;\n",
       "}\n",
       "\n",
       "#sk-container-id-1 div.sk-label-container {\n",
       "  text-align: center;\n",
       "}\n",
       "\n",
       "/* Estimator-specific */\n",
       "#sk-container-id-1 div.sk-estimator {\n",
       "  font-family: monospace;\n",
       "  border: 1px dotted var(--sklearn-color-border-box);\n",
       "  border-radius: 0.25em;\n",
       "  box-sizing: border-box;\n",
       "  margin-bottom: 0.5em;\n",
       "  /* unfitted */\n",
       "  background-color: var(--sklearn-color-unfitted-level-0);\n",
       "}\n",
       "\n",
       "#sk-container-id-1 div.sk-estimator.fitted {\n",
       "  /* fitted */\n",
       "  background-color: var(--sklearn-color-fitted-level-0);\n",
       "}\n",
       "\n",
       "/* on hover */\n",
       "#sk-container-id-1 div.sk-estimator:hover {\n",
       "  /* unfitted */\n",
       "  background-color: var(--sklearn-color-unfitted-level-2);\n",
       "}\n",
       "\n",
       "#sk-container-id-1 div.sk-estimator.fitted:hover {\n",
       "  /* fitted */\n",
       "  background-color: var(--sklearn-color-fitted-level-2);\n",
       "}\n",
       "\n",
       "/* Specification for estimator info (e.g. \"i\" and \"?\") */\n",
       "\n",
       "/* Common style for \"i\" and \"?\" */\n",
       "\n",
       ".sk-estimator-doc-link,\n",
       "a:link.sk-estimator-doc-link,\n",
       "a:visited.sk-estimator-doc-link {\n",
       "  float: right;\n",
       "  font-size: smaller;\n",
       "  line-height: 1em;\n",
       "  font-family: monospace;\n",
       "  background-color: var(--sklearn-color-background);\n",
       "  border-radius: 1em;\n",
       "  height: 1em;\n",
       "  width: 1em;\n",
       "  text-decoration: none !important;\n",
       "  margin-left: 1ex;\n",
       "  /* unfitted */\n",
       "  border: var(--sklearn-color-unfitted-level-1) 1pt solid;\n",
       "  color: var(--sklearn-color-unfitted-level-1);\n",
       "}\n",
       "\n",
       ".sk-estimator-doc-link.fitted,\n",
       "a:link.sk-estimator-doc-link.fitted,\n",
       "a:visited.sk-estimator-doc-link.fitted {\n",
       "  /* fitted */\n",
       "  border: var(--sklearn-color-fitted-level-1) 1pt solid;\n",
       "  color: var(--sklearn-color-fitted-level-1);\n",
       "}\n",
       "\n",
       "/* On hover */\n",
       "div.sk-estimator:hover .sk-estimator-doc-link:hover,\n",
       ".sk-estimator-doc-link:hover,\n",
       "div.sk-label-container:hover .sk-estimator-doc-link:hover,\n",
       ".sk-estimator-doc-link:hover {\n",
       "  /* unfitted */\n",
       "  background-color: var(--sklearn-color-unfitted-level-3);\n",
       "  color: var(--sklearn-color-background);\n",
       "  text-decoration: none;\n",
       "}\n",
       "\n",
       "div.sk-estimator.fitted:hover .sk-estimator-doc-link.fitted:hover,\n",
       ".sk-estimator-doc-link.fitted:hover,\n",
       "div.sk-label-container:hover .sk-estimator-doc-link.fitted:hover,\n",
       ".sk-estimator-doc-link.fitted:hover {\n",
       "  /* fitted */\n",
       "  background-color: var(--sklearn-color-fitted-level-3);\n",
       "  color: var(--sklearn-color-background);\n",
       "  text-decoration: none;\n",
       "}\n",
       "\n",
       "/* Span, style for the box shown on hovering the info icon */\n",
       ".sk-estimator-doc-link span {\n",
       "  display: none;\n",
       "  z-index: 9999;\n",
       "  position: relative;\n",
       "  font-weight: normal;\n",
       "  right: .2ex;\n",
       "  padding: .5ex;\n",
       "  margin: .5ex;\n",
       "  width: min-content;\n",
       "  min-width: 20ex;\n",
       "  max-width: 50ex;\n",
       "  color: var(--sklearn-color-text);\n",
       "  box-shadow: 2pt 2pt 4pt #999;\n",
       "  /* unfitted */\n",
       "  background: var(--sklearn-color-unfitted-level-0);\n",
       "  border: .5pt solid var(--sklearn-color-unfitted-level-3);\n",
       "}\n",
       "\n",
       ".sk-estimator-doc-link.fitted span {\n",
       "  /* fitted */\n",
       "  background: var(--sklearn-color-fitted-level-0);\n",
       "  border: var(--sklearn-color-fitted-level-3);\n",
       "}\n",
       "\n",
       ".sk-estimator-doc-link:hover span {\n",
       "  display: block;\n",
       "}\n",
       "\n",
       "/* \"?\"-specific style due to the `<a>` HTML tag */\n",
       "\n",
       "#sk-container-id-1 a.estimator_doc_link {\n",
       "  float: right;\n",
       "  font-size: 1rem;\n",
       "  line-height: 1em;\n",
       "  font-family: monospace;\n",
       "  background-color: var(--sklearn-color-background);\n",
       "  border-radius: 1rem;\n",
       "  height: 1rem;\n",
       "  width: 1rem;\n",
       "  text-decoration: none;\n",
       "  /* unfitted */\n",
       "  color: var(--sklearn-color-unfitted-level-1);\n",
       "  border: var(--sklearn-color-unfitted-level-1) 1pt solid;\n",
       "}\n",
       "\n",
       "#sk-container-id-1 a.estimator_doc_link.fitted {\n",
       "  /* fitted */\n",
       "  border: var(--sklearn-color-fitted-level-1) 1pt solid;\n",
       "  color: var(--sklearn-color-fitted-level-1);\n",
       "}\n",
       "\n",
       "/* On hover */\n",
       "#sk-container-id-1 a.estimator_doc_link:hover {\n",
       "  /* unfitted */\n",
       "  background-color: var(--sklearn-color-unfitted-level-3);\n",
       "  color: var(--sklearn-color-background);\n",
       "  text-decoration: none;\n",
       "}\n",
       "\n",
       "#sk-container-id-1 a.estimator_doc_link.fitted:hover {\n",
       "  /* fitted */\n",
       "  background-color: var(--sklearn-color-fitted-level-3);\n",
       "}\n",
       "</style><div id=\"sk-container-id-1\" class=\"sk-top-container\"><div class=\"sk-text-repr-fallback\"><pre>LinearRegression()</pre><b>In a Jupyter environment, please rerun this cell to show the HTML representation or trust the notebook. <br />On GitHub, the HTML representation is unable to render, please try loading this page with nbviewer.org.</b></div><div class=\"sk-container\" hidden><div class=\"sk-item\"><div class=\"sk-estimator fitted sk-toggleable\"><input class=\"sk-toggleable__control sk-hidden--visually\" id=\"sk-estimator-id-1\" type=\"checkbox\" checked><label for=\"sk-estimator-id-1\" class=\"sk-toggleable__label fitted sk-toggleable__label-arrow fitted\">&nbsp;&nbsp;LinearRegression<a class=\"sk-estimator-doc-link fitted\" rel=\"noreferrer\" target=\"_blank\" href=\"https://scikit-learn.org/1.5/modules/generated/sklearn.linear_model.LinearRegression.html\">?<span>Documentation for LinearRegression</span></a><span class=\"sk-estimator-doc-link fitted\">i<span>Fitted</span></span></label><div class=\"sk-toggleable__content fitted\"><pre>LinearRegression()</pre></div> </div></div></div></div>"
      ],
      "text/plain": [
       "LinearRegression()"
      ]
     },
     "execution_count": 15,
     "metadata": {},
     "output_type": "execute_result"
    }
   ],
   "source": [
    "from sklearn.linear_model import LinearRegression\n",
    "\n",
    "# 1. Instantiate the model\n",
    "linear_regression_model = LinearRegression()\n",
    "\n",
    "# 2. Fit the model\n",
    "linear_regression_model.fit(X, y)"
   ]
  },
  {
   "cell_type": "markdown",
   "metadata": {},
   "source": [
    "The `linear_regression_model` object now holds all of the information about our model. There is no summary table as when we used the `statsmodels` package, but we can extract those values one-by-one if required.\n",
    "\n",
    "In fact, to see what is stored within the `linear_regression_model` variable, we can add a period at the end in a block of code hit tab. This should pull out a list of methods and attributes specific to that variable and display them via Jupyter's autocomplete functionality:"
   ]
  },
  {
   "cell_type": "code",
   "execution_count": 16,
   "metadata": {},
   "outputs": [],
   "source": [
    "# uncomment the following line, place your cursor at the end of the line and click tab\n",
    "# linear_regression_model."
   ]
  },
  {
   "cell_type": "markdown",
   "metadata": {},
   "source": [
    "Calculated model parameters and other special values related to the `.fit()` method in sklearn objects are stored in attributes with names ending in an underscore (`_`). For our linear regression model, the coefficients and intercept are contained in the following:\n",
    "\n",
    "**Intercept**: `linear_regression_model.intercept_`\n",
    "\n",
    "**Coefficients**: `linear_regression_model.coef_`\n",
    "\n",
    "Other statistics that we know from using `statsmodels` (such as $p$-values) are not calculated in `scikit-learn`. This is because this package is machine-learning oriented and focuses more on predictions, rather than statistical details. "
   ]
  },
  {
   "cell_type": "markdown",
   "metadata": {},
   "source": [
    "We can always pull out the intercept and coefficients if needed:"
   ]
  },
  {
   "cell_type": "code",
   "execution_count": 17,
   "metadata": {},
   "outputs": [
    {
     "name": "stdout",
     "output_type": "stream",
     "text": [
      "Intercept: 0.4508557670326798\n",
      "Coefficients: 0.41793849201896255\n"
     ]
    }
   ],
   "source": [
    "#The intercept\n",
    "intercept = linear_regression_model.intercept_\n",
    "\n",
    "#The coefficient, notice it returns an array with one spot for each feature\n",
    "coefficient = linear_regression_model.coef_[0]\n",
    "\n",
    "print(f'Intercept: {intercept}')\n",
    "print(f'Coefficients: {coefficient}')\n"
   ]
  },
  {
   "cell_type": "markdown",
   "metadata": {},
   "source": [
    "And we can plot our model:"
   ]
  },
  {
   "cell_type": "code",
   "execution_count": 18,
   "metadata": {},
   "outputs": [
    {
     "data": {
      "image/png": "[encoded data removed]",
      "text/plain": [
       "<Figure size 640x480 with 1 Axes>"
      ]
     },
     "metadata": {},
     "output_type": "display_data"
    }
   ],
   "source": [
    "# define line of best fit, (y = m*x + b)\n",
    "y_model = coefficient*X + intercept\n",
    "\n",
    "# create the plot\n",
    "plt.figure()\n",
    "plt.scatter(X, y, color='red')  # plot the data\n",
    "plt.plot(X, y_model, color='purple', linewidth=3)  # plot the line of best fit\n",
    "plt.xlabel('Median income on the block')\n",
    "plt.ylabel('House price')\n",
    "plt.show()"
   ]
  },
  {
   "cell_type": "markdown",
   "metadata": {},
   "source": [
    "Fitting any other model essentially follows the same process, once we have the data loaded into a format scikit-learn can use we:\n",
    "1. Pick and instantiate a model with `my_model_instance = sklearn_model()`\n",
    "2. Fit the model to the data with `my_model_instance.fit(X, y)`"
   ]
  },
  {
   "cell_type": "markdown",
   "metadata": {},
   "source": [
    "#### Making Predictions and Evaluating\n",
    "\n",
    "Once we have fit a model to the features, $X$, and target, $y$, we can test the relationship it learned between the dependent and independent variables. \n",
    "\n",
    "Given a set of independent variables $X'$ (which may or may not be the same as our original $X$), we can use `my_model_instance.predict(X')` to find what the model thinks the corresponding dependent variable ($y'$) is.\n",
    "\n",
    "Let's pass in the original $X$ data to get our model's prediction for each data point:"
   ]
  },
  {
   "cell_type": "code",
   "execution_count": 19,
   "metadata": {},
   "outputs": [],
   "source": [
    "model_prediction = linear_regression_model.predict(X)"
   ]
  },
  {
   "cell_type": "markdown",
   "metadata": {},
   "source": [
    "If we want to visualize the model predictions and the actual values together we can plot them:"
   ]
  },
  {
   "cell_type": "code",
   "execution_count": 20,
   "metadata": {},
   "outputs": [
    {
     "data": {
      "image/png": "[encoded data removed]",
      "text/plain": [
       "<Figure size 640x480 with 1 Axes>"
      ]
     },
     "metadata": {},
     "output_type": "display_data"
    }
   ],
   "source": [
    "plt.figure()\n",
    "plt.scatter(X, y, c='red', label='data') # plot original data\n",
    "plt.scatter(X, model_prediction, c='blue', label='predictions') # plot predictions\n",
    "plt.legend()\n",
    "plt.xlabel('Median income on the block')\n",
    "plt.ylabel('House price')\n",
    "plt.show()"
   ]
  },
  {
   "cell_type": "markdown",
   "metadata": {},
   "source": [
    "As expected, these predictions lie right on the line of best fit and they don't seem to match the data well. We can get an empirical evaluation of the model using the $R^2$, which we can calculate using the `r2_score` function from the `metrics` sub-module:"
   ]
  },
  {
   "cell_type": "code",
   "execution_count": 21,
   "metadata": {},
   "outputs": [
    {
     "name": "stdout",
     "output_type": "stream",
     "text": [
      "The R2 score: 0.47344749180719903\n"
     ]
    }
   ],
   "source": [
    "from sklearn.metrics import r2_score\n",
    "\n",
    "# Evaluate the model\n",
    "print(f'The R2 score: {r2_score(y, model_prediction)}')"
   ]
  },
  {
   "cell_type": "markdown",
   "metadata": {},
   "source": [
    "The intuition we had from the plots turned out to be true, the model wasn't a great fit to the data."
   ]
  },
  {
   "cell_type": "markdown",
   "metadata": {},
   "source": [
    "Above we used 2 steps to get the $R^2$ score: \n",
    "\n",
    "- `my_model.predict()`\n",
    "- `r2_score()`\n",
    "\n",
    "To get the $R^2$ in 1 step, we can use our model's built-in scoring method: `my_model.score()`"
   ]
  },
  {
   "cell_type": "code",
   "execution_count": 22,
   "metadata": {},
   "outputs": [
    {
     "data": {
      "text/plain": [
       "0.47344749180719903"
      ]
     },
     "execution_count": 22,
     "metadata": {},
     "output_type": "execute_result"
    }
   ],
   "source": [
    "# 3. Scoring the model\n",
    "linear_regression_model.score(X, y)"
   ]
  },
  {
   "cell_type": "markdown",
   "metadata": {},
   "source": [
    "The `.score()` method returns different scores for different types of models — so bear this in mind depending on the type of problem you are working on and be careful in your interpretations. For regression models, `.score()` returns the $R^2$ score. For classification models, it returns the accuracy score, as we will see shortly with a logistic regression example."
   ]
  },
  {
   "cell_type": "markdown",
   "metadata": {},
   "source": [
    "#### Summary\n",
    "\n",
    "In summary, fitting any model in `scikit-learn` consists of 3 steps: \n",
    "\n",
    "1. Instantiate\n",
    "2. Fit \n",
    "3. Score"
   ]
  },
  {
   "cell_type": "markdown",
   "metadata": {},
   "source": [
    "---\n",
    "---\n",
    "## When importing a pkl/model need to make sure:\n",
    "- #### CHECK THE SHAPE\n",
    "    -  Feature matrix, X, must be 2-Dimensional: (nrows, ncols)\n",
    "    -  Target vector, y, must be 1-Dimensional, i.e. a vector (nrows,)\n",
    "---\n",
    "---"
   ]
  },
  {
   "cell_type": "code",
   "execution_count": 23,
   "metadata": {},
   "outputs": [
    {
     "data": {
      "text/plain": [
       "array([[8.3252],\n",
       "       [8.3014],\n",
       "       [7.2574],\n",
       "       ...,\n",
       "       [1.7   ],\n",
       "       [1.8672],\n",
       "       [2.3886]])"
      ]
     },
     "execution_count": 23,
     "metadata": {},
     "output_type": "execute_result"
    }
   ],
   "source": [
    "# Independent variables\n",
    "X.shape\n",
    "X"
   ]
  },
  {
   "cell_type": "code",
   "execution_count": 24,
   "metadata": {},
   "outputs": [
    {
     "data": {
      "text/plain": [
       "array([4.526, 3.585, 3.521, ..., 0.923, 0.847, 0.894])"
      ]
     },
     "execution_count": 24,
     "metadata": {},
     "output_type": "execute_result"
    }
   ],
   "source": [
    "# Dependent variables\n",
    "y.shape\n",
    "y"
   ]
  },
  {
   "cell_type": "markdown",
   "metadata": {},
   "source": [
    "#### Saving a Model\n",
    "\n",
    "Once we have a model that we are happy with, we often want to save it for future use. `scikit-learn` models may be saved as `.pkl` files, and we can create them using the `joblib.dump()` function.\n",
    "\n",
    "All we need to do is import the function, and specify the model instance we'd like to save and filename we want to use."
   ]
  },
  {
   "cell_type": "code",
   "execution_count": 25,
   "metadata": {},
   "outputs": [
    {
     "data": {
      "text/plain": [
       "['my_linreg_model.pkl']"
      ]
     },
     "execution_count": 25,
     "metadata": {},
     "output_type": "execute_result"
    }
   ],
   "source": [
    "import joblib\n",
    "\n",
    "joblib.dump(linear_regression_model, 'my_linreg_model.pkl') "
   ]
  },
  {
   "cell_type": "markdown",
   "metadata": {},
   "source": [
    "We can now reload the model into a variable anytime we'd like to use it. (This can even be done in a new notebook or a different computer as long as the file is accessible.)"
   ]
  },
  {
   "cell_type": "code",
   "execution_count": 26,
   "metadata": {},
   "outputs": [],
   "source": [
    "my_new_model = joblib.load('my_linreg_model.pkl') "
   ]
  },
  {
   "cell_type": "markdown",
   "metadata": {},
   "source": [
    "This model can now be used exactly as the original one was, as all the model parameters and attributes calculated during the fitting step have been saved:"
   ]
  },
  {
   "cell_type": "code",
   "execution_count": 27,
   "metadata": {},
   "outputs": [
    {
     "name": "stdout",
     "output_type": "stream",
     "text": [
      "0.47344749180719903\n"
     ]
    }
   ],
   "source": [
    "print(my_new_model.score(X, y))"
   ]
  },
  {
   "cell_type": "markdown",
   "metadata": {},
   "source": [
    "### Example: Fitting a Logistic Regression Model\n",
    "\n",
    "We will now look at fitting a logistic regression model with `scikit-learn`. We will be using a randomly generated data set."
   ]
  },
  {
   "cell_type": "code",
   "execution_count": 28,
   "metadata": {},
   "outputs": [],
   "source": [
    "np.random.seed(12345)\n",
    "# Generating data of two classes\n",
    "\n",
    "# Data has one feature where the first 20 data points come from one distribution\n",
    "# and the other 20 come from a different distribution (to mimic two classes)\n",
    "X = pd.DataFrame(np.array(np.concatenate((np.random.randn(20) + (-1), np.random.randn(20) + (+1)), axis=0)),\n",
    "                 columns=['mydata'])\n",
    "\n",
    "# The target contains 20 1's and 20 0's\n",
    "y = pd.Series(np.full((40), 0))\n",
    "y.loc[:20] = 1"
   ]
  },
  {
   "cell_type": "markdown",
   "metadata": {},
   "source": [
    "---\n",
    "---\n",
    "## When importing a pkl/model need to make sure:\n",
    "- #### CHECK THE SHAPE\n",
    "    -  Feature matrix, X, must be 2-Dimensional: (nrows, ncols)\n",
    "    -  Target vector, y, must be 1-Dimensional, i.e. a vector (nrows,)\n",
    "---\n",
    "---"
   ]
  },
  {
   "cell_type": "markdown",
   "metadata": {},
   "source": [
    "#### Check the Shape of the Data \n",
    "\n",
    "Remember that we have to check the shape of the data and it has to be in the following format:\n",
    "- the features matrix, $X$ must be two dimensional: `(nrows, ncols)`\n",
    "- the target vector, $y$ must be one dimensional, *i.e.* a vector: `(nrows,)`"
   ]
  },
  {
   "cell_type": "code",
   "execution_count": 29,
   "metadata": {},
   "outputs": [
    {
     "data": {
      "text/plain": [
       "(40, 1)"
      ]
     },
     "execution_count": 29,
     "metadata": {},
     "output_type": "execute_result"
    }
   ],
   "source": [
    "X.shape"
   ]
  },
  {
   "cell_type": "code",
   "execution_count": 30,
   "metadata": {},
   "outputs": [
    {
     "data": {
      "text/plain": [
       "(40,)"
      ]
     },
     "execution_count": 30,
     "metadata": {},
     "output_type": "execute_result"
    }
   ],
   "source": [
    "y.shape"
   ]
  },
  {
   "cell_type": "markdown",
   "metadata": {},
   "source": [
    "This is exactly what we need! We can move on to fitting a model."
   ]
  },
  {
   "cell_type": "markdown",
   "metadata": {},
   "source": [
    "Remember that we will need to complete three steps in the model fitting process: \n",
    "\n",
    "1. Instantiate\n",
    "2. Fit\n",
    "3. Score\n",
    "\n",
    "But since this is a classification task, we will use a `LogisticRegression` model (also imported from the `linear_model` module):"
   ]
  },
  {
   "cell_type": "code",
   "execution_count": 31,
   "metadata": {},
   "outputs": [
    {
     "data": {
      "text/html": [
       "<style>#sk-container-id-2 {\n",
       "  /* Definition of color scheme common for light and dark mode */\n",
       "  --sklearn-color-text: black;\n",
       "  --sklearn-color-line: gray;\n",
       "  /* Definition of color scheme for unfitted estimators */\n",
       "  --sklearn-color-unfitted-level-0: #fff5e6;\n",
       "  --sklearn-color-unfitted-level-1: #f6e4d2;\n",
       "  --sklearn-color-unfitted-level-2: #ffe0b3;\n",
       "  --sklearn-color-unfitted-level-3: chocolate;\n",
       "  /* Definition of color scheme for fitted estimators */\n",
       "  --sklearn-color-fitted-level-0: #f0f8ff;\n",
       "  --sklearn-color-fitted-level-1: #d4ebff;\n",
       "  --sklearn-color-fitted-level-2: #b3dbfd;\n",
       "  --sklearn-color-fitted-level-3: cornflowerblue;\n",
       "\n",
       "  /* Specific color for light theme */\n",
       "  --sklearn-color-text-on-default-background: var(--sg-text-color, var(--theme-code-foreground, var(--jp-content-font-color1, black)));\n",
       "  --sklearn-color-background: var(--sg-background-color, var(--theme-background, var(--jp-layout-color0, white)));\n",
       "  --sklearn-color-border-box: var(--sg-text-color, var(--theme-code-foreground, var(--jp-content-font-color1, black)));\n",
       "  --sklearn-color-icon: #696969;\n",
       "\n",
       "  @media (prefers-color-scheme: dark) {\n",
       "    /* Redefinition of color scheme for dark theme */\n",
       "    --sklearn-color-text-on-default-background: var(--sg-text-color, var(--theme-code-foreground, var(--jp-content-font-color1, white)));\n",
       "    --sklearn-color-background: var(--sg-background-color, var(--theme-background, var(--jp-layout-color0, #111)));\n",
       "    --sklearn-color-border-box: var(--sg-text-color, var(--theme-code-foreground, var(--jp-content-font-color1, white)));\n",
       "    --sklearn-color-icon: #878787;\n",
       "  }\n",
       "}\n",
       "\n",
       "#sk-container-id-2 {\n",
       "  color: var(--sklearn-color-text);\n",
       "}\n",
       "\n",
       "#sk-container-id-2 pre {\n",
       "  padding: 0;\n",
       "}\n",
       "\n",
       "#sk-container-id-2 input.sk-hidden--visually {\n",
       "  border: 0;\n",
       "  clip: rect(1px 1px 1px 1px);\n",
       "  clip: rect(1px, 1px, 1px, 1px);\n",
       "  height: 1px;\n",
       "  margin: -1px;\n",
       "  overflow: hidden;\n",
       "  padding: 0;\n",
       "  position: absolute;\n",
       "  width: 1px;\n",
       "}\n",
       "\n",
       "#sk-container-id-2 div.sk-dashed-wrapped {\n",
       "  border: 1px dashed var(--sklearn-color-line);\n",
       "  margin: 0 0.4em 0.5em 0.4em;\n",
       "  box-sizing: border-box;\n",
       "  padding-bottom: 0.4em;\n",
       "  background-color: var(--sklearn-color-background);\n",
       "}\n",
       "\n",
       "#sk-container-id-2 div.sk-container {\n",
       "  /* jupyter's `normalize.less` sets `[hidden] { display: none; }`\n",
       "     but bootstrap.min.css set `[hidden] { display: none !important; }`\n",
       "     so we also need the `!important` here to be able to override the\n",
       "     default hidden behavior on the sphinx rendered scikit-learn.org.\n",
       "     See: https://github.com/scikit-learn/scikit-learn/issues/21755 */\n",
       "  display: inline-block !important;\n",
       "  position: relative;\n",
       "}\n",
       "\n",
       "#sk-container-id-2 div.sk-text-repr-fallback {\n",
       "  display: none;\n",
       "}\n",
       "\n",
       "div.sk-parallel-item,\n",
       "div.sk-serial,\n",
       "div.sk-item {\n",
       "  /* draw centered vertical line to link estimators */\n",
       "  background-image: linear-gradient(var(--sklearn-color-text-on-default-background), var(--sklearn-color-text-on-default-background));\n",
       "  background-size: 2px 100%;\n",
       "  background-repeat: no-repeat;\n",
       "  background-position: center center;\n",
       "}\n",
       "\n",
       "/* Parallel-specific style estimator block */\n",
       "\n",
       "#sk-container-id-2 div.sk-parallel-item::after {\n",
       "  content: \"\";\n",
       "  width: 100%;\n",
       "  border-bottom: 2px solid var(--sklearn-color-text-on-default-background);\n",
       "  flex-grow: 1;\n",
       "}\n",
       "\n",
       "#sk-container-id-2 div.sk-parallel {\n",
       "  display: flex;\n",
       "  align-items: stretch;\n",
       "  justify-content: center;\n",
       "  background-color: var(--sklearn-color-background);\n",
       "  position: relative;\n",
       "}\n",
       "\n",
       "#sk-container-id-2 div.sk-parallel-item {\n",
       "  display: flex;\n",
       "  flex-direction: column;\n",
       "}\n",
       "\n",
       "#sk-container-id-2 div.sk-parallel-item:first-child::after {\n",
       "  align-self: flex-end;\n",
       "  width: 50%;\n",
       "}\n",
       "\n",
       "#sk-container-id-2 div.sk-parallel-item:last-child::after {\n",
       "  align-self: flex-start;\n",
       "  width: 50%;\n",
       "}\n",
       "\n",
       "#sk-container-id-2 div.sk-parallel-item:only-child::after {\n",
       "  width: 0;\n",
       "}\n",
       "\n",
       "/* Serial-specific style estimator block */\n",
       "\n",
       "#sk-container-id-2 div.sk-serial {\n",
       "  display: flex;\n",
       "  flex-direction: column;\n",
       "  align-items: center;\n",
       "  background-color: var(--sklearn-color-background);\n",
       "  padding-right: 1em;\n",
       "  padding-left: 1em;\n",
       "}\n",
       "\n",
       "\n",
       "/* Toggleable style: style used for estimator/Pipeline/ColumnTransformer box that is\n",
       "clickable and can be expanded/collapsed.\n",
       "- Pipeline and ColumnTransformer use this feature and define the default style\n",
       "- Estimators will overwrite some part of the style using the `sk-estimator` class\n",
       "*/\n",
       "\n",
       "/* Pipeline and ColumnTransformer style (default) */\n",
       "\n",
       "#sk-container-id-2 div.sk-toggleable {\n",
       "  /* Default theme specific background. It is overwritten whether we have a\n",
       "  specific estimator or a Pipeline/ColumnTransformer */\n",
       "  background-color: var(--sklearn-color-background);\n",
       "}\n",
       "\n",
       "/* Toggleable label */\n",
       "#sk-container-id-2 label.sk-toggleable__label {\n",
       "  cursor: pointer;\n",
       "  display: block;\n",
       "  width: 100%;\n",
       "  margin-bottom: 0;\n",
       "  padding: 0.5em;\n",
       "  box-sizing: border-box;\n",
       "  text-align: center;\n",
       "}\n",
       "\n",
       "#sk-container-id-2 label.sk-toggleable__label-arrow:before {\n",
       "  /* Arrow on the left of the label */\n",
       "  content: \"▸\";\n",
       "  float: left;\n",
       "  margin-right: 0.25em;\n",
       "  color: var(--sklearn-color-icon);\n",
       "}\n",
       "\n",
       "#sk-container-id-2 label.sk-toggleable__label-arrow:hover:before {\n",
       "  color: var(--sklearn-color-text);\n",
       "}\n",
       "\n",
       "/* Toggleable content - dropdown */\n",
       "\n",
       "#sk-container-id-2 div.sk-toggleable__content {\n",
       "  max-height: 0;\n",
       "  max-width: 0;\n",
       "  overflow: hidden;\n",
       "  text-align: left;\n",
       "  /* unfitted */\n",
       "  background-color: var(--sklearn-color-unfitted-level-0);\n",
       "}\n",
       "\n",
       "#sk-container-id-2 div.sk-toggleable__content.fitted {\n",
       "  /* fitted */\n",
       "  background-color: var(--sklearn-color-fitted-level-0);\n",
       "}\n",
       "\n",
       "#sk-container-id-2 div.sk-toggleable__content pre {\n",
       "  margin: 0.2em;\n",
       "  border-radius: 0.25em;\n",
       "  color: var(--sklearn-color-text);\n",
       "  /* unfitted */\n",
       "  background-color: var(--sklearn-color-unfitted-level-0);\n",
       "}\n",
       "\n",
       "#sk-container-id-2 div.sk-toggleable__content.fitted pre {\n",
       "  /* unfitted */\n",
       "  background-color: var(--sklearn-color-fitted-level-0);\n",
       "}\n",
       "\n",
       "#sk-container-id-2 input.sk-toggleable__control:checked~div.sk-toggleable__content {\n",
       "  /* Expand drop-down */\n",
       "  max-height: 200px;\n",
       "  max-width: 100%;\n",
       "  overflow: auto;\n",
       "}\n",
       "\n",
       "#sk-container-id-2 input.sk-toggleable__control:checked~label.sk-toggleable__label-arrow:before {\n",
       "  content: \"▾\";\n",
       "}\n",
       "\n",
       "/* Pipeline/ColumnTransformer-specific style */\n",
       "\n",
       "#sk-container-id-2 div.sk-label input.sk-toggleable__control:checked~label.sk-toggleable__label {\n",
       "  color: var(--sklearn-color-text);\n",
       "  background-color: var(--sklearn-color-unfitted-level-2);\n",
       "}\n",
       "\n",
       "#sk-container-id-2 div.sk-label.fitted input.sk-toggleable__control:checked~label.sk-toggleable__label {\n",
       "  background-color: var(--sklearn-color-fitted-level-2);\n",
       "}\n",
       "\n",
       "/* Estimator-specific style */\n",
       "\n",
       "/* Colorize estimator box */\n",
       "#sk-container-id-2 div.sk-estimator input.sk-toggleable__control:checked~label.sk-toggleable__label {\n",
       "  /* unfitted */\n",
       "  background-color: var(--sklearn-color-unfitted-level-2);\n",
       "}\n",
       "\n",
       "#sk-container-id-2 div.sk-estimator.fitted input.sk-toggleable__control:checked~label.sk-toggleable__label {\n",
       "  /* fitted */\n",
       "  background-color: var(--sklearn-color-fitted-level-2);\n",
       "}\n",
       "\n",
       "#sk-container-id-2 div.sk-label label.sk-toggleable__label,\n",
       "#sk-container-id-2 div.sk-label label {\n",
       "  /* The background is the default theme color */\n",
       "  color: var(--sklearn-color-text-on-default-background);\n",
       "}\n",
       "\n",
       "/* On hover, darken the color of the background */\n",
       "#sk-container-id-2 div.sk-label:hover label.sk-toggleable__label {\n",
       "  color: var(--sklearn-color-text);\n",
       "  background-color: var(--sklearn-color-unfitted-level-2);\n",
       "}\n",
       "\n",
       "/* Label box, darken color on hover, fitted */\n",
       "#sk-container-id-2 div.sk-label.fitted:hover label.sk-toggleable__label.fitted {\n",
       "  color: var(--sklearn-color-text);\n",
       "  background-color: var(--sklearn-color-fitted-level-2);\n",
       "}\n",
       "\n",
       "/* Estimator label */\n",
       "\n",
       "#sk-container-id-2 div.sk-label label {\n",
       "  font-family: monospace;\n",
       "  font-weight: bold;\n",
       "  display: inline-block;\n",
       "  line-height: 1.2em;\n",
       "}\n",
       "\n",
       "#sk-container-id-2 div.sk-label-container {\n",
       "  text-align: center;\n",
       "}\n",
       "\n",
       "/* Estimator-specific */\n",
       "#sk-container-id-2 div.sk-estimator {\n",
       "  font-family: monospace;\n",
       "  border: 1px dotted var(--sklearn-color-border-box);\n",
       "  border-radius: 0.25em;\n",
       "  box-sizing: border-box;\n",
       "  margin-bottom: 0.5em;\n",
       "  /* unfitted */\n",
       "  background-color: var(--sklearn-color-unfitted-level-0);\n",
       "}\n",
       "\n",
       "#sk-container-id-2 div.sk-estimator.fitted {\n",
       "  /* fitted */\n",
       "  background-color: var(--sklearn-color-fitted-level-0);\n",
       "}\n",
       "\n",
       "/* on hover */\n",
       "#sk-container-id-2 div.sk-estimator:hover {\n",
       "  /* unfitted */\n",
       "  background-color: var(--sklearn-color-unfitted-level-2);\n",
       "}\n",
       "\n",
       "#sk-container-id-2 div.sk-estimator.fitted:hover {\n",
       "  /* fitted */\n",
       "  background-color: var(--sklearn-color-fitted-level-2);\n",
       "}\n",
       "\n",
       "/* Specification for estimator info (e.g. \"i\" and \"?\") */\n",
       "\n",
       "/* Common style for \"i\" and \"?\" */\n",
       "\n",
       ".sk-estimator-doc-link,\n",
       "a:link.sk-estimator-doc-link,\n",
       "a:visited.sk-estimator-doc-link {\n",
       "  float: right;\n",
       "  font-size: smaller;\n",
       "  line-height: 1em;\n",
       "  font-family: monospace;\n",
       "  background-color: var(--sklearn-color-background);\n",
       "  border-radius: 1em;\n",
       "  height: 1em;\n",
       "  width: 1em;\n",
       "  text-decoration: none !important;\n",
       "  margin-left: 1ex;\n",
       "  /* unfitted */\n",
       "  border: var(--sklearn-color-unfitted-level-1) 1pt solid;\n",
       "  color: var(--sklearn-color-unfitted-level-1);\n",
       "}\n",
       "\n",
       ".sk-estimator-doc-link.fitted,\n",
       "a:link.sk-estimator-doc-link.fitted,\n",
       "a:visited.sk-estimator-doc-link.fitted {\n",
       "  /* fitted */\n",
       "  border: var(--sklearn-color-fitted-level-1) 1pt solid;\n",
       "  color: var(--sklearn-color-fitted-level-1);\n",
       "}\n",
       "\n",
       "/* On hover */\n",
       "div.sk-estimator:hover .sk-estimator-doc-link:hover,\n",
       ".sk-estimator-doc-link:hover,\n",
       "div.sk-label-container:hover .sk-estimator-doc-link:hover,\n",
       ".sk-estimator-doc-link:hover {\n",
       "  /* unfitted */\n",
       "  background-color: var(--sklearn-color-unfitted-level-3);\n",
       "  color: var(--sklearn-color-background);\n",
       "  text-decoration: none;\n",
       "}\n",
       "\n",
       "div.sk-estimator.fitted:hover .sk-estimator-doc-link.fitted:hover,\n",
       ".sk-estimator-doc-link.fitted:hover,\n",
       "div.sk-label-container:hover .sk-estimator-doc-link.fitted:hover,\n",
       ".sk-estimator-doc-link.fitted:hover {\n",
       "  /* fitted */\n",
       "  background-color: var(--sklearn-color-fitted-level-3);\n",
       "  color: var(--sklearn-color-background);\n",
       "  text-decoration: none;\n",
       "}\n",
       "\n",
       "/* Span, style for the box shown on hovering the info icon */\n",
       ".sk-estimator-doc-link span {\n",
       "  display: none;\n",
       "  z-index: 9999;\n",
       "  position: relative;\n",
       "  font-weight: normal;\n",
       "  right: .2ex;\n",
       "  padding: .5ex;\n",
       "  margin: .5ex;\n",
       "  width: min-content;\n",
       "  min-width: 20ex;\n",
       "  max-width: 50ex;\n",
       "  color: var(--sklearn-color-text);\n",
       "  box-shadow: 2pt 2pt 4pt #999;\n",
       "  /* unfitted */\n",
       "  background: var(--sklearn-color-unfitted-level-0);\n",
       "  border: .5pt solid var(--sklearn-color-unfitted-level-3);\n",
       "}\n",
       "\n",
       ".sk-estimator-doc-link.fitted span {\n",
       "  /* fitted */\n",
       "  background: var(--sklearn-color-fitted-level-0);\n",
       "  border: var(--sklearn-color-fitted-level-3);\n",
       "}\n",
       "\n",
       ".sk-estimator-doc-link:hover span {\n",
       "  display: block;\n",
       "}\n",
       "\n",
       "/* \"?\"-specific style due to the `<a>` HTML tag */\n",
       "\n",
       "#sk-container-id-2 a.estimator_doc_link {\n",
       "  float: right;\n",
       "  font-size: 1rem;\n",
       "  line-height: 1em;\n",
       "  font-family: monospace;\n",
       "  background-color: var(--sklearn-color-background);\n",
       "  border-radius: 1rem;\n",
       "  height: 1rem;\n",
       "  width: 1rem;\n",
       "  text-decoration: none;\n",
       "  /* unfitted */\n",
       "  color: var(--sklearn-color-unfitted-level-1);\n",
       "  border: var(--sklearn-color-unfitted-level-1) 1pt solid;\n",
       "}\n",
       "\n",
       "#sk-container-id-2 a.estimator_doc_link.fitted {\n",
       "  /* fitted */\n",
       "  border: var(--sklearn-color-fitted-level-1) 1pt solid;\n",
       "  color: var(--sklearn-color-fitted-level-1);\n",
       "}\n",
       "\n",
       "/* On hover */\n",
       "#sk-container-id-2 a.estimator_doc_link:hover {\n",
       "  /* unfitted */\n",
       "  background-color: var(--sklearn-color-unfitted-level-3);\n",
       "  color: var(--sklearn-color-background);\n",
       "  text-decoration: none;\n",
       "}\n",
       "\n",
       "#sk-container-id-2 a.estimator_doc_link.fitted:hover {\n",
       "  /* fitted */\n",
       "  background-color: var(--sklearn-color-fitted-level-3);\n",
       "}\n",
       "</style><div id=\"sk-container-id-2\" class=\"sk-top-container\"><div class=\"sk-text-repr-fallback\"><pre>LogisticRegression()</pre><b>In a Jupyter environment, please rerun this cell to show the HTML representation or trust the notebook. <br />On GitHub, the HTML representation is unable to render, please try loading this page with nbviewer.org.</b></div><div class=\"sk-container\" hidden><div class=\"sk-item\"><div class=\"sk-estimator fitted sk-toggleable\"><input class=\"sk-toggleable__control sk-hidden--visually\" id=\"sk-estimator-id-2\" type=\"checkbox\" checked><label for=\"sk-estimator-id-2\" class=\"sk-toggleable__label fitted sk-toggleable__label-arrow fitted\">&nbsp;&nbsp;LogisticRegression<a class=\"sk-estimator-doc-link fitted\" rel=\"noreferrer\" target=\"_blank\" href=\"https://scikit-learn.org/1.5/modules/generated/sklearn.linear_model.LogisticRegression.html\">?<span>Documentation for LogisticRegression</span></a><span class=\"sk-estimator-doc-link fitted\">i<span>Fitted</span></span></label><div class=\"sk-toggleable__content fitted\"><pre>LogisticRegression()</pre></div> </div></div></div></div>"
      ],
      "text/plain": [
       "LogisticRegression()"
      ]
     },
     "execution_count": 31,
     "metadata": {},
     "output_type": "execute_result"
    }
   ],
   "source": [
    "from sklearn.linear_model import LogisticRegression\n",
    "# 1. Instantiate the model\n",
    "logistic_regression_model = LogisticRegression()\n",
    "logistic_regression_model.fit(X, y)"
   ]
  },
  {
   "cell_type": "code",
   "execution_count": 32,
   "metadata": {},
   "outputs": [],
   "source": [
    "\n",
    "\n",
    "# 2. Fit the model\n"
   ]
  },
  {
   "cell_type": "markdown",
   "metadata": {},
   "source": [
    "The `logistic_regression_model` variable now holds all of the information regarding our model. We can again pull out the coefficients if needed."
   ]
  },
  {
   "cell_type": "code",
   "execution_count": 33,
   "metadata": {},
   "outputs": [
    {
     "data": {
      "text/html": [
       "<div>\n",
       "<style scoped>\n",
       "    .dataframe tbody tr th:only-of-type {\n",
       "        vertical-align: middle;\n",
       "    }\n",
       "\n",
       "    .dataframe tbody tr th {\n",
       "        vertical-align: top;\n",
       "    }\n",
       "\n",
       "    .dataframe thead th {\n",
       "        text-align: right;\n",
       "    }\n",
       "</style>\n",
       "<table border=\"1\" class=\"dataframe\">\n",
       "  <thead>\n",
       "    <tr style=\"text-align: right;\">\n",
       "      <th></th>\n",
       "      <th>mydata</th>\n",
       "    </tr>\n",
       "  </thead>\n",
       "  <tbody>\n",
       "    <tr>\n",
       "      <th>0</th>\n",
       "      <td>-1.204708</td>\n",
       "    </tr>\n",
       "    <tr>\n",
       "      <th>1</th>\n",
       "      <td>-0.521057</td>\n",
       "    </tr>\n",
       "    <tr>\n",
       "      <th>2</th>\n",
       "      <td>-1.519439</td>\n",
       "    </tr>\n",
       "    <tr>\n",
       "      <th>3</th>\n",
       "      <td>-1.555730</td>\n",
       "    </tr>\n",
       "    <tr>\n",
       "      <th>4</th>\n",
       "      <td>0.965781</td>\n",
       "    </tr>\n",
       "    <tr>\n",
       "      <th>5</th>\n",
       "      <td>0.393406</td>\n",
       "    </tr>\n",
       "    <tr>\n",
       "      <th>6</th>\n",
       "      <td>-0.907092</td>\n",
       "    </tr>\n",
       "    <tr>\n",
       "      <th>7</th>\n",
       "      <td>-0.718254</td>\n",
       "    </tr>\n",
       "    <tr>\n",
       "      <th>8</th>\n",
       "      <td>-0.230977</td>\n",
       "    </tr>\n",
       "    <tr>\n",
       "      <th>9</th>\n",
       "      <td>0.246435</td>\n",
       "    </tr>\n",
       "    <tr>\n",
       "      <th>10</th>\n",
       "      <td>0.007189</td>\n",
       "    </tr>\n",
       "    <tr>\n",
       "      <th>11</th>\n",
       "      <td>-2.296221</td>\n",
       "    </tr>\n",
       "    <tr>\n",
       "      <th>12</th>\n",
       "      <td>-0.725008</td>\n",
       "    </tr>\n",
       "    <tr>\n",
       "      <th>13</th>\n",
       "      <td>-0.771087</td>\n",
       "    </tr>\n",
       "    <tr>\n",
       "      <th>14</th>\n",
       "      <td>0.352917</td>\n",
       "    </tr>\n",
       "    <tr>\n",
       "      <th>15</th>\n",
       "      <td>-0.113571</td>\n",
       "    </tr>\n",
       "    <tr>\n",
       "      <th>16</th>\n",
       "      <td>-3.001637</td>\n",
       "    </tr>\n",
       "    <tr>\n",
       "      <th>17</th>\n",
       "      <td>-1.371843</td>\n",
       "    </tr>\n",
       "    <tr>\n",
       "      <th>18</th>\n",
       "      <td>0.669025</td>\n",
       "    </tr>\n",
       "    <tr>\n",
       "      <th>19</th>\n",
       "      <td>-1.438570</td>\n",
       "    </tr>\n",
       "    <tr>\n",
       "      <th>20</th>\n",
       "      <td>0.460259</td>\n",
       "    </tr>\n",
       "    <tr>\n",
       "      <th>21</th>\n",
       "      <td>1.476985</td>\n",
       "    </tr>\n",
       "    <tr>\n",
       "      <th>22</th>\n",
       "      <td>4.248944</td>\n",
       "    </tr>\n",
       "    <tr>\n",
       "      <th>23</th>\n",
       "      <td>-0.021228</td>\n",
       "    </tr>\n",
       "    <tr>\n",
       "      <th>24</th>\n",
       "      <td>0.422913</td>\n",
       "    </tr>\n",
       "    <tr>\n",
       "      <th>25</th>\n",
       "      <td>1.124121</td>\n",
       "    </tr>\n",
       "    <tr>\n",
       "      <th>26</th>\n",
       "      <td>1.302614</td>\n",
       "    </tr>\n",
       "    <tr>\n",
       "      <th>27</th>\n",
       "      <td>1.523772</td>\n",
       "    </tr>\n",
       "    <tr>\n",
       "      <th>28</th>\n",
       "      <td>1.000940</td>\n",
       "    </tr>\n",
       "    <tr>\n",
       "      <th>29</th>\n",
       "      <td>2.343810</td>\n",
       "    </tr>\n",
       "    <tr>\n",
       "      <th>30</th>\n",
       "      <td>0.286456</td>\n",
       "    </tr>\n",
       "    <tr>\n",
       "      <th>31</th>\n",
       "      <td>0.168846</td>\n",
       "    </tr>\n",
       "    <tr>\n",
       "      <th>32</th>\n",
       "      <td>-1.370232</td>\n",
       "    </tr>\n",
       "    <tr>\n",
       "      <th>33</th>\n",
       "      <td>-0.860761</td>\n",
       "    </tr>\n",
       "    <tr>\n",
       "      <th>34</th>\n",
       "      <td>0.139243</td>\n",
       "    </tr>\n",
       "    <tr>\n",
       "      <th>35</th>\n",
       "      <td>1.560145</td>\n",
       "    </tr>\n",
       "    <tr>\n",
       "      <th>36</th>\n",
       "      <td>-0.265934</td>\n",
       "    </tr>\n",
       "    <tr>\n",
       "      <th>37</th>\n",
       "      <td>1.119827</td>\n",
       "    </tr>\n",
       "    <tr>\n",
       "      <th>38</th>\n",
       "      <td>-0.063512</td>\n",
       "    </tr>\n",
       "    <tr>\n",
       "      <th>39</th>\n",
       "      <td>1.332883</td>\n",
       "    </tr>\n",
       "  </tbody>\n",
       "</table>\n",
       "</div>"
      ],
      "text/plain": [
       "      mydata\n",
       "0  -1.204708\n",
       "1  -0.521057\n",
       "2  -1.519439\n",
       "3  -1.555730\n",
       "4   0.965781\n",
       "5   0.393406\n",
       "6  -0.907092\n",
       "7  -0.718254\n",
       "8  -0.230977\n",
       "9   0.246435\n",
       "10  0.007189\n",
       "11 -2.296221\n",
       "12 -0.725008\n",
       "13 -0.771087\n",
       "14  0.352917\n",
       "15 -0.113571\n",
       "16 -3.001637\n",
       "17 -1.371843\n",
       "18  0.669025\n",
       "19 -1.438570\n",
       "20  0.460259\n",
       "21  1.476985\n",
       "22  4.248944\n",
       "23 -0.021228\n",
       "24  0.422913\n",
       "25  1.124121\n",
       "26  1.302614\n",
       "27  1.523772\n",
       "28  1.000940\n",
       "29  2.343810\n",
       "30  0.286456\n",
       "31  0.168846\n",
       "32 -1.370232\n",
       "33 -0.860761\n",
       "34  0.139243\n",
       "35  1.560145\n",
       "36 -0.265934\n",
       "37  1.119827\n",
       "38 -0.063512\n",
       "39  1.332883"
      ]
     },
     "execution_count": 33,
     "metadata": {},
     "output_type": "execute_result"
    }
   ],
   "source": [
    "X"
   ]
  },
  {
   "cell_type": "code",
   "execution_count": 34,
   "metadata": {},
   "outputs": [
    {
     "name": "stdout",
     "output_type": "stream",
     "text": [
      "Intercept: [0.17482059]\n",
      "Coefficients: [-1.14962333]\n"
     ]
    }
   ],
   "source": [
    "#The intercept\n",
    "intercept = logistic_regression_model.intercept_\n",
    "\n",
    "#The coefficient, notice it returns an array with one entry for each feature\n",
    "coefficient = logistic_regression_model.coef_[0]\n",
    "\n",
    "print(f'Intercept: {intercept}')\n",
    "print(f'Coefficients: {coefficient}')"
   ]
  },
  {
   "cell_type": "markdown",
   "metadata": {},
   "source": [
    "#### Making Predictions and Evaluating\n",
    "\n",
    "We can again use `.predict()` to get the prediction the model makes for each data point it was fitted to:"
   ]
  },
  {
   "cell_type": "code",
   "execution_count": 35,
   "metadata": {},
   "outputs": [],
   "source": [
    "model_prediction = logistic_regression_model.predict(X)"
   ]
  },
  {
   "cell_type": "markdown",
   "metadata": {},
   "source": [
    "If we want to visualize the model predictions and the actual values together we can plot them:"
   ]
  },
  {
   "cell_type": "code",
   "execution_count": 36,
   "metadata": {},
   "outputs": [
    {
     "data": {
      "image/png": "[encoded data removed]",
      "text/plain": [
       "<Figure size 640x480 with 1 Axes>"
      ]
     },
     "metadata": {},
     "output_type": "display_data"
    }
   ],
   "source": [
    "plt.figure()\n",
    "# plot the predictions\n",
    "plt.scatter(X, model_prediction, c='blue', label=\"predictions\") \n",
    "# plot original data (with the y-values offset a tiny bit to reduce overlap)\n",
    "plt.scatter(X, y+0.1, c ='red', label=\"data\")\n",
    "plt.legend()\n",
    "plt.xlabel('X value')\n",
    "plt.ylabel('class label (0 or 1)')\n",
    "plt.show()"
   ]
  },
  {
   "cell_type": "markdown",
   "metadata": {},
   "source": [
    "This prediction appears pretty good, there are some mistakes in the middle, but this is to be expected for any model of this type.\n",
    "\n",
    "\n",
    "For classification tasks (categorical dependent variable) a common evaluation metric is the *accuracy score* - this is the fraction of data points for which our model correctly predicts the category. `scikit-learn` includes a function, `accuracy_score()`, which can compute this for us (there are many other classification metrics to be explored as well)."
   ]
  },
  {
   "cell_type": "code",
   "execution_count": 37,
   "metadata": {},
   "outputs": [
    {
     "data": {
      "text/plain": [
       "0.7"
      ]
     },
     "execution_count": 37,
     "metadata": {},
     "output_type": "execute_result"
    }
   ],
   "source": [
    "from sklearn.metrics import accuracy_score\n",
    "\n",
    "accuracy_score(y, model_prediction)"
   ]
  },
  {
   "cell_type": "markdown",
   "metadata": {},
   "source": [
    "This seems like a reasonable accuracy for our model and matches what we saw visually above."
   ]
  },
  {
   "cell_type": "markdown",
   "metadata": {},
   "source": [
    "---\n",
    "---"
   ]
  },
  {
   "cell_type": "markdown",
   "metadata": {},
   "source": [
    "Similar to the linear regression model, we used 2 steps to get the accuracy score: \n",
    "\n",
    "- `my_model.predict()`\n",
    "#### Predicting called on data\n",
    "- `accuracy_score()`\n",
    "#### R2 score\n",
    "\n",
    "We can also calculate the accuracy score in 1 step using the `my_model.score()` method. Recall that the `.score()` method returns the accuracy score for a classification model.\n",
    "\n",
    "So instead of predicting and calculating the accuracy with the predictions, we can just do:"
   ]
  },
  {
   "cell_type": "code",
   "execution_count": 38,
   "metadata": {},
   "outputs": [
    {
     "data": {
      "text/plain": [
       "0.7"
      ]
     },
     "execution_count": 38,
     "metadata": {},
     "output_type": "execute_result"
    }
   ],
   "source": [
    "# 3. Score the model\n",
    "logistic_regression_model.score(X,y)\n",
    "\n",
    "#### Combined score of the 2 steps above = ACCURACY SCORE"
   ]
  },
  {
   "cell_type": "markdown",
   "metadata": {},
   "source": [
    "---\n",
    "---"
   ]
  },
  {
   "cell_type": "markdown",
   "metadata": {},
   "source": [
    "#### Predicting on Unseen Data"
   ]
  },
  {
   "cell_type": "markdown",
   "metadata": {},
   "source": [
    "We can also use the `.predict()` method to make predictions on data the model was _not_ fitted to. Let's say we acquired more data from the same source (in this case, we generate more data points in the same fashion):"
   ]
  },
  {
   "cell_type": "code",
   "execution_count": 39,
   "metadata": {},
   "outputs": [],
   "source": [
    "np.random.seed(12345)\n",
    "\n",
    "# Generate 40 more points (use almost the same method)\n",
    "X_new = pd.DataFrame(np.array(np.concatenate(\n",
    "    (2*np.random.randn(20) + (-1), 2*np.random.randn(20) + (+1)), axis=0)))\n",
    "y_new = pd.DataFrame(np.full((40), 0))\n",
    "y_new.loc[:20] = 1"
   ]
  },
  {
   "cell_type": "markdown",
   "metadata": {},
   "source": [
    "We will now try to predict the target for this data using the previously fit model, without refitting it on the new data.\n",
    "\n",
    "The idea is that if the _**new data comes from the same source as the original**_, the previously fit model should make pretty good predictions, even if it hasn't seen the new data."
   ]
  },
  {
   "cell_type": "code",
   "execution_count": 40,
   "metadata": {},
   "outputs": [
    {
     "name": "stderr",
     "output_type": "stream",
     "text": [
      "C:\\Users\\Ajax\\miniconda3\\envs\\ml_env\\Lib\\site-packages\\sklearn\\base.py:493: UserWarning: X does not have valid feature names, but LogisticRegression was fitted with feature names\n",
      "  warnings.warn(\n"
     ]
    }
   ],
   "source": [
    "# Have the model predict the target for the new points\n",
    "model_prediction_new = logistic_regression_model.predict(X_new)"
   ]
  },
  {
   "cell_type": "code",
   "execution_count": 42,
   "metadata": {},
   "outputs": [
    {
     "data": {
      "image/png": "[encoded data removed]",
      "text/plain": [
       "<Figure size 640x480 with 1 Axes>"
      ]
     },
     "metadata": {},
     "output_type": "display_data"
    }
   ],
   "source": [
    "# plotting the new data\n",
    "plt.scatter(X_new, y_new+0.1,  color='red',label=\"new data\")\n",
    "# plotting the predictions for the new data\n",
    "plt.scatter(X_new, model_prediction_new, color='blue',label=\"new data predictions\")\n",
    "plt.legend()\n",
    "plt.xlabel('X value')\n",
    "plt.ylabel('class label (0 or 1)')\n",
    "plt.show()"
   ]
  },
  {
   "cell_type": "markdown",
   "metadata": {},
   "source": [
    "These predictions appear slightly less accurate. We can calculate the accuracy score of our model on the new data and compare it to the accuracy score on the original data used to fit the model."
   ]
  },
  {
   "cell_type": "code",
   "execution_count": 43,
   "metadata": {},
   "outputs": [
    {
     "name": "stdout",
     "output_type": "stream",
     "text": [
      "Score on data model was fitted to\n"
     ]
    },
    {
     "data": {
      "text/plain": [
       "0.7"
      ]
     },
     "execution_count": 43,
     "metadata": {},
     "output_type": "execute_result"
    }
   ],
   "source": [
    "print('Score on data model was fitted to')\n",
    "\n",
    "logistic_regression_model.score(X,y)"
   ]
  },
  {
   "cell_type": "code",
   "execution_count": 44,
   "metadata": {},
   "outputs": [
    {
     "name": "stdout",
     "output_type": "stream",
     "text": [
      "Score on data model was NOT fitted to\n"
     ]
    },
    {
     "name": "stderr",
     "output_type": "stream",
     "text": [
      "C:\\Users\\Ajax\\miniconda3\\envs\\ml_env\\Lib\\site-packages\\sklearn\\base.py:493: UserWarning: X does not have valid feature names, but LogisticRegression was fitted with feature names\n",
      "  warnings.warn(\n"
     ]
    },
    {
     "data": {
      "text/plain": [
       "0.575"
      ]
     },
     "execution_count": 44,
     "metadata": {},
     "output_type": "execute_result"
    }
   ],
   "source": [
    "print('Score on data model was NOT fitted to')\n",
    "\n",
    "logistic_regression_model.score(X_new,y_new)"
   ]
  },
  {
   "cell_type": "markdown",
   "metadata": {},
   "source": [
    "---\n",
    "---\n",
    "\n",
    "## TESTING NEW DATA IS CRITICAL PART OF TEST NOW IN CREATING THE MODEL\n",
    "#### 2 scores:\n",
    "##### - 1 from modeled data\n",
    "##### - 1 from unencountered data\n",
    "---\n",
    "---"
   ]
  },
  {
   "cell_type": "code",
   "execution_count": 45,
   "metadata": {},
   "outputs": [
    {
     "name": "stdout",
     "output_type": "stream",
     "text": [
      "Requirement already satisfied: scikit-learn in c:\\users\\ajax\\miniconda3\\envs\\ml_env\\lib\\site-packages (1.5.2)\n",
      "Requirement already satisfied: numpy>=1.19.5 in c:\\users\\ajax\\miniconda3\\envs\\ml_env\\lib\\site-packages (from scikit-learn) (1.24.3)\n",
      "Requirement already satisfied: scipy>=1.6.0 in c:\\users\\ajax\\miniconda3\\envs\\ml_env\\lib\\site-packages (from scikit-learn) (1.10.1)\n",
      "Requirement already satisfied: joblib>=1.2.0 in c:\\users\\ajax\\miniconda3\\envs\\ml_env\\lib\\site-packages (from scikit-learn) (1.4.2)\n",
      "Requirement already satisfied: threadpoolctl>=3.1.0 in c:\\users\\ajax\\miniconda3\\envs\\ml_env\\lib\\site-packages (from scikit-learn) (3.5.0)\n",
      "Note: you may need to restart the kernel to use updated packages.\n"
     ]
    }
   ],
   "source": [
    "pip install -U scikit-learn"
   ]
  },
  {
   "cell_type": "markdown",
   "metadata": {},
   "source": [
    "The intuition we had from the plots turned out to be true, the model's predictions are worse for the data it had not seen before."
   ]
  },
  {
   "cell_type": "markdown",
   "metadata": {},
   "source": [
    "**The Goal in Machine Learning:**\n",
    "\n",
    "The scores we saw above might make sense intuitively. In fact, a model's score on unseen data will nearly always be lower. \n",
    "\n",
    "In machine learning, though, the goal is to fit a model that will generalize well to new incoming data without actually fitting to this new data. Hence, when we evaluate a model, we will always calculate one score based on the data on which it *was* fit and another score based on the data it was *not*.\n",
    "\n",
    "We typically want to make sure that these two scores are very close to each other. And the true test for a model's predictive power will be its score on the data it has not yet seen."
   ]
  },
  {
   "cell_type": "markdown",
   "metadata": {},
   "source": [
    "---\n",
    "\n",
    "#### Exercise 1:\n",
    "\n",
    "The `iris` dataset is the Hello World of machine learning and is available through `scikit-learn`.\n",
    "1. Load the data in using `scikit-learn`. Explore the data set. How many rows and columns are there? Is the target continuous or categorical?\n",
    "2. Of all the models we know so far, which model should be used for this data?\n",
    "3. Let's artificially create a scenario where we have some data that we fit the model to and some new data on which we will evaluate the model. Write some code that will randomly split the data into two sets, a smaller one and a larger one. (*Hint*: use a list of the numbers 1 to 150 (# of data points), shuffle it, and use it to pull out the two sets of data).\n",
    "4. Fit the model on the larger set of data, then calculate scores using both sets. Did the model predict well on the smaller set of data it hadn't seen?\n",
    "\n",
    "---"
   ]
  },
  {
   "cell_type": "code",
   "execution_count": null,
   "metadata": {},
   "outputs": [],
   "source": []
  },
  {
   "cell_type": "code",
   "execution_count": null,
   "metadata": {},
   "outputs": [],
   "source": []
  },
  {
   "cell_type": "code",
   "execution_count": null,
   "metadata": {},
   "outputs": [],
   "source": []
  },
  {
   "cell_type": "code",
   "execution_count": null,
   "metadata": {},
   "outputs": [],
   "source": []
  },
  {
   "cell_type": "code",
   "execution_count": null,
   "metadata": {},
   "outputs": [],
   "source": []
  },
  {
   "cell_type": "code",
   "execution_count": null,
   "metadata": {},
   "outputs": [],
   "source": []
  },
  {
   "cell_type": "code",
   "execution_count": null,
   "metadata": {},
   "outputs": [],
   "source": []
  },
  {
   "cell_type": "markdown",
   "metadata": {},
   "source": [
    "### The Train/Test Split\n",
    "\n",
    "The sets of data we created in the previous exercise are standard practice in machine learning. The two sets are called the *training set* and the *test set*.\n",
    "\n",
    "The model of interest will be fit on the training data and will be evaluated on both the training data and test data. The reason for splitting our data into train and test sets is to ensure models do not *overfit* to the data they are trained on and can generalize to new data. \n",
    "\n",
    "Since this is a standard procedure in model fitting, `scikit-learn` has a built-in function `train_test_split()`. This function expects the features, target variable, and a split size argument. It divides the data into a training set, which contains a random group of the data, and a test set, which contains the remainder of the data. The split size dictates the relative size of the two sets (for a full list of features see: http://scikit-learn.org/stable/modules/generated/sklearn.model_selection.train_test_split.html)."
   ]
  },
  {
   "cell_type": "markdown",
   "metadata": {},
   "source": [
    "Let's go back to the iris data set and use the `train_test_split` function."
   ]
  },
  {
   "cell_type": "code",
   "execution_count": 46,
   "metadata": {},
   "outputs": [],
   "source": [
    "from sklearn.model_selection import train_test_split\n",
    "from sklearn.datasets import load_iris\n",
    "   \n",
    "# Get the data:\n",
    "iris = load_iris()\n",
    "\n",
    "y = iris.target\n",
    "X = iris.data\n",
    "\n",
    "# Split the data so the test set contains 20% of the points\n",
    "# (the training set will contain the rest of the points)\n",
    "# random state is setting the seed for the random split\n",
    "X_train, X_test, y_train, y_test = train_test_split(X, y, test_size=0.2, random_state=17)"
   ]
  },
  {
   "cell_type": "markdown",
   "metadata": {},
   "source": [
    "Now that we have the data split, we can fit and evaluate the model on the appropriate sets, respectively:"
   ]
  },
  {
   "cell_type": "code",
   "execution_count": 40,
   "metadata": {},
   "outputs": [
    {
     "name": "stdout",
     "output_type": "stream",
     "text": [
      "0.975\n",
      "0.9666666666666667\n"
     ]
    },
    {
     "name": "stderr",
     "output_type": "stream",
     "text": [
      "/anaconda3/lib/python3.7/site-packages/sklearn/linear_model/_logistic.py:764: ConvergenceWarning: lbfgs failed to converge (status=1):\n",
      "STOP: TOTAL NO. of ITERATIONS REACHED LIMIT.\n",
      "\n",
      "Increase the number of iterations (max_iter) or scale the data as shown in:\n",
      "    https://scikit-learn.org/stable/modules/preprocessing.html\n",
      "Please also refer to the documentation for alternative solver options:\n",
      "    https://scikit-learn.org/stable/modules/linear_model.html#logistic-regression\n",
      "  extra_warning_msg=_LOGISTIC_SOLVER_CONVERGENCE_MSG)\n"
     ]
    }
   ],
   "source": [
    "# 1. Instantiate model \n",
    "logistic_regression_model = LogisticRegression()\n",
    "\n",
    "# 2. Fit model on the training data\n",
    "logistic_regression_model.fit(X_train, y_train)\n",
    "\n",
    "# 3. Score on the training data \n",
    "print(logistic_regression_model.score(X_train, y_train))\n",
    "\n",
    "# 4. Score on the testing data\n",
    "print(logistic_regression_model.score(X_test, y_test))"
   ]
  },
  {
   "cell_type": "markdown",
   "metadata": {},
   "source": [
    "*Note: we can ignore the warnings here*\n",
    "\n",
    "As we saw with the earlier examples, the accuracy is slightly higher for the data on which the model was fit."
   ]
  },
  {
   "cell_type": "markdown",
   "metadata": {},
   "source": [
    "###  Overfitting \n",
    "\n",
    "Overfitting is when a model goes beyond fitting to the trend in the data and starts fitting to noise. This noise _happens_ to be correlated with the target variable in our data, and so increases performance metrics, but if we were given new data about the same phenomenon, our model would no longer perform so well.\n",
    "\n",
    "<img src=\"data:image/png;base64,iVBORw0KGgoAAAANSUhEUgAAAlgAAADRCAIAAACfJFuyAADH/ElEQVR4nOxdd3xVRfY/M/fV9F4hlUBCCSWh96p0YUVBUSyLuiiuuuv+FNe6NtbeC2tZ2yICVhARUHpvQggthABppPe89+6d8/tj3p1MXgoBAgR434/Lvrx328w9c/o5QxAR3HDDDTfccONqBb3UD+CGG2644YYblxJuQeiGG2644cZVDbcgdMMNN9xw46qGWxC64YYbbrhxVcMtCN1www033Liq4RaEbrjhhhtuXNVwC0I33HDDDTeuargFoRtuuOGGG1c13ILQDTfccMONqxpuQeiGG2644cZVDbcgdMMNN9xw46qGWxC64YYbbrhxVaO1BCECuJt3u9FaQDdFudE0GhKGm1rcOC+0RBAiInPSmU5viCi2rUBEAETUEFhT57t8cONKxxklmfMARAYSOSEiAOP/IWr81yYvUXeKm7SuHnAKQYnEOMEIEqr3H+jUJbMs54UkvnSeVOQmv8sdZxaEiMD5kaY6XzfTnByOMeS/appaJyxdT69Hfw3J0Y0rFC0UhBoAl4WcnBCRIWj6AQwRmXoGgmGsnjR144pGQ7pCoTM5hV+djESZNpqnEE3TnPTHmlO/3Lgi0ZQgrKM2QgAIMnQQhQFhGtMIZcSphWkAjBCgVAFQAJsUq5y2BIVhA7TuqNxoAxC2XaMSkYj/HA6H/g0AACIQIJynARBEQNLkPThFEUKYLkUvxEjcaFNAJ11x8tE/g6ASRNSAIAIjBACAMcYpBAAIIYJOCKkjLP6Z0joO5uZRVxVIYy+Ycy7Op7jHQSPAgAAAIWAEAMYchAACUAKIhBCD80xEQV4u1MYYo5QyxhhjiqK4PgdpmtvV9zw0f6QbbQOaJPyo9K8LkDGNEIJOWed8twxVAowQA2OMUkNTb7xRd5bMy9y4EsEQVACFgAJ16jhFNCASQKQKcR6GDBkBwtkWceFLoFMbImqaZjA4ORiXmuJmMkMTx8t/ytd0s6bLFw25htDfuUYPhBBKDAgKILHV2tauXX3o8AFKDQwBgDHUCKHHM49v3ryturqGK1wgkYumafv27Tty5AillH/JP7QEF2sS3GhdYIMPoJuGLuAMilAnnNwKGQEwAICiGF24TyMn6zxOZnZuXMFwCjcAp/OcOxGQAAKlpLS06NdVy0+eyiSEMkROXYSQPXv2rFixoqamRtCMYDIGg+HIkSM7duyora0FHrjWHapQn/YafpY5lZtlXb5oShDWc2chA2CEEGNlZfU///nEv+e/CkAUaiCgEGLQNO2tt9/88MMFqqqCrhaJf1VVffvttz///PO6W3KG14B/uRnZlQLh9qSSw4qjYRKNk3ts3Ljpq6/+V1FRCQCUOq9w5Mihzz77NDc3p9HbbNu27X//+5/NZoP6Li83rmhwunK6GRAogAEYRQRKAQgUF5c8Ou/Rz7/4EoAKO8/hcDz11FOPPvpoRUVF3YV0cQgAixcvfvLJJ4uLi7lHgbushIrGj+fWYUPj0uVLNy5HuAhCzkoaUd4JoYDg6+s3fPjo/fsPnDqZA0AYowQM+/enbdq0cdSooT4+3vxgVVU1TWvUF8HNQRdvAycjcZYsSl2+dOMyAdX/k99aYzqWHgDcsmXLP/7xf1lZJ7iJyAXhN99889JLLzkc9kbf/sqVK1988UWh41/YAbnRVkAQKSIBLoO4j5RQQpxpMjExsePHTtq4YUthYYE4Z9++fceOHZs1a1ZgYCD/RlVVrrhzOefiEYX6erkQdYwxh8PhwsEYY6qq8iu4VbHLFAaXvwkhPOWYSCyMExkiGI2mMWNGf/PNN1u2bLm+/VQCVNPYihUrNU1LSe0BAKWlpT///PMff/xhMBjGjh3bv39/AKCUcg1r9erVPj4+KSkphJCKioq1a9f2798/KChIVdVVq1atW7fO19d3/PjxXbp0IYTU1tauWbNm69atADBq1Kh+/foZjUY3nZ0tXPw25yYzxLnc6uK840xxESL9q+fwOVP6nOyDK0b86OHDh3/00X82b97cpUsSAKEUqqurt27dds01YyIj2/Nzq6urAcDDw4Pf1GQyGY1GaOCe4tFo8WzV1dWEEKvVClLIp6qqilLKv3Tj4oO/fdmOb3FwFwlBQIIIxKlSMQDKkxqAICXK0KEjFv5v6YYNW667biI/Z/PmzX5+fpMmTVIUpbKykjMWVVVTUlLGjx/v6empKIrRaFQUJS8vb+fOnf369QsMDLTZbCtXrvTw8Bg5ciQAZGdnL168+OTJk8nJyRMnTvT39weAnJycZcuWZWRkREZGTpo0KTo6+kJM1xWMZtiITCTnxrVafparRejkU0AQUVUZciZDNEKRUACArl279OmTsmnzBgCgCmSfyvnfV1/37p3asWNSfn7u7NmzFy1a5OHhkZub++CDD27cuNFkMnF+xxj76KOPfvjhB/5wFRUVb731VkFBgcPhePPNN1955RWHw3HixIm///3vy5YtA4CPP/74nXfeIYRUV1fPmzePf+lW/M8WQpkVUbhzvgjo888TzZuTqY2VETpjKnXlg0zPJUYA6N49OTk5+bffVtXU1PKr7tixq6Cg8JZbZimKUlJS8umnnz788MN//etf33///YKCAtAJ3WAwbN26denSpbW1tZTS/Pz8L7/8Mj09nStbX3/99cMPP/zII4/8/PPPdrudEFJWVvbFF1/84x//+L//+7/ly5dXVVVx2enWsS4mhC6Fehivxafyc5AxxpxROsbJCYimMTsAS05Ojo2N+/rrhaWlZfyNb9iwYfz48bGxsYWFhY888sh7771nNptramqef/75t956C/SUGUVRDh069OGHH+bm5gJAVVXVO++88+WXXwLAjh07br/99i1btnh7ey9evPjvf/97Xl5eXl7ek08+uXbtWk9Pzy1bttx7770nT568MBN2VUDODuGEgYjccG85mA6ubWua1pKzZIsQxcNw3xSlwItzKIHqmoraGjsAmEymkaOGffjBhzt37ujUqfPmzVsLCguGDBlSVVmxa9cOVVX/7//+LzU1taKi4qabbvrxxx87duzocDhqamoqKipKS0urq6tLSkoopaWlpaWlpdwu/Oijjx5//PGpU6dWVlY+/vjjH374Yffu3VetWpWQkDB79uyQkJD//ve/ubm5+fn53AJwo4XgJKUoSqOlUaTpPJSmYLVaLRaLS5ikhcLV6ThCgnqYB1FDBiIqM2vWrU899WR29qmEhATG2KJFi2Jj4zp16lRdXfXkk08cPnxk6tSpZWVlH3zwwfHjx1988UXuZjAajdu3b9+8efOwYcM8PDzy8/O/+OILX1/fTp06vfTSS5s2bZowYUJ1dfXLL7+cn59/6623fvXVVytWrJg4cWJBQcFzzz1XXFw8c+ZMt4J18SGrVnB2+rvKGBBnOjFDBoqBAiBDlVJgaAsKChw8eODLr7x09OiR1NTU7du3Z2Rk3H333YSQ/Pz8oqKiefPmDR48WNO0+fPnb9q0CfTEBUqpqqqVlZWCe1ZWVtbU1ADAxx9/7OPj8/777/v6+h47dmzGjBk//fRTr1699uzZ89RTT40fP76oqGjBggVFRUXt27e/ALN1xUJ+6TIxCD/B2TqxZAc1P1G4iJqBq2uUu935dSilmgqMaTbVYbOphYXFBiM1GCAmJhqBrVq1MjAw9JdfVvbv37937z4lpcWdu3T920N/W7169WeffcYYO3XqVMeOHUtKShhjtbW1VVVVAOBwOCorKymlZWVlAFBdXb1nz56TJ08uWbJkzZo1lNK9e/cWFRUdPHhwyJAhH3zwwYEDBxISEpKTk0eMGMGVdz5OOYINZ8nNrxII96OiKELVErm7Mm01mmYidHbhvyKElJSUtG/f3mQywTnNOSISoEAIIGiMGQwG1a4WFJYQigCsY6cEbx+v//3vy/vuuz8nJ3fLls3Tpk2rqKjMycmmlD788MP9+vWrqak5evTonj17jh49Wl1dzRgrLi6uqqpyOBx5eXmU0uLiYlVVq6urd+zY8b///e/vf//7jTfeCAAOh+ONN95ITk7evn27j4/P6NGjrVZreHi4pmn5+fkNQ0RutBBn8pA3foq8hP39/Y1G49lcgfH8Yk3TKKVUMTjsjBBSWVVtNFGDgRoN2ujRo7/86qvt27d369Zt06ZN3t7eCQkJmqZ17Njx3XffTUtL++abb8rKyvbu3etwOLgBIRwD4sGc16e0pqbm2LFjnp6eixcv5ly1vLx89+7dQ4YM8fPze/7559PS0rp163bLLbeEh4fbbLaGbNfNoJqCkHOy9OIvQlaVBCNqyTX5O6qsrPTw8DCbzS3pkNCYICT8mYimgWKAtD1Hf/zhlz/Pvj0uNkExEABHWFhEly5dDx85YrPV5OSeuP/+uXFxHQBg//79H3z4QU5OTnR0dHx8fEBAgNVqbd++vdVq9fPzCw0NtVgsnp6e7du3J4Soqmo2m8PCwry9vS0WS0BAgL+/v6ZpI0eObN++fZcuXYYOHRoVFbV+/fo//vhj7dq1paWlc+bM8fb2Pjd/8VULFz4l3O5wlj50jrS0NLvdbjKZOKk1SZeSkJX/pVRhDFEDSolClYLTpd5eVrtdpZQhqGaTsU+f3qvXrLr99ts3bNhgNJr69x+gqmp4eOTtt9/x9ddfv/HGG4h4+PDh+Ph47ucEAE3T9JJ80DRNLKGDBw9WVFR89tln3333HSEkOzu7qKioqKho0qRJzzzzzOTJk2NjY4cNGzZhwgR+VnPDcaO1wWWhpmmaplVUVMTFxbXQO4rAqyQIABJCAAmhZP26bSdOZCd3T4qOifDxMdkdtu7du40aNWLTpk2jRo3iEissLAwRc3NzX3nllSNHjsTExISGhgqvrJCF/E/ujhNh7OLi4urqak9Pz5MnT2qapqrqDTfc0LNnz5CQkJdffnnFihVbtmz5z3/+06FDh0cffbRv375uQmo5XJIYOOR0BL42Wy4FBX/Lzc3lQqclpCULQgJAEDUAQoiCCISAw6H+9OOq995e2DG++7QZwzQGhCgmo/Haa8Z+8OGHn3zyUUCAb79+/TjrWbZs2YYNG3766acuXbrU1tZu2bKF6+wclFKTyVReXs4P3rdvX0lJCSKGhIT4+fndeuutAwcOBICffvpp3759APDaa6+NHTuWe8Oef/75zz///LrrruvUqZOwTlo+11ctxNrm/9rtdkVROG3xA1x8CC6QhajsuIeWpjbIGciEMQRAQigQJASqKmtfeP7lkSNHjB4zwmQCIAhArr3mmhU/r8jKyjpy5PA111zTt28fs9mUlZX11ltvnT59umfPntHR0b///ntxcXFoaKiHhwelNDg42MfHx2AwREREBAQEBAUFEUK8vb0NBoPZbB4zZky7du34Y5tMpi5duvj6+kZERGzatGnHjh0LFizIz89/4oknLBbL+c+2G+eA6urqY8eOtfx4AoBAGUNCKCUUCFSU1SxdvPK773/61zOPdemcZDRSqmmKotx447Rnnnlm+/btdrt96tSp3JG+YcOGH3744fnnn7/22mv9/f2fffbZDRs2cLNPURQecuaZ6gCgaVpOTk779u2Dg4P9/PySkpIef/xxRVFqa2t//PHH8PDw06dPHz9+/OGHH66oqNi0adO8efMWLVo0ePDgc7CSr3I0ZOn8G97r4AwZCfXBY71nmw9hgLpO2YQXOAAQBogICiWZmXlfL1qdU6AuWbJp4JDUiPZe3Hk+evQ1ixcv+fjjj5544glvb2fVRGhomMlkWrNmzYkTJzZs2JCenu7n58cTi3kJxMCBA//73/++/vrrvr6+v/76a1lZmaqqgwYNGjBgwPPPP/+nP/2pqqpq4cKFQ4cODQgIyMnJeeihh66//vrg4OCsrKyBAwcGBQW52MtuNA+h8GqatmnTpu+//75z587Tpk3z8vISzsAzLlo5a4vorapaoI4IKai7WLlTFJAhUAIbNvyxZPHqrOMlAwYMMAZYVIfdYFS6dO7SKyXlnXfeRST33DPJbDYBwNatW3/77bd33333mmuuqaqqWr9+vcPhEDq7pmlWq7WgoKCwsNDX1/fIkSMZGRkAEBsb6+Hh0alTp+nTpwPAN998s27dut69ey9YsKBTp04PPPBASUnJo48++ttvv913330RERHuDpNnC0qpw+Gora01m83nkNEt9P1GPfNNn0UACaUKQ2dTq/37jy5ftiU7T928+eCfbrjGbLHyjPeePXuGhYU999xzo0eP7tKli+zkN5lMVVVVP//882effRYcHGyz2RDRbrczxgICAsrLy7///ntfX9+vv/46Kyurd+/eJpNp2LBh7733XqdOnYYMGbJy5co333zz3//+t7e39/PPP793795Zs2b5+fl5eHjwAKFbEJ4zuIN669athw4dGjVqVEREhAufOaMVJPqXGQyGlru+DHqbIgKMAijIo4vIkFCm4nsfLDuQXkNJ/LKVO8f9tvfWWwcSyhA0b2+fSZMnEEJGjBhlMBg1DSnFyZMn5ebmLF261GKxTJky5fHHHz98+LCmab179/bw8EDEm2++uaCg4Ntvvw0ICLjzzjs7d+7s4eERHBz81FNPvfvuu59//rnRaLz++uvvvPNOs9n88MMPv/XWW19//TUipqamzp07NzAwkEv71pjwqwKiavPo0aMPP/zw9u3bAwICQkJCxo4dK3wOzZzeqI4mTmnmXNRTjwnv1Yd6UQ4DIExRaFW1umjJulM51LHxxMoVO268eRAFggwCg0KvmzTlpptvmjhxamJiF55gGhsfEx0T9dVXXx07dqygoODgwYMGg4G7Fnj4Mzk5+ZNPPnnqqac6dux44MCBwMBAVVW7des2efLkN998c//+/aqqbtq0aezYse3atfP393/rrbcOHTpEKT1+/Pg111wjFCw352o5EJGrrWvWrOnZs+cdd9zh5+fnMofNMyBZu2r5zBMu5ZARUAgl1VWOpUu3HD+lAcSt33j4RNbprslRhGgA1Gq1DhgwID09feDAgcILMmjQoIEDB77yyitBQUEmk2nGjBmcqIKDg2NjYwkh0dHREydO/Oabb1atWhUdHX3TTTeFh4cj4vTp0/fv3//KK6/85z//KS0tnTx58oABAyilkyZN4gfbbLbk5OTbb7/d7a86K7joQISQvXv3zp49Oysra8aMGc8//3xwcLDLlDbPuASPat7d5XoWoh0AABVAwm1BDTUgRKHKwYOnr5v8yJHDNSYabGf5M2YMfOONPwcHeyBTgaCqaUxDg8GkKIqmMd7ZARGrq6sR0Wq1cv2LpyzykSiK4nA4eHTHbDYLcS1/bzKZuKjjupvNZlNV1cPDgzsu5K6AbrQEXHVYv379+PHjKyoqFEWZP3/+/fffLyrw+GHN04rwix48eDA6OtrT0/NMPA4AgRAGBAEUfVMAAEIYY1RRvlmy9d45rxUXOBAdo0Z1+e/n/wwL9dCYpiiG3JyTHy74MLl76uTJkx2qhsBMRsP6tes++eST6urqUaNGderUafv27dOmTTt+/PiePXv+/Oc/m83m77///qefflIUZfz48Xa7PTExsXv37lVVVV9++eW6desAYNSoUTfccIOHh0d5efnXX3+9Zs0aRBwxYsRNN93E7WNOh6038Vc+1q5de/fddx86dCg4OPjdd9+9/vrrob7waybBQXxfVVWVlZWVmJjYwslHfXcJREoJ2bA+48Yb5+XmmQ0GP4D8u+8a+tLLd5nNBgREZOXl5QUFBREREVarVbQ4rqysPHDggMPhSExM9Pb2zs7O5hp2ZWVlWFiYyWSqrKzMyMioqKhITEy02+0AEBwcbDAYamtrDx8+XFRUFBIS0qlTJ+6yU1X15MmTp06dslgsnTt3lpMY3OKwheCUwMWb3W5/4YUXnn76aQAwm81//vOfX3jhBW9vb564JCfuQdMzzC94+PDhoKAg0ULhjA+hImrId3/TmKo6VKY6NA0Rn3zqc7Nphon81az8w0BmhwTO/OGHPRpD1cFU1cGYis5iHo0x/h8TMXDRbYGbuhziG/El7+8gvhQ/8Si6/GXDw9xoOU6dOjVlyhQA6NChw7p161BPkOOTrKpq86fzl6VpWlpaWmVlpTi96eORaYh1h6jIapHZkGmImJ9ffcP1rwFMMBtmG5XbgoNv+fS/axBRVTW7w8bQzivDVE11ODSHylRVa+wWzqvziE7DX3kSTaMDafhNoxdxo3msWLEiKioKAPz8/BYsWIBNUAVrDOL7iooKbrK39K6MaZrGb1Nd5bj7jvdM9CYDfcCoPKLAn9uF3bJ21SHU0K4yu8PhwpEachU5WVQc1nAUnE01/LLh03H/qptTtRzivdh0/Oc//wkODgaAAQMG/Otf/1q3bt2pU6fEuxMkJDLjGr0mY+zgwYNFRUUtfAyDS009IQAEFaJs25G+dMkvdjuYwaIxRomxrKzsg/eX9OwZFxnhzZAAUN1O0HgDQH5FWSaDpCGi7n1i+jYULjasnCkkn4VS4wl0ux3OEpxWIiIiXnrppQkTJkRFRfXp04dJG9OglC9+4Z4CCFf6NEro1s1H1qzabSRhgN6UQEFB9uKlm4YOT41p762qlDFUqKqhhgQUg4GnygMi6NUg8jOj7h1lUjYs6HTCf+LfcHdCw+oRmbrcOCukpKRMnz59+fLlKSkpw4cPb+owl+R4OE9TiYBISt625ejKX7aozKJQDw2p0eBXUJCz+JsVA4clMASFKlCft4Ae5BZxASaVzRAdMh8Tx8uX4nxWUBfR0/1FCy03jzor8Dk3Go0Oh+Ott97y8PD4z3/+k5ub269fv7i4uGeffbZ79+480o9nGYduObibkYgmIIQQQCitrHj/g4/T9v/haeqhqXZC+JY4ju3btq1Zs/mGaSNNZkDUACghyFAjRKHOdn/1GmihnvlD9C6jQpK5sB6s71Fp2MSL6Um0F2girkhwUccnMz4+Pj4+HqT2DWJiQe8y3GogDAgTzZFRb9hHqXI8M++dtz8rKq0wkUjGCFBiMHquWbN5yZLOc++7jhAFKTJghFACCKgRCnyfS8bq/CcyechrQ1VVUTRZ9yySO8WFLaLuk+Fful2jZ4XAwMCHH374tttu8/Pz440SG4YtWk3+iQsCIiAFJTun+NnnXsvMPkQhgUEtUJNddSDYf/zhl+HXdJtw3XCmMc4wiLQZoUzzsrYtfhWEIXQsoULJB7so60KmuhnU2UJekna7PTAwMCIiYsyYMfxXm802a9as7OzsQ4cO8ZKBCzTDBgSVyP2RiUIAcnPyAgO97v7LDcwWsvzntFO5pak9OqWm9gVWoGkVQBwIQKlCABCBUgUZYVjXc1ZWl0CSeUI0ymLSZUZceuAKipTF4YWYiCsSIkdAVlrlAy4M9+c5MnqPNQQAhX/tUPGnn37duWdbcGC0vZbV2GxImY+viSGsX79h0uT+cTFhBAljBACoggxVgoDIiLQroaANmW1xxsTpxIWuBIMTurx8jMzvWnsernAwxoKCgoKCgqCxbfxAWrygeyZaQ1QggAqgrN+wubLqdGpKbGWV54nsyppqQ3iEb2hQe8KO7d61Y+zE4QaFACJjddxD6EMNDURE5NIOpJY3srxs6NZCRIPBIJYV6ps3uRnUWUFWKX777TeHw8E7VPMXZDabo6Ki1qxZY7PZkpKSmJTa3bpqh8FZmUN0noXAEBM6xD3z1CMKVQpOVxzJPHUy58igQWNfeG6ahhqARghSauB0JR4JkQIApXVtX2QCkklKFpAN9XSUUhNlqpVp1I2WQyxRuXyQgxBSUlJSU1MTHh7eqhNLAAggrfO6IwGghFDVYQuPCP73y//nYQ37dsmOpUvXhob4/+OR2729a83mWqvFoKmaQaEKJapGkQEhSAihaEAEQl37dAtNHHTPpxBpsrIF9W1HIfhdKK31hn9VQOb+jSoffC1rmpabm+vl5eXt7S2v/XOnN0RADQmbMH7k2GuGKoqybcfx2Xe/c+xwwQ3Tr3v4wcGenipVKAGGWLfdjcxAZArhzkxBV6xBCY3sPhXcjLu4BLEJJcytTp0z+CR7eHjwCmD+JX9HZrN58uTJRUVFFRUVvFTvQqxWAwEAQN2RRZxWoaIoikIAjCYCUAlgM5qZ2UwdQAkj1MlEQN8uhyFPaybOp+eXljUjF1VLfE/qu0ldyMhNVS1HU8QhNAnBsER9/ZYtW957772Kiop77rlH+CJaeJczvBqkvLs24VoWASAUAKxW85/+dC0/5OSpnG+/K/P2Nt1wfXJoqAUAHA4VQKOUAgL3tFNiQGCAzps1NGflL0XhLUgHu5Bcww/ywW60HGICZcUCER0Ox+bNmz09PVNSUiilVVVVn3766cCBA4cOHSrrJee8tAmhCjEggpensweCjw+htBygmhrKfAPNnlYLMlARFQIuAsyFGBoWAjVPYAJiyC7k5OZX5wxCSFVV1alTp/r06cNTfMVPvET1f//7X0lJSXJy8vTp01uaCHo24MkyqPtFnR8QAIARoLqbCxhDDQBBpQQJGgCREGfzdwC3HnTpIavb0EScFSRfUFVV1QcffPDZZ5/x74cPH34BGpojb9LAi+sRuaVIkDAKVGN2RDsFFZiKCMBQodwzoSEolBAgzq0qXDf3bRpuOrxocKEr0Enriy++ePHFF81m8yOPPHLTTTft2rWrW7ducXFxctTt/O5MABQAymsogBLGGKAGoAHamKYCGgHQoLhJ4fKA8FcBgKidc9EwTCbTqVOnvvrqK24s3n333a2+JR/3Xyn191BFgnX7ERKkAM4twylSipQ4dw9wZxa0LYgohewR4lExaJA4x2sG+Im8zKCVn4YgoRqA+I/xfwkgAQYABAhByq09whs6OMlfA6IB5UqWik5p2spP58ZZgdPSGQ9TVfWrr746cuTI/v37Fy9enJGRsWXLll69ekVHR8uRufOzvwmgQuRnQSCoAFCi9/MjTjeV2919eYAnIq1fv760tDQkJAQa+AzKy8uzsrIAQFXVXbt28d7CrS4IZfC2WECIs4EDIBAkoAd8CKMMKW9DCqKfMmF1mRFuXDq4RGRFOMQl4MqP8fb2vv3228eNGzds2LDZs2e3qjmIQBgQDUAFcACo4PSSUqfvHCgAUEYpGoDxIhxAQvW9mYguNTWnKQmq1AjQjUsGWRzK+SPiS4PB0KlTJ0IIb7q2atWqiRMnhoWFsfrbPbYCC6vv2AY0ABB0dgVx4zIDpweDwSBzIZlI/P39u3btCgC+vr6pqakmk6nVw7GGOr8ogCTMiM68gBAHgI2Cc4Mu4rQVeWM2bhRyJuWOslxiCMoQrgYhAkU+m3C+2+32IUOG9OvXjzFmsVguQJxf2HHcl8X1Kmd/GXBKPIZEcx4CCEgAFQQghPG/AQwECHGrWW0JTZEK98bff//9vPZ50KBBnp6e4eHhRqPRJdn7/IiNa96KTBFOFzpQ3Y3OmZVbKF4eIIQ4HI6qqqrY2FhPT0+QlHjQk5PvuOMOROzSpcv06dNdsgFaBQaooyEGgHrKCzrlHEFCHQB2Bhpw7ygBIAioyaFBHv5xe+UvLUQlk+hRV1lZaTAYLBaLnNImkugURRGd8FrVz0CcijmhTiUJqaRuiZJVDaiNENWpxBNEQESFn+k8BAU1utlam0Cji1zQFWMsISHh/fffX7169c6dO++//36TyeRwOOT6wvNmE3pvZEIRuFbOmRXnXQQIIvC+7m5cBuC8yGAwcGbFSUVQlJCIPXv2vO+++3x8fHx9feWE8NaSOnVqGgE9l4Hvx6QzHsbDgUgB9K4OhPtGqa71G4C4Y9OXHnKE2eFwfPfdd3fdddfcuXN3797NvxeeUi4shQh0Ua/kYgP54mdBc0T8H0GgUpBP2IiAwHmXk5PplThAKHCORvhD6TR31tPhRquCE0lhYeHy5cvXrVtXW1srVz2JwxwOx6ZNm8rKysaNG8ddWA1zws+PeXHWhE47EEC3EQlFJIjOA5CCOMztTmjbUFV19erV+/fv9/f3Fy4rl7Rko9F46NChjIwMua1KK9peeh0hADf2gFBAzgRFlJDqyaUAdYk01MnMCAAobi7VFkCkQswTJ0688847q1evBgCbzfbhhx9arVbBsFzyxV0kovggF+PD2ZJdXRSZOJ3sTnnnlGwIFIlC9KAOY0ShKN+BEJ2FEbfX/RKDq0G1tbVPP/30kiVLAgIC/vGPf9xyyy2swaaplZWVNTU1vr6+Xbt2ZXqfa/k65/0sFDjjwTqzz8m/UPi1qIKCO6Fbi2rLoJRu3rx57ty5Bw8e3LJly0cffcQbYEGDsrqkpKSTJ09WVlbyasJzYUrNPEb9P1t0UeLWsNoqBEuy2+0VFRX8y/z8fLHRaMOSYZA6bggfqVD2RYopNLARW4IGp0h/1rMRGz/7bG/nxgUCJ4D8/Py1a9fm5uampaVt2rRJ9oiKtiyffvppeHj4oEGDVFUVKtQFguR3cH7jzpW57ICIe/bsOXjwIABs2bLl1KlTTR1ZWVm5ZcsWwdZaF+ewpRFDJ71Rp3+rLgHCjUsJlNC+fftbbrmFUurr63v//ffzHdhFrykXCI7GQ4li00dRUEykfhxn9URAuNruJo7LGKLSy8fHp1OnTocPH/b29u7YsSPU3wQ1Pz8/MzNz4MCB0dHRZrNZ9FS7eM950e7kRquiU6dOCQkJp06d6t69Oy+faAhETExMNBqNnJW1Os5xb7967gY3l2tL4BWEFovlL3/5y5QpU0wmU1BQkKybN5PyJxpwyxsgSylReFYKPp6NU0rOkXGjTYFHlBljvr6+TzzxRK9evYKDgydNmiScB4qi2Gy2EydO/PHHH+PGjeOJf5yi3Bl0bjQPROzfv/9NN930xx9/3H///XFxcY0eRghRVfWXX36ZMmVKQEBA6/pF4ZwFoQw3pbdBcD9VZGQktFiAobQVA2dhFRUV3377Ldfx5RrE1oFbgb/cgIjdunXr1q0b6E20AYB7EVasWFFQUHD77bcLBzunQFmjcsONhiCEGAyGPn369OnTZ9iwYQ1z9wSsVmv37t1B51GtC/du71cg5OQFHh08Y2tp4QXlf+bl5W3cuDExMTEzM7Njx47t27dvyq16XnC3ur58gFLTPhFRBgC73b53714vL6/IyEhOJHJ2u7uJqxvNAxGrqqoopdwWdElClmG1Wnfv3l1aWpqQkNAavfrqoaWCEKUPdRJbL5J2+z9aF0KnPtsoS1NGmyCvhts6iupD3lP/1KlTv/zyS5cuXXbt2hUTE/PXv/7VYDAoiiK2tG35IHQPul4Y0dhjQV1mHxEhZzc5XSDIhVnnFsBzoQG73Z6dnb1169aUlJTU1FRxi0vlEXUTzkWAXDbTFCG1kLqELrVt2zaLxdKxY8fmN9q77rrrjEZjM8LynNEqFqE7QbnVwKURSAks0DJXOOobqsnhQKHFu6R9uhRI8DDPunXr9u7dm5qamp6ePmDAgEcffdRisZhMJjjHzeR4Ml/TTgxn5ruzWJ44G7i7peCFgvz24SzjK1i/GwP/U1GUzMzM77//fvr06byPmky6lwRuD8NFgNjTTSjHsmg8K08AZymKogwcOLBLly4iU6HR0xljJSUlOTk57dq18/DwaNUxuV2jbQyiKQyvwWq5Z4noDWW4bJOJSVyN7yEuUy3Pi1m1apXD4SgsLNywYcOECROee+45SqnZbIYGJN6aiphT8jlTahggoN5IBt0S8YJAfoNnZRHKu/rxTjGEkLVr11ZWVg4ePDgsLIx36btgD+5GW4GQfC6ZB0JRFqTScurKz8//9ttvExISzqhI+fr6OhwOsUnkpUuWcZP6BQZ/wZqmia5U3EZsiUSUnRX8RN7mEXRGxvmXMAQppb///jtjLD09vaSk5IEHHrj++uutVivUV/xdLttawIYRwvqeBel27n2+zhcN9XSXPeWbh6iRYIwZjcba2tqqqqrjx48HBgYOHDgQ9d0uwd1o8SoAkXZKlx1FQgU/KxGFiCaTaezYscHBwdA0WfI7Go3G7du3d+/e3Ww2n5tvvymcpSB0E/mFB3dyrl69+vfffx87duyAAQMa3VmwKfADhByVTUNKqaqqiFhTU7Nq1arIyMisrCyj0XjLLbcgoo+Pj2yPikupqirv/N5aw3R2hhSxweYG5Ca78wWfw7KysuPHj4eFhQUGBp5tBFpWsI4fP7506dJrr722Z8+egvG5X9NVAlk55mq6qqo8dHdW2pW42u7duzdu3HjNNddA044KfsegoCC+c2+rE1uruEbdC6B1IITNtm3b7r///qNHj27evPmdd97p0qVLC08HXY5mZ2fX1ta2a9fO09NT2JSMsdLS0h9//DEuLu706dMAMGXKFEIIb1kkooyg801SP5XUZTOdlqHpNqENv3ZGoUR8VHznRiugsLDwueeeW758eVxc3LPPPpuSktLyt8lpoLa2tqamZtu2bdnZ2ddcc41I8wPJDnCLwysbcrSYC8KPP/54+fLlw4cPv+mmm/z8/KxWq0hWaOE1U1NTY2NjuWbWjOuLMWYymU6cONGjRw/eMPKiWoTOnD/BpAAQiNQrhOg94N04X4j3ytvLMsZ27dqVl5cnBGHDDJpGqWHDhg33339/WVnZPffcM3fuXA8PD0QsKSn5+eef4+Lidu3a5e/vf8sttwCAxWLhu9UbjUaeF+OSEiareOdCdmciDWdPLAYgJCOCxjSdqaKzo5+bvs4bhw8f/uGHH44dO3bixInff/+9R48ezVf4ubC806dPf/DBBwcPHuzdu3dqampKSgpXjDjn4hX3Lic2+uf5g9RRimhhCzw/mdRpXuLJW/HObjhVIlVVuajbsmXLq6++mpGRsX379g0bNvz9738fOHAg5xuNUpdMDPzzsWPHXn755aCgoOTkZJ6X0BS4Nu/r6ysSHVqRtM4sCDlVOZVHgowhEAqEAjIAYIhAgCEStwur9ZCSktKrV6+0tLQRI0bExMTwL12Yi6w9yX/W1NQsXbp03759APDWW2+NHj06JiZmyZIlcXFxR48ejYuLmz9/vsFg4GLP4XD8+uuvK1eu7NChww033BAYGOhyLzkScIGyIRCAcSuQAAFwOBzf//i9h4fHuHHjeHCKICXuNm3nDT8/v6CgoGPHjlmt1qioqKYOa6hmcVf5xx9//PTTT2uadvr0aa5FgeQtkKlRVdVjx47t3r27Y8eO3bp1k9v1tRKc4k/8QYTYk38AQOQVjSBUOjePOn/IQq6mpqampgYAqqqqfH19T58+nZWVFR4e3oxhJzOTnJycxx57bOHChaGhoampqZMnT27GuUoptdvtp06dKigo8PLyal12dAZBiAgEKAADVAEAkTn1MHTudwIIlFKGrGGBmhvnBkTs3r37e++9t3v37n79+sXExLi4Gkj97tjie05DBoPB19eXH1NaWrpkyZKZM2eeOnWqb9++8+bNE0TMT8zNzX3sscd27drl7e3t7e3Ng4UXkWXotRMEkCFReCoaVldX63cngEzf9suN80JCQsLf//73X3/9NS4ubsSIEVw2NGRYqNeb8sAwR3FxcU5ODm/OkJ2dLfqwC8jUUlRU9Nhjjy1durRnz54ffPABry9sTaAu/fR9KvlWOJRSBCAEVVUzUP4jd7DXS/Fv5Ye5yiAnHhNCQkNDhwwZcuTIkQEDBsybN2/Lli1bt26dMGGCvANlo+dyAktPT1+zZg0A5Ofnb9u2bfLkybwVUaOvKT8//913333vvff27Nnz6KOPNtWM7dxwBkFICPCNTZyhIySgUOceX4xRIIQqqqa6RWBrQRBKSkpKSkoK6FmjslMUJFnI3fQi8YH/e8cdd/zxxx85OTl33HGHpmkBAQFPPvkkd14ZjUb5yOLi4vz8fACoqKjIzc2F1u+J1bTWhny8gAiUgsYQGAIBk8U4fPjwNWvWZGZmxMTEEkqQATD3XkznC6PROG3atClTpvDkT2iiiwchxOFwcDcU30Fi27ZtCxcuHD58eFpa2r59+2bPnu3l5dXouVyy5uXlrVy5EhF37dq1ZcuWXr16Xej+MowhABJCEQkgUEIYQ6CgacxgUACaLE1z42xB9AIJzpE2bdo0bNiwxx57LDQ0NDg4eMCAAZs2bTp16lRCQkKj58rVhwCQlJSUkpLy888/c9co6PVjjWLLli3vvvtuYWHhxx9/HBkZ+dRTT7XiuFoQI0QEoAgGrogRQighunLFZ4QCEO6FaMUnuwqBept/mVYaVTJQrzwlemUFIaS2tpYxtmTJEh8fn4ceeig7O3v69OkuvbZlKQgA8fHx06ZNW7hwYWxs7IABA1wOa4Uhkbp94VyHAIjIRweIAJQCQYddNZmM/DE0jSEyxlChRjdhnSdE/QNX1V1SRl1EmqIovI92SUnJF1980bFjx9GjR48YMaJ79+5FRUWJiYkWi6Wp1D4A8PPzS01N3bRpU3BwcHx8/EVgC5QSIAZExqtSdSFNDAbu/NAIuQANAq9u8Ajx4MGDvb29hXEWGBi4YcOGqqqq+Pj4hiJNdopyCoyIiHj00UdPnz59//33jx8/vnlfFC+DBimtvRXRgqxRZ347rzwjDFlFZZXVYjIaDaA53aQMUXEbhecNTgRCexVEI7w6sheUf+DisKampra29rPPPouMjOTBvz59+sgHCBHLv0S9xN7Ly+upp5667777LBZLUFAQtzJFleFFGCwiIgNCgCIhhJjMFADatWvXrl27w4cPh4eHeXh4IGPOEKIb5wqhTgk3u6wPyeBfqqq6fPlys9kcHR2dnJwcExPjcDji4uLi4uK4g7RRG4tfrX379m+88cbq1au7des2YMCAVk+WaQhEBFQJIc4tvxCogXNhZEwjpK7dktsuPH/IWVQbNmzo2LFjXFyc4DB33XXX6dOnec1Vw3O5/BNOLEppQkLCCy+8MHDgQFHBDE14sAcMGHDjjTeuXbs2JSVlxowZrevrPpMg5BuKA+VxaIeqbtq0ael334WFhc68aUb79lHAUFEUh6rKNeBunBuEt1N8aEo/InrRvcPhqKio+OqrryIiIkJCQsxm8zXXXEMpFa3RxBWEESCzML63jq+vr/hTLp+4KHDGcmpqq7ds3lRaWp6SkhodExUQEHD6dL6qqowxYIS6Sas1gA0aZ0P91mtcRh46dGjdunWBgYFGo3HSpEk8SY+71oVrq1EKQX0/im7duiUlJYlo9IWWhdzGYBpjGgNQGLLTOaetVquvvw9/WnemTGtBZlCapnXp0iUiIoILNk48BoNh2bJlXbt2bTQFVDixiF51s3fv3uLiYqPR6QdqhlrCw8NffPHF2tpao9FoNpvPtkijebSUvxACQKC8vPzZ5/61atVqQojVYvrr/Q8AIYho0OPq8mNdBE3w8kLDCRFKjfhJHCD38Wt0Go1GY1FR0X/+858hQ4aYzWYvL6/JkyeDnsjOzxKp7fIdZUYmG52clPlh51AY23C4TTlFXQ7j91zx84r775+bm5d315/veunVl5KSkrZt2+rt7dW3Tx8gVHTidhNVo3CRak1NUaOuBdkPUVlZ+fvvvzscjlOnTk2bNs3Pzw/qE4No43fGtyC8WM08T+uCUGI0UZvN/uMP3/3vq4WBQUGz77ozJSUVACmtx6Aarjs3XIImzTMrroWXlZXxQniZpYSEhAwePLioqIgTj3xxcWVZGwsNDRW+KKhPnA1hsVj4xrytTldnEoT1gwg2m+3EiZNAKCLLyc7RHA6D0aTV97kJBdNNZwKyhxPq1yDLfnOXMJ443cURSgg5efLkt99+m5KSQin19PScPXu2cE24xHtkuNwIJE+Ry2tqDQ8Sgeabbtc7EjZu2pidkwMA69avz83JjY2NDQ8P9/X1JVRBDQEZ94+i1M/C7eYCibSa4l8yZLoSn3l6FKV03759VVVVGRkZ48ePHz9+PO/P12hBWFMz3/DWF8cOI4QAoRpjhNLjx4/+61/P/rFvHwD4+ft07drVavVQVY37g1EH1G+geqGf8LKAC5sSvEJOoON2GP/TarX2798/NDTUpdo4PT29pqYmPj6+4cVBqshyOByMsRUrVvTt21fU2LTQzmt1ompxQT0FAPD28R42bOip7Gw/X98+ffsaTCYn126xTnqVg3PwjIyM6urqDh06eHh4CNkGkhOpIVNjjPFusxs2bPjuu+9mzJihKEp4ePhf//pXl4OJtKdEQzbU1t4L6uXQiYmJoSHB5RVV3bp2DQwMMBgMPXr0+OmnH9u3i/Ly9AKql1MQIuzdS/vkbQc8iaC0tPT06dNBQUH+/v6Nzo/wfMquQn5YTU1NRUXF5s2bLRbL7bff7unpybuxg9QF/uKPq+VgjAECJRSQ1FRX5+bl8u/Lyso0TWMMKa3n/+AQ3hE3OYHOfPh7l6uHQd97WfzJ5SIilpSUZGZm8qYw4jomk2no0KG1tbWiNSPWb0wKkgtdVVW+lQQnxUuolLS0oJ6nKnh6eD751FPXjhsfEhzUs3t31DSiKEAIw7qWu0J3aCpeenWC6Ls9rFq16vHHH8/Pz7/tttvmzZsnmBGpnxojwnWIaLPZ7Hb7+vXrT5w4ERcXFx4eHhoaOnv2bEop76PdsDVa21/YzqUFBAgwBjNm3BQaElxwunjMmDHePr6MoZ+fX/fu3WtttZ4eniJTRl6Z7px4Du7SnD9//pdfftm3b9/58+c3WmIlz5Xsk1BVddeuXf/973/vuuuu2NhY0W9PnNL255lSCqABICCLj+9wx+13LPz6a09Pz7Fjx5pMJtkQFE4FIoWj2riYvwiQp4JSWl5eXltbazabDxw4UFNT06NHD39/fz5pXHHnfgKr1RocHMy7jIKeR0opLSoqWrlyZf/+/V0Mbkqp4FQAoCjKyZMnT506NWTIEPFeLhWxtaSgngAwTVUBgBISHh5+3eTJzniNxpAhUB6tdo6kqqqqpKQkKCjIYrG0dlHa5QphpRFCFi5cuHXrVgD4+eefb7311tjYWCH5ZO4DAJqmVVVVWSyWFStWFBcXm83mF154oXv37jNmzAgPD+fTS6SWGfJ6vhyWN+EZx8AQADw9PCZOmABEIZSoqorIPDw8ioqK8nLXTp48FRhQhdjtds7XeIenNs6dLw646pmTk/PRRx8VFBScOnVq7NixjQpCWR8XLElV1QULFmzdujUiIqJTp04+Pj58lyWutKEUaW7LqHPiMebt4/33v/8tuWs3v4CAYcOHKoqCyHjiqEsUikg7d17l4HMiareysrK+//57i8Xy1ltvVVRU3H777f/617/krsV8JgsLCwsKCoS2JHhRt27dNE1LT0+Pjo729vaW83XFuULohoeH8/aksovi4qOFJO7UyBlDvbNaXWsJhs5YNKW0pKTkxRdfvOuuu955553i4uK2v4QuDmSG0rVrVx7vbdeuHY8ni2UpMq9AX9tffPHF4sWLjUajl5fX6dOnT58+/dNPP/3jH//YtWsXSOYRSHFEcceLO8Szhhg0b6/GGBLuuGMoDL6YmGgvL+/KikqNacuXL583b95//vOfwsLCS/3sbQj8vRuNRp76a7FYmtqzlDHGvZ2IyL01p0+ffv/995999tnPP//8+++/37NnDwBwKSi4W9snJAAghHJWhgwQMSg4pKy8/NSpk9xfgljXBJVz6uLi4t27d+fm5vIBXhZjvKDgM8Dzm1avXu1wOAYNGnT06NGTJ0+WlpauWrWqoqICJB2Cz5vFYvHx8XGJiHGT8eWXX542bdojjzxy+PBhKu0W7pJ4vH//fg8PDy8vL95N5hK+iJZ0lkEAVBTK/0ZEBEaAUEKcmXxME/S0bdu2V199tbq6esOGDSkpKcOGDXP736F+U7RZs2YBQHZ29tSpU0U4h0hZMxUVFXa7/csvv+zQoQPvrzZu3DhCyHPPPWez2QCgtra2uroapOC20N/57QQXg0seFESdSJo8AJ0F9fxfxoASQojBYNA0NTAweOnSb8NCIxSDYd68eXv37vX19bVYLDNnzrxYA2jr4DwlLCzsX//61/Lly5OTk0eNGtXwMJnMAEBRlNra2oKCgi1btvB9SAoKCrKzs6E+rcrd+ORLXZyhNQn9WURSMjob1oo/2NChQ9MPppeWlgQFBcsESCnNzs5++eWXf//9944dOz755JNJSUlw1WcjEylzymazKYoybNiwzMzML7/8sqqqqk+fPl5eXvJhnOoKCgqqq6t55YMcmjl8+PD27dsrKysPHjwYFRX1t7/9TZaFIq0dEYODg202m8z9LtUMtLB8gnClihAChCJBAFAdWm1NjdFkNJpMdoeDEsJbN4nIVptgxJcCQjkCXRrJWbUBAQEPPvggdxpzDZ37qRDR4XDk5+e/9NJLw4cP79ChQ2RkZPfu3UF3O0yZMmXz5s07d+686aabePc1kfsgW96lpaX79+8PDQ3lQexLHeBpwdvnLdY0QCCEMkJJba0NAIxGxdPTY8iQIRqykqLCmppqALDZbAUFBXA5BK7OE0JxRj2nQ/xE9EQ+8aWHh8f06dPHjx/v6ekpe5/kU2S1yeFw/PTTT4qiPP744+Xl5evXrx86dGjv3r35wQ1rDWtqao4fP+7h4REREcFTTC/WNDQNrPt/BN5kFIEAoQQRrFbrt99+GxQcOHRoGNSvGzlw4MB///vfkpKSvXv3WiyWxx57rGPHjpdeul9cyPQj85AlS5ZYrVbu2/zTn/5UVVWVlpY2Z84cIQhlD7PRaOTpftyxya9M6u8rbrfbRehHhDO44l5YWHjkyJFhw4ZZLBbuoriEwuLsd6gnoACprKp67eXXfvrpx+49kh9/4unQsBBKCCL27t179uzZGzdunDhxYs+ePa9aPYt3SSeEhIeH882UQecsfE44FXKNu6amprKysqysbMGCBYMHD+7Xr1/Hjh25CBS6OSImJiZ+8MEHBQUF7du3DwgIQClNlN+UEFJeXj5v3rzly5fHxMQ8/fTTQ4cObeNREO5q0RgSApQSAGX79m3PPPMcInvyycd79+4TGBj0008r/vznO6655tqysvLExERu8VzxdCVzHEEDtbW1FRUVnp6eHh4evBGoHIPneS4ukH1WPL+0oqJizZo13bp144Lt7bffLigoCAoKat++vbxgxX1ramrefffdjz76KDQ09NVXX+3Vq9elrU935rGj8wMfHgBBBEBggBqqQcHBs++6y8/PNyPjqK+vn5+fn+DORqORxyYURSkuLs7Ozub9wOQ8jiueuuScFwDgcXdVVQGAl83w3v333HPPL7/8Ul1dLbc340YOd6H7+/vzjjD8gvzivXr1mjFjxqJFi/r27Tt27Fje35j/JGtXDodj+/btdrt9ypQpgYGBshF18ef/3Bp2kI0bN3308UdZJ7IOHznUK7XvPXfP5pI/MDDwmWeeqamp8fHx4ZrC1dZuhkdiPvnkk3//+99ms/m5556bOHEiV4VkzYi/7JKSEk3TcnNzP/jgg3vuuWf48OEJCQnR0dGEEIfDAbpvSgi8yMjIyMhIaNo9deTIkZ9//jkrKysrK+v3338fOnSooC1ok8tbFEXwP8vKyj7++OOffvoBAEJDg+Li4jp0SOjXryQnJ+eZZ56+7bbbgoKCIiIirpKEZGELcoaVl5f35ptvbtq06brrrrv77rv5NpPNn84/yDkyJ06cKCgoKC0tDQ0N5eIhOjo6OjoaGiMqfmJ2dvYbb7xx6tSpgwcPrl69unv37sKXdUGG3WI4/aKEPycCEIZ8LxPq7eNNCJkzZ87x48f79u37r389m5SUxAfYqVOnYcOGbdy4ccyYMQ888MDx48ePHDmSmJgoc+G2MLoLByGNDAZDSUlJXl6eh4dHdHT0nj17DAbDwIEDhUJgNBrz8vJqa2v5FiJyQTMAVFZW1tTUiGIt4cAIDAzkm/Tef//9oaGh4nZErwDmF9m+ffvq1au//PLL7du3v/7661yNa41WHueClkoprPuABAjXSQGAKgZvLy9E4Em0mqZ5eXlxOxoRucfvCiaphqCU5uXlvfHGG5mZmQCwcOHCQYMGhYSECBc81w8qKysppWvXrj106NCf/vSnESNGBAcHd+3aFfVOj1yBcNklgNTfKbchQkJCYmJijh8/7uvrKxe0XjL/O2F6Zb0rEBH5PxQocUZ4NE0tKiriB5SVlamq6uHhcfDgQZut9sEHH+jVyx/qN224siGH9BBx5cqV//73vxljR44cmThxYocOHVgTe5/JcT5Sv83mqlWrLBbLjTfeaDQaOVdCqRBFXEpetmazOSgo6NSpU5RSYXS2qVeAiABIFaIoRAMglABASHBwQUFhTk7ut99+l5zc/amnnuKhqaCgoD//+c933HHHwIED+daJotwNpJ4Vl3pMFxCCMIqKit57772FCxdGR0c/8cQTBoMhICDAbDYLQaiq6pgxY7Zv315dXe3j4wOSUoWIqqp6eXlxhazhthKo160K8YnSVgEAsHv37iNHjgDAb7/9lpmZmZycfAlnvqUF9fIfCKx3auo99/zlf1981m/ggAkTxoNu6MgNCeUcyKsKiqIIO1hQBlfq+fw4HI7FixefOnXqhhtuUBQlKCho6tSp3C/BT5E3yqF6d1qoXzXvclN+o8jIyHnz5iUmJnbq1Onaa6+VOaCg4DbyRggvTiUEGfCGDECIn5/vnXfeWVpaQSn85S9/CQjw1zR16tSpGzasz8jI4KUmbSJAdREhXiLqcXce5GtmKgRPl/l7aWnp559/HhERwaMysvAT4aJGCSw8PPyll15asmRJcHDwuHHjQOqS1ZZANI0BIAFEZADU28fXYnG2u+TBeD6o6urqQ4cOde/enfv02rVrt3nz5tDQUG9vb9l2uYQjudAQb3n79u3vv/9+dnZ2VlbWM88807t377vvvpu38eScymAwVFdXZ2RkDB06lJ/LBZumaUajsby8XGQ5iDYXqJcD/v7776WlpRMnTnRR37lQsNvteXl5/BsPDw9RvUqb7Y114dDCgvp6XyBoZrP5jjvuGD1qeGhYmK+vD29/JST/pQ17XnL4+/v/4x//+PLLLxFx1qxZPJ7HORGl9PPPPzcajR06dAgICOjcuXPnzp1Rz+pu2GIGdCMSpBzRRnmQcDuMHj168ODBiqJw13yb0tzrQXdsMRUId4kgACHXXDOmY8ckAIyObsef38/Pr7q6Oi8vT2x90Pa48AWBnE1HCBk5cuTcuXN37NgxYcKEdu3aQbPEAJLpTCktKys7dOiQ0WiMjY3l8RhRJihOaTS7jatlo0aNGjx4MA8LtbXiYAKAyHi4mTHeooECQlho6PTpNxYWFvTv33/KlCnyQuAD4cuturq6sLBQqO9tbXQXFF5eXjxcSggJCgriCbQ89ox6L8P27dt3795daBJ80riYjIyM5H5BuaEHn0mLxdK3b9+QkBDRjxsksgQAu93eq1evmTNnOhyOcePGRURECJq8JFNxLgE8REDCvLw9k7p0BV5cSEjDXXLajvFxkWE0GmfMmDFixAjGWLt27VRVLSsrq6mpee2112JiYpKSkjw9Pfv27ct9C1wDkhtZoV50yJUsWato3qoTFoDFYsEGuylddFUXpfz2Jn4HIJRQBcD5nDzSA7GxPGSlEQKIxGSiffv2PXAgraioKDAw0Hn21UFdIk8PEdu3b//MM8+UlJSEhoZarVZsNpol61I8K2HJkiWPPvpo+/bt5VQXlOKITVEX/5NvJsCknevbyPwjAKGU05vCN6ZHRETFoEycOHHNmjUPPvhQr1697Ha7wWCglFZWVvr6+oaEhPDZ69ixY0FBQWFhoZeXlzy6K1jZEkPr3bv3vffe+9Zbb8XHx7dv395ut4eHh4sAPNFLnw8cONCuXbuAgACeMCzagR49ejQkJKRLly7Ca8WVCcaYt7d3ZWXlmjVrIiMjg4ODxb5LHIqi7N2719PT87XXXiOE8IQS8XhtOkbohPSEyJAA4/lapP5Cgvo9exqyYOGkltfh+Q7lwkM8tvxZmHFEKjU1GAyRkZGapuXk5JjN5gULFiQnJw8fPtxisQwaNIjnZYlpcclVE1PRUGeHxiZKnmH54EbZ2UUEDw02nbPq7E7EgAiZyJvW6t87vSgUADw9PYqKimpra6GJOJb4Bi4TWjoj5FGIz35+fn5+fnimfYVkQUUI2bJlS2Fh4dy5c8PCwmRHa6NLUrYLG8pal1BiWwB/UP4REQhPnwEAgA4dEp5++mlfXz+ZTRNCjEaj4PXcxnVeSlc7XGamTY33/CHYstlsvuuuu6ZOnWo0GtPS0kSdH+j1FQBgMBi6detG9Pxk1CN/DocjIiIiNDQUJG5Dpe1uYmJiamtr5YYygkcxxqqrqw0Gg5+fn0hGbYq/XRyco9bDVw0AMKYBAbvdvmfPntWrV+fn54Me1XAxclVVPX78+KFDhxwOh+y6uVyITAxHHpcYKXcI8OQgSml5eXlWVtaRI0fef//9o0eP9uvXLz4+/tprrx06dKgw/4XHAKTKCpebNjM5/F7ipm28TKIlkAdPnG5hduTI4VWr1tTW2vr27XP48OHq6mrUk7DEqPPy8tLS0iorK5uaxisGfMhYf8+sZg5GxIyMjLy8PKvVmpiYyBvUCdefmCimb90sJlZVVdSTnC/oiFoPCHUkRAAIMrRaPVTVsWTJYk5OnOfW1NSYzeaAgAA+Xp6HXFFRIQIQojxXJqQrjKiEyLdardHR0Z6enpmZmbw5kfASi14wR44cOXz4sMyuEdHhcOzfv583YWgUoaGh27dv3717t7ij+HDq1KnTp0/379+ftpmm5+dT24BAKDKmELJ5y+a//+1vmZmZN9544/PPP+/r6yvbSXzGV69e/eabb1ZVVc2cOfOWW27hO8de8vGfG+RVIevOPBhTW1ubm5v72muv3XHHHSNGjAgJCRE7OBMp+eV8lpZw2Yvpvfw8OU2Mnjea4TsGZGQcvffe+3bs2D1q1MhJkyaGhoZyR7FsQ+/bt+/ZZ589fvz4lClT5syZ02gt3RWDRk2WRg8TxtyKFSuGDBnStWtX2VXuQnvCmUH1HXZA2su+LfCpcwAiAmJyco/aWvuqVasGDBhw+vTpoqKiwsLCkydP1tTU+Pn58R1dsrKyTCZTjx49uI5VXl7u6enJ3TaC2C7HGWgKDR0nlFJfX99GrX+z2Txw4EDe04rUT19PTU2NiIho6i5Wq7Vz5868JTKVurcjYm1trUgObyPUda7c05np4Nwvdc/uPTt37iwuLv7uu++OHz/eqMtl0aJFy5cvX7t27YcffpiRkSHE5GWtahGpb1BhYeHx48d/++23N954w2KxTJgwISEhYfjw4dHR0TwjVOZBIkcU6nOlFto03FO/d+/e9PR04fa5EAO8cEBAbEIYMsa9KHTnzp3r1q0rKSn64Yfvg4ICLRbLmjVrRNI/ADDGfvnll0WLFm3btu3tt98+ffp0W1hUFxpnHCMnidzc3G+//TYhIaF9+/ayidNQBxcuelVV9+3bl5aWBpKadUHHcsGAlBIE9PcPCA0NPXny5OrVq+fOnXvrrbd+9NFHiYmJwcHBokgpMTExICDAZrNVVFS88MILM2fOnD9/Pm+V7GI0X9IRtT6EmLfb7Q6HIzg4GCQ2xfQNU48fP757926Zw3Df5u7du3l/voYzg4j+/v59+/bdvn17YWGhIDBCSHZ29ieffDJixAjewOHijbZZnItFSAhB5vTD83USFh4WFBRUWlravn17npPGJYToB00pFXvv+fj4CHOw7UzEuYG/Xb5ryTfffLN///6ZM2dOmjQpJiYmMTFRHCYUIuF/F7q2OOasIhOMsUWLFr3wwgseHh7PPvvsmDFjLjuG5SyfaABduQIAiIqKCgkJyc3Nj4qK9vPz9/LyslqttbW1PFeND9lisfC2IDyYfxFH0KZRW1tbXFxss9kGDx7Mw4qyR1RQizAceUL8119/PX/+fIPBMHfu3FmzZpEz1a22YfC94QBR69ixY3R0zJw5c5YuXQoAGRkZ1157rcFgEMpoVVVVaWkpIv7222/z58+vqqratGnToEGDRowYIfw9cGUZhQ3HIpt6QgHi5NGpUyfOuoWVzPlehw4dwsPDm7oaIvr4+CQkJJSWlhqNRlVVAwICCCHl5eWxsbE+Pj4o7XByUQbdHM4taxQJocCcdqHq0EaMGPnSSy9lZmZOmDAhMjISpS5iHJTS2267rbS0VNO0O+64Iy4uTqgbsrndumO7cBCupMzMTE9Pz2+++aaiomL8+PFdunRJSUnhGX2ih4IcexCz4SIFZdW7JcpBfn7+559/fuDAAQD45JNP+vTp4+/vfyFGegHRxNsWrlFVtXfv3v3tt9/evn1X3759evbsqarqokWLbDbbwIEDRU7HpEmTsrKy9u/ff8stt4SFhV3UIbRJ8DW1Y8eOdevWzZ0718vLS/AaOUUL9XovTpCKojgcjmXLlv3xxx8A8MUXX0yfPt1isVxGq7I+kBLiUB2Konh4eHp4eEZHR1ssltra2piYmNjYWNDdKoqiREREcHWqtLTUbrcDgM1m42JSLNhLPJoLDE3TTCZTQEAASH51om/MdOLEiTVr1gwfPpxnDvMJycvL27BhQ2RkZERERENhxmeMN/d49NFHy8vL8/PzH3744YEDB3722Wd//etfw8PD21Qp1DkIQgTgtToEGENgVFECAwNnzpyJiLx2zUWt4AKgW7du7733HiGEV66Abim6ZPm3EbhozfIH7kE6fPiw1Wr98ssvw8LCxo0bZzAYoqKi+LLhGQe81AakalM581jOzSOE1NTU8GA197kL/aApNmQ2m3klGQBERUVxC7stAimcJSdFBEKIwUA0jRoM1kmTJl577VjetwgRExMTGWOFhYWBgYHcexMREfHss8/a7Xaz2dx2FMwLB+HYbFSD5L8ePnzY4XAMGzbs9OnTubm5cXFx8uZK8kVkajQajSEhIfyAyMjIRi3ItowGj0j4NkyMqYjk3nvv9fX1TU9Pv/baa1NSUsTaJITk5uYeO3YsISFhzJgxc+bM2b59e58+fbp27Qp1SVuNFBdeLtPSEI0acJRSTiRQXxYiYmxs7ODBg3kSjeDqnp6evXv35gTT6DzwK3Tp0sVisXz77bcA8NRTT3322We33Xabj49PW/M0nF+yDCUKURApJQDUeSk+PEE3YrQmk0nw64bGkLykm08Nb12IwIm4tTDgZJoQIrCiouKPP/4ICwv7+OOP+/XrN336dFVV+T6oIjlbjE6eBJGL5SLhCCG1tbULFiz4/PPPQ0ND//nPf/br1092xzc6DwEBAffff39QUJDZbL7tttt4l6M2RVjnDKF+KAovwKCCbCwWS2Ji4sKFCxljgwcP1o8nZrNZ6KogtWIR2oZ4iVTv8HQ5zhXqWbIu+SziADHe48ePV1dXW63WRx99FAAeeuih8ePHu3T9lfvOgE6is2bN4g1Wpk2bdql6fJw1pGckLj84FyNBxIiIiEceeQTqr2iODh06BAYGGgyG4ODgf//73zxZRuwrTvQEN7HELlM/lgDq8T/+J2dKnp6eZrOZNKifoZSWlJT8+OOPPXv2lDPRsrKyVq5cyfcGaBT8Cn5+fklJSTx4wbt8cF2W6W2728gEnocgJFL/0ZbsttMYRB6RLH6ESX7x54jUT4sSz0AptdlsxcXFRUVF8+fPnzZt2k033eTv7899LE3l12VlZS1atMjHx+f6668PDAzklaootXbkKCsre//999PT0wEgOTm5d+/ewppsCqqqJiUlzZ8/HwDsdruIPl6JQL1QhwGAh4fHqFGjqqqqSkpK/P39hbXdUMGUJ1loIZcv8+IghKiq+sMPP+zevfv6669PTk622+28zFlwrh9//DE2NjYoKOjhhx9et24dAFit1iFDhojNL6FBTSrXDFRV7datW48ePQDA4XCwBg1I2yikp5PlNs8LAgBKCa9GdRmvOPLYsWPp6ekTJ04MCgpCxKCgIAAQOVlidfODub+H25ptfWaaQMNVUFNTc+DAgTFjxgh9UTYDIiIixo8fz3XN1atXL1++PD4+vlevXqNGjeINSBuVZ6j39Z4wYcKuXbsyMzPvvvtu3kiroW5xyXH22zABAjAAviX0eSmM3FXIGHM4HNnZ2V5eXrxVOUi2+flcvyUQHEHuZCakIP+zqqoqLy9P07SPP/545MiRf/vb3yIiIvgeZiLoIl+Ti6WysrJ333331Vdf9fDwsNvtd911l8lkkolAvrsweqxWa0uUTYPBwKcOpBhkGyGpejhT0+2zuBIhiGg2m0NCQhYuXGiz2fr27auqqvDGy+4E0HWXkydPWq3W0NBQ4QO8TN2ngkMtW7bswQcfzMrKOnr06BtvvMETEMQBVVVVRUVFMTExnp6evJcmgLMhPjTRgkAYykJLAylUQS6fjDaXp+SdbPnH5l93ZGQkbx7d0E4SOrr4niupl/X+J0RqXCW4h7+//5EjRzp27Aj1C0y5Mffbb7/Fx8fb7fb58+f/+uuvAQEBvXv3HjFixMiRIxslDyHkCCFJSUmvvPKKzWaLjIw0m81yFdnFHHXzuASROeGX4EtO07T3339/7Nixd9xxBy8G4IddNNco6B4A2XvJXSIFBQU5OTnLly9/7LHHqqurb7311j59+gwbNqxjx45iYw0XLVt8KC4uXrdunaqq5eXl27Ztq62tlT0q8lT4+/vfd999HTt2nDBhwtSpU1uiBHCdlH/mj3rZcfazBerbdxiNxtGjR3NJoCiKqqpyDggHpdRut3/44YcTJkyYNWvWrl27WqV889KCv+LffvstKysLAHbu3JmRkSFvIl9ZWTl//vyIiIjk5GQ/P79bbrmld+/effr0eeihh3iSXkMpKCgH9W0uOP3LJubFH2nroU5FcHGHcvBvsrKytm3bZrfbhXgQv6KU2lZcXJyfny8biJddzRKHzIUIIfn5+fPmzXvsscfuvPPOjRs3gvTSuZj08fEZPHhwUFBQSUlJTk4OABQXF/PwBDcTG70F0Tc2MZlMcXFxSUlJvHBAriJrO1zr3FusnT/4etu7d+/HH3985MiRY8eODRgw4JFHHrnIa0+20Pn70zQtMzOTEJKWlrZ3796pU6fGxMR06tTJarVqmsYbhMr7bPDrML01qBBvo0ePPnTokKen55AhQ6xWq+DCKAUbeFLyzJkzx48fb7FYfH195XXYFKHIViOR2p1fRmiqfKIpiKm2WCwRERGnTp3y8fGJi4sjei2ULAsB4PTp02+++ebRo0cPHTq0Zs2aPn36wGWeBMjf+DXXXLNmzZqTJ08OHjxYhFt4xuO+ffu6devWuXNnztAHDRq0bNkyxhj3+EETKWmy3SPTZ9thUucDRBQWYUPGwr9PTEwMDQ3lXhmXhgNixo4fP/7ss89mZ2fPmTNn3LhxLhv5Xo4Q73fLli0///xzaWlpfn7+rl27hgwZ4nA4ZMeJ3W5fvXq1t7f3mDFjrrvuusLCwsjIyICAgG3btvXv37/568s2j7Ct26Cb4RLsmivzbkKIxWLx9PQEAEVRvLy8mvLhXOjn4TLM4XAcOHDAZDItX768qqrq1ltv7dSpU0JCQvOVDzILFmUhfn5+9913X3x8vJ+f38iRI41GY8NxCb3SYrHwihzhr3CJIzb62ELJvSy9NGfzemUNg9vrf/nLX1asWLF3796ePXvycI6YED6BRqORp4OD3jBaOADldIDLC4yxa6+91mq1ZmZmjh492s/PT/gwCgoKli9fPmPGjOjoaDEJvEQaG4uhcmB9Xz3UX55ywtFFHOXFxuHDhzMzMydNmgRSyhtIagEALF68eOHChdXV1Xz/wvHjx1/W3gUOTid8u+/S0lKLxcLjoy75GRaLJSUlJSgoSFGU++67LzU1NSgoKC8vjwcIm7my8MESKdgkc7a2Q1etLAib17hlS0hMQUJCwhNPPLF48eKYmJhp06ZBq4Yl5OXdlDHOv1FVdf/+/RaLZfHixRaL5frrr6+treVJ5Cilt8gXESuB6i1lxa/8lJCQkFmzZskzI3uihASV2XcL60nEA0Bjem7bAJ5PFpULhIbBM82MRqPBYAgLC6uoqEhLS+vcuTPU10gAwN/f/6mnnvr222+Dg4MnTpzooru0nRXYQsgkN2LECP6lIL+8vLz169ffeeedoaGhTN8NVHYVNJr9D9JUiAkR/Evc97KbKxkNH76hkh0ZGck3ppAtYxdOlZeXV11dzT/s3r07Ozt75MiR8fHxLlc7o/7aFoD6Fkv85fbs2fORRx75/vvvR44cyfNl+GFi0VFKy8rKMjMz+/TpExYWdt111xUVFa1evbp3797QhNEi2BqR4pEyjV3M8bYErSkIEdHhcPA8DgDgBlZtba3JZDKbzcJGFtPBJ8tgMFxzzTV9+/b19vYWP50/McnaHCFEBLfF6wF9kdtstl27doWFhS1fvtzPz+/GG2/UNK1Dhw5EzxmTmYXLK5fHIg6QV5FgVbKOKR/v8u85jL2t8imeI9M6Plsxpfx1MMaqq6tTU1P37du3efPmhIQEkYrNXxn/c+zYsYMGDTIYDNynfblvk0n0lC7UUxn5l3a7vaSkBAAiIyNNJpNLtnMzV2vJ95f1jOmot0ihARfKzc3leSKyeJBVXsbYuHHjdu7ceezYsbvuumvmzJk//fRTVVWVSEVGyfPc9mUhqd+dWFGUPn36OByO22+/HaTnZ/qOAoqiREZGyjugKYoSGxvr5+cnvmlIJ/IkiNAgtFWKauUXxjM4hIB5/fXXhw4d+vjjj4smkC4SRYilgIAAvjdKUyLnbCGuw28hHGI8psJvarPZ0tLScnJyvvrqq+3bt8+YMWPSpEmdO3fu1q2biwxrmy/v6oGLwrF8+fLx48fPnj2bb6qwaNGisrIynoQMutnEs0m9vb3l3dhdrnbZwWUeOBnv2bPn448/HjNmDE8TbeNc+NJCMBxZzkVHR/fp04cr6y5+BYFBgwa9/fbbCxcunDNnTlRU1OTJk5ctWyY6bcoHX0bUJawFPz+/1NRU3kyH6A4tMQmU0pqamuPHj4M+2NOnT+/bt0843i/lGFoJ51A+0SSE9sQTQHbs2PHee+9lZmaeOHGid+/e3O3pQjRU2hfNxYZrVMs4u4eVvJFE9/Zwu/DEiRP79+/38/NbtGjR5MmT//GPf1it1sDAQEIIN2rlu5/tw8geACK5ecUAL6OlcuGAeBblE4jIbXpKaWZm5nvvvbd+/fqtW7fGx8ffeOONGRkZBw8eTExM9PPz45afC7O7Yiac07Dczj83N7e2trZ///48IMrTaK+kIbc6UEoeZowdO3bsf//7X01NzZ///Ge+S4ygHNQrqQBAUZTq6uq0tLSUlBRKaWBgYFJSkuhWKhtYbX/mxbpgjPH1cuzYsb179/L2yKLanR/MhxMRESGzMr5JoYeHB1+VbX/IZ0QrxwiJnniNiNXV1Xwn1ZqaGqFriCNljUzWKTiNNhXbbznkrBNCiOg0f/jw4by8vNLS0k8++eShhx6aN2+ej48P39JdpIMSQkQrBDgP0UWaCHa6ZSE0VV3YBESVGwCoqlpVVcU/8Jq5gICAf//731OmTGm4wxmTdtK5AqZdxJK5LDQYDAcPHty5c+esWbN4h1vQy2ku9ZO2XQieAABlZWWvvfbau+++SymNiIi4++67hQdIBNJE2L5du3Y+Pj78S14TvHTp0jlz5rjUX7Z9MmNS42wuDuPj44OCgkSUVM4D4s4VTdPy8vIcDgcf+MGDB4uKikJCQuilaHtyIXBByic4GfXs2XPOnDnLly/v2bPnwIED5ZmVvfDylyDF1c4TRA/SCrfYhg0bioqKEHHHjh133XXXiy++GBYWxssV5MoHTuitzk2uDAdCa4KchSgU8TDGWGRk5OzZswEgLCzs1ltvNZlMfn5+M2fO3LVrV3V19ZAhQ+SIrOyEv2AjuXhg0jafAPDHH3+UlZVNmDCB7y8BzSaFueECQkhlZSXfOZYxlpaWVl1dzTenlWP5wkY8fPjw6dOneTMpAHBpc38ZkZkcZubc7+jRoxkZGVFRUbIvQXzgVOdwOMTovL29vby8rhj9EloiCBu8WKL/10h1quwV9Pf3f/jhh//0pz8FBQUFBgbKjWtlXzz/pmEC93mSlPBuU0rT09NNJtPWrVt37tw5f/58ngrMEyiEig1SlJjoweRz4ykuLElcEy6TddKaQNHdozUuhoiIHh4eN954Y58+fTw9PUNCQvib6tat29GjR6uqqgoLC8PCwsTMy0TVWo9xCSEnODDGCgoKEJGX98hG85Ux2LNFy8csjDyLxdK5c+etW7cCAK/4hgaLVHhH27dvz7v68SskJye/8847MTExPXr0EAlK7DJpdigCgdwH1q5dO17DJitSYh4URQkLC8vJyampqTEajdXV1Tk5OTydENpeafy54QyCEPV0GnmUjHfuawBZV+Vr0mw2JyUlAUBDp7PL8U1drfGnqj/1sitffnmImJaWZjabf//9d03TpkyZMnHixIiICNGOpKEwbvQJWwKXcCDR088YYzt27Ni5c2eXLl369evHC9pcLM6GasEVhNYZkcs7MhqNoheUMJJ4S8PXX3/9n//8J99VR48ON6KCuHjpXRQv2aBslec/BzR8HtDpSlGUrKysl19+uba29uGHH+akLtf8XRm8qaWQXuwZByzPJCL6+fk98sgj7dq1W7FiRUpKCk+wgvpTR/Qti9PT0ysrKxMTE4mewBwREeHp6SmvXyJtvCM+uLi76MXt/C7fHeovJf4YmqYdOnQoLy+vS5cu4smhgUEiemkBgMlkEte8MpKzzsEiPAuIiWuqpUUzfzbFhhpd5CK4zdUxm822b98+RVG+/vrrsLCwmTNn2my20NBQcbxLJ/5zhqBsIu1vIAcM9u7d++CDD+7duzchIeHtt98ePHiweEiZ0wk3xdXCvM4JjVKIUMCNRmOnTp0mT568YcOGDh06JCQk8BfBDyD6BiDNx31ld1CjN704EE8uWj+Lx1AUpbKy8p///OdXX31FKY2Li/vb3/7GqybkRxWZ/cK9cfFH0ZbB58pgMHTo0GHu3LlDhgyJj493OUaO5lBKExMTHQ6HWOmenp6RkZE7d+6Mi4sT5qCseMlWl3ypi7zMRU84+cFE7Jx/6NSpU3R0dEVFRUVFRXBwMM+ZEEyVEBIQEMBTYwghNputrKysX79+2KAR6+WLc1seLRKOZzs7qqrm5eU5b9B0pFB8X1hYyJMmhB+MN5r69ttv09LSPvvss/379993330333yzj49PcHDwhXBLot4AExuUIfPPGRkZR44c4cnHhw4dAilwJWuRV26CQ9Nz3npvA/U9IP39/ePi4o4fP/7HH3/k5uYCACeJtLS00tJS1tg2WPJFCCFVVVX79u0rLCyk9dtOXmRwqhCJsi6Pbbfb9+7dyxhTVfXo0aO80FsoiCLLkV9EeCYuyUAuBqQ3eVZvS9BAYGCg3W4/efKk8yKNdWJDxJMnT546dYrnKPFaLw8PD751kThS5GrJziEhe7gSLETp2Q703KBvyugsGxOSWKQTImJ2dvbatWvnzZt33XXXffjhh1VVVbIJCwDl5eUHDhyw2WxctOfm5oqcmku1RloXZykIEfSOIS1qGnJG5i6Mp+Li4ldffXXOnDmff/55bW2t2N694fGIWFNT89lnn91///0vv/xyVlYWZxPHjx9funTpgQMHli9fnpOTM2/evKlTp4aFhYmqz1bnBS60fvjw4XXr1hUVFcn+hE6dOqWkpJjN5q5du/INbmTq4cPPz8/Pz89v3WdrKyDYFHdCOIvyicavLRU8iQSZ0NDQe+65p7i4eM2aNYSQEydO/N///d+sWbNefPHF8vJyAOC1htCYszQ/P/+pp56aNWvWvHnzsrOzW8ttcD4oKir65ptvfvrpp5qaGqFmlZeXjxkzJjY2NikpadKkSTy/g1u6XCHgRLV79+7q6uorRmc/I86BmAS7LykpqaysbKjOyk5FPz8/X19fLld44mhERER5eXltba3QVOQADb8UB2dowl0kF5hfaKDUhVF2p8muEQ8Pjy1btrz//vu7du167bXXeFd32ZkXFRU1aNCgmpoaXnDSo0cPnp/V9rsHtBCXsum2jMWLFz/77LN829vY2FieZdpw9XLjaf/+/S+++GJ6erqPj094ePiwYcP27dvn7+//888/z5kz55lnnjEajbwoUBiLF6JDLtET9BVFOXz48IMPPnjkyJHx48c//PDD4eHhnEF36dLlpZdeOnToUPv27Xv16iUPiqtjS5Ys+eyzz1RVnTlz5owZM1r3CdsyzrbpduMX0VmV7NJkjA0dOjQ7O/udd94xGAwLFixAxCNHjkybNi0lJcXhcPC+rzKP43/u37//rbfestlse/funTJlSmRk5Hk+3vmAE+3HH3/87LPP+vj4/POf//zzn//MmdexY8diY2MXLFjg4eGRnJzM6m+1qChKZmbmI488kp6ePm3atHvvvVf0XHWjKfTv33/v3r2lpaX+/v6NMneuWxQWFmZkZHh4ePD9Hbl1KJp1GAwGOUDocDj279+flpbWu3dvEdKWqe7iaCeyL1SMRdim3PFQXFxcWlpK9FZfDfP7ELGoqIi3raipqSkpKRGs9SIM4SLgEuu84t1omsZVdUS02WyNHswNKe4C5S+gvLz80KFDHTt23Lt37+233/7YY4+FhISIPSKERi/r/jItnj8hol50sW7dul9//dXhcCxYsGDcuHERERFUb5ydnJycnJwMUnswwb4LCgo+/vjjn3/+GQAqKipGjx7NmzVcFWhVJoBSNJoQ0rFjx8DAwKysrPLycp4b5eHhwemhmaVrNpt9fX1Pnz5ttVpFn+7WfMqzRG5u7q+//lpeXl5eXv7VV1/NmjWL1z5rmnbttdfymJYwQYRCoGnaL7/8snTpUlVVT548OXDgwBEjRlzkuNRlB14hJyoCReQCdGXLYDD4+fm9+uqre/fuNRgMjz322D333MM3rCgqKoqIiGD1t/ejlGZlZc2dOzc9Pb179+5vv/12586d5R28L9rQRKiYj+v48eMLFiwoKyu76667hI8qJCTkjjvuiI6O3rx5M/8gPKicbHx8fHr06LFhw4Y//vijtLR06tSpTW3AdJni0jt/+ERff/3127dv37x584wZM/r168d/arh6efpWYmJir169srKyYmJiKKVdunTp2rWrn58f53SNZjA3zCxvFb5A9K7q3AdbUFAQHx/PC4xIg80nGy4AuaRE9Gh14xwgrHPU2+kFBgZOmTLlk08+GTZsmNVqHT16dExMDDRd8swY69mz5/PPP//jjz+mpqZy3eXSen6CgoK6d+++fv16q9U6cuRIbnBkZGQUFhYOGjRIONhdFDtKaVBQkLe3d0lJSXh4OHecutE8oqKi8vLy8vPzPT09BYWQ+nngZWVlvJQQAJYvXz5t2jRuS/EMGjmOy1/E4cOHt2/fbrfbf/vtt3379ontsfiRF60ni+yntdvtb7zxxjvvvMMYKy0tXbBggaenJ2OsrKzMz8/v8ccfl5NlXGKfu3bt+uc//0kIadeundg2FS51cnVr4QyC8CxqnptAo7qPi9HNl+7rr79eWloaEhLisuc4SAkmjLElS5ZYLJZ+/fp17tx51qxZHh4eogbWxcXf6E0vBBhjQ4YMefTRR9PT06+77jrOQ8VNmxK9jLHg4OB77rnHYDDY7fZbbrnlyjIHWxpIPvcbSPSDUgoSt7y5jj979uw+ffrk5eWNGzeONx0V58rlwLzXlMViuf3222fMmGE0GmkLdsK6oEBEDw+P++67LygoyNPTc+bMmQaDYe/evZTScePGcaEou7BkcThq1Kj77rtv8+bNd955Z/fu3a8MVtUSnNsgOdPIycnx8/MTPepAyvwUbsCoqCgeP0tKSrJYLAaDoWPHjnKluYygoKCIiIjjx48HBgYWFxdXVVWJOkVysfLjBFfk/5aXl6enp3OFOz09PS8vLz4+nhBSW1vLGPPy8uIZFbJNzFdKWVnZxo0by8rKACA8PJybwvKRF3ogFxpnriM8fyNefhMyVcnUo2mal5cX3+CK6d2xQerZ5nA4VqxYYTKZMjMzLRbL3XffbTabeXmirLWd77OePTjH9Pb2/utf/8qk3ZrwTDnr/GnHjh3Ltz5xmZDLH1yJuoDJijJFiakTsRBKqdlsppQGBwfbbLZly5alpKTExMSIyhbupxK5SyJkwrnV+Tf5O//RIWJ0dPTDDz8MAHwJlJaWqqpqsViMRmPDtoXiRF9f3yeffFL2N1wxSQ3N4xzWD59ng8EwYsSIZcuWeXl5tW/fnqtToK9uSmlVVVVxcfGcOXM6d+5ssVjuvPNOb2/v3Nzc48ePBwUFyX5U0CmzU6dOc+bM2bp1a//+/Q8cOHD8+HFRqAf1Nz68oJDZY0BAwMCBA/fs2WOz2QYPHixaT5hMJs5IxSiYtLEGIlqt1oSEBD7M/v37e3h4iCOFrL3QA7mgaIFr9DwGKOaISXsz0vqdz/hh8msAnf74fjoFBQWLFi3q3bv36dOnIyMj7733Xkopb3lHpbaBl+RNECnmJxuj4qnOSCIXM3+sbeG8hT6tv4Ec6PY3kcqkHA5HXFxcfHz8O++8ExUVZbVaQ0JCQLImibTzjosv6Hyf7/xApT5Y/ME2bty4b9++u+++m1cNNp/UqiiKyCO95EL9ckF1dbVYyNx1yZ3tXCiWlpYOHTp0+vTpgqd5eXlFR0fLjiusv3e3t7f3rbfeOn78+PXr14OesewiNS805FgApfSOO+7o3bt3Xl6e2FaJMVZVVWU0GomUUyP+5U9rMpluvfVWPz+/2tra8ePHe3l5uTgkLnecQ/nEWUAwF1p/MyOe8AKSQgFSlxChrZeUlCxatOjkyZMnTpw4efLkzJkzR48ebbVarVarS9eGS/UyhFEichZEzJy0oFpILAlVVcVFrhKcf/mEWN6odwoW/gP+r6hGB4Dbb7+9rKzs7bffrqqq4rJBdo1C/UZF5zu21oDMKzVNq6mp8fb27t27N08EQ0Sx9YEMsRaELn9leK4uHMR0BQcHDx069Mcff+QOQC4FCSE8Ne/o0aPR0dFRUVEu/qfi4mJ+PNRXf/kBXbt25Q3wHA4Ht8OEgnUxyydkHrVz585Dhw4NHDgwPT2d13oRQkwmk8ViEQuHSH3qBXOOiIi45557HnjgAT4il5FenLFcOFyM8gnZWwUAVVVVRUVF/v7+3t7eglWh1IKBEJKRkZGWltaxY8edO3dGRUU98sgj3NMl5A3PgJcNzXN5staAIAK5L5H4lTbdTolIoXihFlyMJ24bIOR8yydI/S5Wp06d2r9/f7t27ZKSkqjeEFIsVC8vrx49enh6eq5atapdu3apqalCrweJK7URKQj1C+QVRcnIyNi0adPcuXOFhGumpyWpn+VBLm6a4uULDw8Pvr8ESD0xhHpaXV3N9L6MnHisVmtMTIx4ES5cqLy8fN26dSNHjuQSkXd4uPgeLCKFpVRV7dy5c1RUVEhIyIQJE0R2YXV1tezqlN22wnUs91oSFHXFBHTOQX4QaKLpdpP3kJxXvGZ5zJgxjz76KKcMrnOJaN+uXbuWLFmSkZGxdu1aT0/PefPm9ezZ09fX18vLS3Z/yY7pS5vRIJsUMumIY5qheGFBXuS1cfGA559u1Ry4/5wQUlVV9eijj95000133HHHpk2b5PAG0XNhgoKCevXq5eXllZubu2/fPp4TwfV9ojfaaDv2k0zVJ06cKCoquv7663mVkcyjG2VDsq0MbUm6X1Cc82sTpBIbG9uzZ89t27Y5L6izl/Ly8pKSkv79+/McS3Giqqrbt2/fuXMnSO9CsCmr1dq9e/fQ0FBE9PDwWLp0aWVlpUsL3IsDIuH3338vLi62WCybN2/etGkTH2BERES7du3EEKhe+C9WhOxdF5KVR7jayHo5T5xL+cQ5KPJCcfjtt99ef/11VVWPHTuWmpp6yy23iLletmxZfn6+v7//vn377rnnnmHDhgkrkDXo1yfWufwazspOlzWglp/lApmgXUxD8XjNXPmK0aeaxoVdJEIZP3r06JYtW0pLS3fs2LFs2bIhQ4aIYwSRcGVr5MiRmzdv3rx5MwDExMTwaAfUFzxCg26eKjj3vEB6mOwtOH369LZt2/r27Uul9qFnpC5ZM7sQT3jFQEyUpmlGo7GiouLo0aOHDh3y8PAYOHCgwWCoqqo6efKk2G9BwGAw9O/fv7a2lgcU+ZeCbCorK0+cONGzZ09CiMlkGjp0qLApL+bQQBfShBBVVdu1a+fv728ymVJTU6urq1VV1TQtLS0tMDCQD5BTiwhCo5SVLS5L9U3Or5hozpnLJzjklUQQmnqVLiJKKA6CX7hE+Dn1rFixglKam5ubl5c3ffr0SZMmya4qIjVWhvqiS3hKZabQFHuSXWEutChOwfoBADiTcG0oBaG+R+6MzLTRK7jRQohJCw0NjY+Pz8jICAoK6tKlC/9S9kvLqm7//v27dOnyySef9OzZs1+/fjzxSpBHS16EfJj8ruXXLb6Rg5EuBCYLaRdKEObFpk2bCgsLb7/9dl7CLPwNzUhBl++vcNKSeNM5l0+IOU9KSiooKHjggQc2btzo7+//2muv9ezZ8/fffx8yZEhkZKSLRk4pPXHiRHFx8cCBA8V75D8xxoxGY3h4OK9gVhSlqqqKB3paqGa1FuR2lUVFRVlZWR06dOCG6ZEjR3r16qUoSkJCgre3t2hCIkepSP3cGZeLX/KcstZCa+4+4aJ4Cn+6zCOGDBny1FNPrVy5ctiwYYMHD/7www8jIiJ4DHn69OmMMYvF0lTJM+i+REGLIq1LMDuq90puyHFcNGh+vMgYbPjALvdtOdUKlcolHcON1oV4y4gYERHx3HPPjR8/Pjo6esiQIQ1foouY8fT0HDFixOHDh5966qm5c+eGhYW5aFFCLjaqUYn7cjbHCUlo0C52mBBycj2Dy1OJK0P9oI7dbrdarRaLhRd1gKQIyvpWa0znZQtp9Odm+brwCpPJdOzYsdLS0tLS0kcffXTevHkxMTFWq7UhORFCOnfuXFJSIjZWk3ldZWVlZmbmtddey/9MSkriWU6iucdFgGzeIaLZbI6JieFbR7Vr1662tra8vNzPzy89PT0kJIT3gQOdsC/OE7YRnFkQNrbI+FukLoQnL0iUdsCRNeWgoKC5c+dOnDjx559/zsjI4Lxm3LhxAMBJTUR9Gr2yYDFM30mLMSb2oCFS7kNDUhMcRJZMLh5X4Rx3YX9nxWtQr+tn9ZtAtvwKVw5Ikwse8XyzRkHvIsTfbGpqampqKkjkIR8jbgp6WDo5OdnX1xcR161bFxQUNGrUKMaY3W4XvRZZ/e5lMkTiuFztKitbohaW1m840lRil8uXQtStXLnSZrNdd911oNOnUNouRPvcyxrnTEwu1nm3bt369++fnp5uNBr5++Ke9oYTTgg5fPjwxo0bO3bsGBISIpLeuS7OO/aBnjNvs9m+/PLLhx56KDQ09GJyA/483No7ffo0pVTswbts2bKePXtOmTKlb9++3t7eghNyA+Oqoq5ziBE22THExaAW+pGoxbHb7QUFBZ999tnIkSMZY+Xl5TfffLOiKC4+H7kQp1GVGXRvBs8dBQBVVV06KYu7y6eL55E5nRB+fPs3WV9zURVbCJ4tDQBGo9Fut4vOqFclLmB/GaKnWcl6kosmROp3GnI5MioqKjo6+osvvigrK1u/fn1SUlJQUBAA2Gw2m80mO4tc7iv6Y7nQGKdhsVOuEMCyK6JRNCRUADh48KCnp2dqaiofpqqq+fn5vr6+Pj4+sog9l7lzQ4KLGu3p6cn7m/v5+d18883x8fGqqor6HKjPDTp16sQ5mIs+zfmbl5eX4Et+fn5du3ZtRru6ECB6ZwBOirxk0G63E0I8PT2HDh3q7e1dVlb2008/paamhoeHg+63kK2XqwGt2WtUnjWhI/MvjUbjtm3blixZMmbMmNraWrPZ/NBDD4G+VxZKhcNEamrQ8DXIck5V1R07dhw7dqx37958F1bh13LxTblcgdM0l3xC+soFDA019xbSBD+soKDgm2++ycvLmzhxYu/evTnZXcWysHEQcr7lE6AzHahfNgdSPNiFJuUTxZE33HBDWVnZu+++W1NT4+fnFxYWtnTp0hMnTkyYMGHYsGHQ4O0LypEfgHMcUb8oJLFc+S4/kqznCbqVKdZut2/atMlisXCt0WazLVq0aOHChZ06dXrggQdiY2N5HaGbrs4f4i0IL06/fv1SUlIAgPcSa6oCCgCKi4s3bdrUo0cP0dNV6Cg2m81utzO9/62vry+l9NChQ+Hh4RfTS0SkjOiysrKIiIjg4GAehDIYDFu3bo2JiRk0aFBUVBTUp2fWWNPmKxWtESOs77eUVztvR7tr1659+/ZFRUV5enrGx8ePHDkS9CYLKCXRiLYLsiupiRsSANi6des999yTlpZ28803v/jii/KmOYLOhB+Jf1NYWGi1WrlC7aIG8s82m624uDggIEB4Rc44+oYP9uWXX/7f//2f3W7fuXPnggULRPzJjdaFi+GO9bvMyKKloQgkUnac0WgMDg5+8sknV69e/eOPP3p7ez/++OP89aWkpHD3qXxf4VcAAEVRsrKyDh48GBcXFxcXJzeCAd1mLSsr++OPPyilycnJItTnckFxCr9XcXHx0qVL+/fv37FjR06HJ0+efOmll9LT01euXJmQkDBnzpyrh0ldUMhajqxFCREo/9QQkZGRQ4YMEa9VRNdqa2szMjJCQ0OFzmSxWGJjY7kH8mIaW7I84yxOaP88bFlTU7NmzZoxY8Zwi1Cw36tKxzrzUJt7XQwBARkyBKjPmFRVdTgcixcvfv311w0GQ0BAQL9+/Z544gmxwQdvAcUtQiK1uQLdNdrwboLBAQBjbOPGjYcPHwaAdevWHT16VJzrIkR5HBERly5devPNN991113btm0TpWOgcytCyIkTJx588MHp06dz40CsiqaqtaC+0cmFKwAcOHDAbrcDwNGjRzMyMpoazpWOC+gU5SBSHxnhuWr4J2nMeyn+pHonM8ZYjx49br311qysLP76CgsL5UoY+QriLllZWU899dSdd955//33Hzt2TDhFBQVqmvb+++/PmjXr7rvv/u6773hPZ5kPylQNumWZk5MTFhbm4+PDG9CDToegh3ywfisvN84Z4k3J/7r82gw7qqio2LVrV2Fhofw9f7+cuZWXly9atOjNN988fvy4h4fH1q1bm9pkxoUyZfCQMP/X5Rh+VlNlDEIwcxFYVVUVFBQkJFxubu6nn3769NNPBwcH8w6rKO1C1fh8XaE4R9coAcIYI4hAAIAAMoZOnsKZyMKFCxExLCysoKCga9euKSkpfIpFdoPLBWW/kBCKctaMrKzxP8PDwz08PMrKysLCwsTOR9ybL9sE/M+qqqqPPvpo9erVABAXF9e9e3eeNC+MV8bY77///uGHHzLGCgsLJ0+eHB8ff7Zchh+fkpKydOnSsrKy5OTkxMTEc5vhyx8ELnDTbdf7NbZ0iZTFx/Q+RETy2wtyUlXV19c3MDBw0qRJO3bsyMrKGjlyZHZ2tre3N8+4Y1LrA9B9njt37ly4cGFtbS13kXXo0AGkrApCSH5+/rJlyzIzMwFg1apVt9xyi0t1jaBVnndaVVV14sSJ1atX87bOIgU6Kirqvvvu++KLL5KSkq655hrRm/dqY1gXCPI0NvVZvCN52vnG4EFBQSil8hJCSktLjxw5Mn369J9++unBBx+srq7esGHD/Pnz+dbQYvcGGSIBkO9/y99+dnZ2VlaWt7f3pk2bRo0atWbNmiFDhlBKvby8goODeZm1yBdrlBhEpIkfKdSpgoKC119//csvvwSAkydPTps2Da6KyubGcY6CEJFxl6iqalShQKimOmw2G2NsyZIlvHNdRUXFgAEDhg0bxkUOj8E2b27LAkywCfkUsWMAIWTcuHGnT58+ePDgxIkTExMTUQ/1iRcpHGWUUr5zGP++rKzMpfstv1F5eTmnkvLycr45cPMeWmhszSDitGnTfHx88vPzR40aFRwc7OZWlxZED0JzSuDNoly2SBX55Q6HY/jw4UuWLKmurs7JyXnppZdmz54dGhravn17i8Vit9t5CowooA4LC0tKStqzZ094eDjvvyxsUP7Svby8YmJitmzZYjabuZh0sQWFhQcAmqZ9++23QUFBN954I48sCg+Vh4fHnXfeOXXqVL7vmFDb3aR1MUEaZJ7X1NSsWrWKEDJw4ED5yNLSUt7Jc/v27dxe3LlzZ21tbVpamsPh6NOnj4u8EaHELVu2PP7441ar9S9/+QvvRJOWljZy5EjeWosLsFdeeeXQoUPXXXfdvHnzAgIChF7V6AOLhLLq6mqTyRQWFsa/LyoqOnnyJD8sMzOTGzBNXeeKx1kKQgQAIAQQgSAAJQpRNMZqa22KQhYuXBgdHW2322tra2fNmkX0/lVM33QCmo7BEqlvpLDhzGaz0Wi02Ww8o53V37AiKCjogQce4PmiKDXsFmRB9N5ahBCr1XrDDTdUV1dbLJaxY8fKbbv5BRVFGT58+PDhw7Oysq677rrQ0FD5wZqR3zJB86sFBATceOONwjPmjuU0CsRWKJ9o4Y1AF3VFRUW7du1q37693ESDEyrqrRsQsV27dgAQFhYWFRW1f//+HTt2dOrUyd/fPzU1lcsnHkJWVbV3794vvPDCqlWrunfvLnM3kVDj4+Pzt7/9LT4+3mQyTZ8+nfd1o/U70HLqSktL27dvX3R0dEhISHh4OPeggrRjlMViiYiIcBna1cm2LhXkIDSHxWLp2LEjDyTLmk1mZubEiRMjIiI6d+5sNBodDgffPDwoKIhveyuugHrNKKW0vLz8k08+WbNmDQDk5eXNmTNn9OjR1157LW8EYzQaExISdu7ceezYsYyMjA8++AAA/vKXv8TGxnJTsiGrkZmhzWY7evRoYGBgYGAgISQyMnL06NHp6emKotx8883e3t6NnniBZrKt4VyabiNyCQiASCg9nZf76aef9u6darFYTCbTbbfdBlLoRZ5KLlEaFQyyz9PhcHz//ferVq2Ki4ubNWsWb9YnrEPBv/iLNxgMDodDRGVkf5FsIxqNxjlz5gwbNszHx4dn3HEPvpxtn5iY+Pnnn584cYJzPZH717wPikhxGqJ3thWGqVDHrh6SaiEItELWaAvBCaCiouKFF1545513kpOT33zzzX79+nESYg0aKfCXaLFY4uLioqKi7Hb70qVLMzMzKysrvb29e/TogYgWiwUACCGjR48eM2YM50TcdcaknsWqqnbt2pXv1SwuDnognDFWUVHhcDjWrVsXEBBQWVmZmppqsVi4h5/o+X7CoyVHB0HKa7g40+gG1O+TwF2U3IHJ9xoUMbzy8nJ+8NSpU6uqqrKzs6dPnx4REXHw4ME//vgjPj6eF/O5QNO06upq/jkwMHDmzJkiZ4fzIp5aISKCa9euTUxMjI+PbyaPQaCmpiYsLKx9+/b8SG9v77vvvjspKclkMg0fPrzhrvRXFc4+axQJIUR12DWVnczKXLJ06dRpN/r7B1itlhkzZvAFLI4V8kAuNW3KQhInpqenv/jii7t27aKU1tbWPvnkk/IBoiwG9YpAEQjkfE20m5ET6ymlHh4evODaJV9UHMO1pMjISHQGn4kszKBp/chFFrpUIl61tNUEiMv/67iAmTWcEk6fPr1w4UKbzbZ9+/Zff/21d+/ejVZB8PclCns45dx44421tbV79+6tran54IMPunbt2qFDBx8fHw8PD+5uBYnaZb1HeGIVhYooY01NTVlZ2f79+xMSEpYsWdK7d29CSJcuXYYOHQpS/r0IagqFUvx7DinNVwPIeZTVn92NdAZCCImJieEb6VCqcC7322+/VVdXjxkzRlGU4OBgXioGALzzu4vEkt+pv7//3XffvW3bNm9v73nz5hmNRq6OM6kdbteuXe+9977//e+rfv363XzzzceOHdu/f3+XLl0apQei578oilJZWXny5Em73c6FN2PMz89v8uTJLk/S8PPVAAPU6ycqmBFPcyDy3/wYQjUCxm9//G7jhg2333pLfIcEf7/A2XfNVijY7TaqJ8IgoqJQREBkiJxu6vUwc3kOQgg/klJaXFxcWloKAIyxY8eOiWNcInYKVRCc+XuCKO12u8PhMJvNQtOnlAIiNNHmkROh4F+IzkkQVMXqWrhBM8xaloWICAQQUaFXjDnowmFQ6i7UFBAAASkQAkiAACABpHU0hQigITDnjCIlBCRnKdEvfr4CUky+h4dHp06d8vLyrFZru3btRHCOx/ygiXRlAqSysnLtunUVFeWjR4329/dXDIaAgIAVK1Z07tw5JycnLi5OUZSIiAir1Wo2WxhjRqPBoaoGg8FuswFAZmamp6fnwUMHQ0NCDx861Ckxcc2aNcOGDc3Ozo6Ojh48eHB4ePiQIUM0TUNkAJTTpHgAnRSRE6rLCrqcSUt4BNhZyS+JYTEi9bdCAljX74pIVNo6IHXhG0CEoqKid9999+jRo0lJSe3atYuLi/P29kakdrtdpPsJf6mQZOHh4Tt27AgODk5OTnZ5j5wgBw8e/Pzzz/n5+Q8aNEik/sl6v9FovPPOO8aOvdbPzy84OHjHjh3p6eldunRuSjci4Nzh1cfHZ/DgwR4eHoxphFDGNL7EGNMIUQi5rGnpfMEtQpeMYZBVFmcYg4sKUBE1IEpMdHRtdU27dpHdevSy2xkhgIgGRaHUyTEJQUAg/Gp6qSElQDhDbACnJEICAN2Te0wcN+nHZT/Gx8ffftsdgAAMCCWMISFACQUAYLpvjQEBQGQKJdk52e+9++7WbdsmT5x02+23e3l7AyI4U1udK4Mx58PIL16nWnDyIAZINP0bRKZRSgCBMSSUEgK8aAQIBZ5Ai0gIEOBDdT4hAgICJfQi6aiNosWE3eAZGThFEAUAIHI8DwEQgemTSpy/EOdZgAQIA2CEUADF2WQN610ZQAGKQFSkNiTIGSHjZFMnYilKZ5KWJqA2wgs4MwoJCXnhhRe++OKL1NSUKVOmyt5FkcnsygsIEEK+WbL4ySeeqKqqnnzd5LfffnvQoEEMmX9AgKapFVWVxaUl33377cSJk1etWj1q1KicnJyUlJTNWzb37dN33bq10dExv/7666RJE7du3T548GD/wIDAQP+pU6cGBQUmJSVZLFZKKU9I5HdmzIEIhPD9FLmJSXTR6NpK/lLn97U4JRh1tZIAEUEQAM4iEDUEJl2NnIFwOQFSIJxrIFKsexI9KIKE1KNY6XxZ9Sf6hxaBEOS8jjH45puvX3nl5fLyCpPJ9Ne/zu3WrUtsbJzFYlm8eHFtrW369Bs9PDw4axEpfgBgNpulAgaURCaTHp95eXnyaA+l4gn5QzJFIZ6eHgkJCZxshg0bUlJSWl1dZTZbgDlZGCISp56BnG0SgJ3bdxQXl3S6qyNfqlyiE8K1fGxCCLblDFJX1ooEkfMjAgQoIVTXuc/MCV1co9jwJJmPIRIAwgB79krp0aMXJwlFURQKmqZRcWMA+QMhQjpSJ+03BCICoRSQoZ+f37+ee+bBvz3o4+Pj6+sLDLiBRSlBhoQ2OB8BGWqISxZ/+8orr9XabIfSDw8YNLhXr14AuhwkBBCcEktnK4xxZi1aAnDOwgOQqChE05BSShWxqTRPoWaUEiBU0zSFGkABwggyZMC4vCTOmhJyyanoLBhlPXsXdW2lbhUS3jaUEBc+hbr6La0ZottzkgJSdwuUPzlPkJ4TQSP69Tgvw7rLnjs0jQFg7969k5OTTSYzpXV2VXPuayRAYPeOXSdPnASAHdt25OXkxsXFESDhYWHIMCw0TFXVLomdqVGxWi0REZFWq9nbxyuqffuAAL/evXuHhYX17NXDz9d3QP9+BqPJaFAoJYpiQMSTJ0/W1tZGRbU3my38EbgIlGMHwomir6N6uNQafEtuz+1+BFCcpEMAQENEQEooAcLQSRJn69eU6A0JAEFBR8gXX8unp0UHcuuOe60AWE5OXmVlFQAYDIqPj++CBR9NnDi+uLjMy8s7Li7e09NLf3dAqUIAVFVTFMXHx6ddu6jNm7eaTJYOHWIJEa1oqaYxg0FRVUdFRVVNTQ0iEiJ6fiLnVPxpueNK01RFMebl5W/ZsiU+voPV4sG9/ADCZiDIkBsMtbU1MTFxPXr4EkJ1Qeg0nvn1z2dmLhXQ6XYinN0Kv5Pz+7NxCRhkLtXE3YSTChAoAGVAKQGFAqJGnOIBKFWavQzRGWATrkXFeYCqaprGvH28vby9uUHGkHfnI5QSamjkdIYAlAJjqsZqbTYAsKsaY/q4dL7N/XO0To4SyZ+py0pEAoCEKIpB0zR+71W/rtq1a1dS585jx15rMCjc2QAIBqOhpKQkLy+Xa4KI+j4DDZ7xUvkczuauqFtlINyS+kgYXy+AqFvz3MkpTmwwZG4BOL/UgAAAdbk4IAU0AFJOVRrnhU7vAbfjhXeLntlKaBa63wkZA6vVqmnIWD1KaHpWEAjpktTF3zegsqoitVdqcGAwAKDmJBsKisVkiIyIQIKoqaWlpf369DaZzbHRUYRAdFR7xpiiUACK6Gx8zBhTVe3339e++uqrJSXF995777Rp00wmIwLX0OHIkaPr16+zWi0jR44ICgrhpjJjTaUfX0JW1UJByJx+IecJDIAhaAQQQEGnnit06BZwLsFL6h6DAihQJyo4gQG6HFj3SPWev4XLkxDCmEYpYQwopRMmTNy4cdOJEycmTZp08823qKpDVdXCwl2DBg329w9grM5Ccd5VT0Q4dTL7ww8WfPPN4hkzbpw1a5bOiJxKuaZpJpPZx8eXUgUREAmiq68CnToiRYRu3ZLLyipUVaOKwhiva0OqUN7lhCiUaQwIqayq2p+WlpiU1MHp8NMX8pmG3JKZuWQgGgADUAAUXevmSjwDoIgqgAZOUXmGgZxJEDqJiTltAx7vEb8BzzYhgLShndY0GhfUXOEyGDjP0pzSi68fQigF2XvQ4FSglFx33eSD6elpBw6MHTsuLjau/hEAAISi3WFbu27tls1bu3TpMnrMaA+rlRKKQh0lgEB1PkwMJmXVr6vvve/eo0cPR0XF/Pe/nw4bNhSoM1Xh0KFD8+e/cCD94J/+NOUvf5njYbXysCjnXNIY6Vk4kVoVLVSHdKeuEISUSzJJsZIvx5eliMUwIi4DBBHqeaQoA1ABEEDRX5zwVxACCqDBSacEnPMmiNb5SAigASpnXLTNzQMCIUSh3FUEVNjqEqfExiwIREANp06d6ufvX1tbM2jwYC8fb2TAVS8Ap5JACNm4ceP8+S8WFBTMnHnzbbfd5uHBcwKRh8YRGaXEaFSYxhRFKSstf+H559f8thoAFKr069evQ4d4YEAoVFfVvPzyKx9++L7ZbH7h+ecefOhvjDFCQFE4FTUWlG0s1tBWQICHRAAAgCEyIBoiIWDgbh5ABdDgckILLy0MeXS6GPR4M1GhLiThsgga90e15H561gkBAE3TUlN7vfPOW4WFhXwbE37lpKQkRAaIGlMpVbgPiZ9rMCpMYwDK4SPpe/buUlVHfn7OsGFDYmPjNE0FfU0xxnJzs6Oj23PiodzeqCv1cQon/iSEgMlk/P7777y8PMLDQ4EQxUCQ81LqpGgGQJApRiW1b2pkRCRDJi2wM6JRxtVG6A2dGlFdYS4AEEIUJw8hMuc6syCsu279z/XO5CEi1PfkRQAkzPkohCJ3TjevPkgKTWPvoC4bpU6o8ogiIYwh/4DYiC+bUkAkqqrFxcXOf2l+TnZO+/btfHx8UPc3cSmIwCgoa9etu+++uYcPHomLj33D/Mb4ceO5mVPPOSc95O49u44ePQwA+fl5f/yxd9iwoSJhYdWqlZ988l8AOHXyxJTrpsZ36IDIpEwHWWO41E7SpqGLG1rPaHNqRwSIBgDOGZI8mroZyMDpiAACVE/0gDqPRZ1gRH5A3bRweYoGgrrdyZ8Fnf5KfjI4BaTWknaAUKfqNviFISBSvc06debs6KaKGFx9EAKqpgWFBt844wb+jaYxhVJKCRJUNdWgGICAw+H44YcffvppGQAgstGjR3fqlITo7KbLgzG8soIAosaoQn28vfgFvTw9jHw3VE1TqFJcXLRn9y4AsNlsaWn7AYASwlDIuoaEdOZFfimBukGPCIQB0ZyUgAY+7zxyIdPEmS8pjkTdBHA6M/SVy4mWoMwLdRAXR3zLHaiIzGAgXCAiaoxhUlJnAFA1O2Mql3cilYlSAKIxJEzTEz6RcVd/UdFpVXUAQObxjF9WrvjznbMZ00wmMx9UZWV5hw5xHTrECTcVIcIG0MdOuB6GGlOtVvPdd88uLCzMzj61d/9+xrSBAwb4+PgSQhA0jaGiUAA4lpmxceOGe++9j6FGCdEXap1ERCcjcBly3TTp80cazmlLJu8sqZQ0RuquYHUedaROycAJgrsEnJTVWDjNFSJZRtiFrqcQUABMlPvKGADl0g/BGVkhOo8TjqyWDNKVqfFwHXc+6JfikpVnrOi8ERrtAEQ0zaEohDHNx9vLv0siImiag1IqTygf2P59Bw4fPEIIyT6Vk37g4PixEyhxfRgkSAB4Y7+UlJ5JSYkZGRnt20ckJnYE4FeuS5TXHR6EAFE1pijGtuNOaMmDOAU3CickA9CtMqIBMEQAVAhhQBCI09tAdHohKEQjT08g+tsTlyYAFFBxBrdd9SHdi0VUQggwAwECoAFPtuKylAAQBGy8Q2OLBsxdSYQwpjmZFGeIgpacq7sB16SEMM2hqQbFYHc4jEYjUHQwVChliFQhDB2AhCrg7e1pMhntdoe/f4DBYABgol5Q54wKY4xQqmmqh9X89DNPIWgVFRUPPvTXdu0ikKlUAUQtNDR42LDBGRlHrR7WQYMGA9RtzOKaxlY3jZfG39BCMKSUICcUgkQo0wwZoRoQB1A7EO7gahF4Gp5wdhEAghRAJzDg5ItOS7TeauTBNVlDlXL5Gt6njpTrzmeIgGAwGBlDxlRCKAHKWN1OtoQCd0uis7jLmRuk18DgsOEjVqxYmZOTm5KaEhER+dlnn8XHx8fExJrNpvLy8qys45mZWT2698zPz9u7d29oaGhiYpLRqHDh5cx8IRQBGdOoohBq6NGj19NPP/3ZZ1+sX79eVR1/feCBBx940GKxEEIIMgJ0+/Zt9953HzIcNGBQSkoqH4QEoWU1vX7kYwi2gLW4HNPoKc1fx3Xym7gLd4TyI5X6zB6k1XEGNdqg+/Ga6ZxCAYyASt3lCBCuQfMkJe6/YoikiUSYRtBA3BJeawEA3J8AjHHrUE/8JEAIz/lsZEIVReEsQ1EUxrRGk0T4RVJ79U5O7rFv3x8dOnTsndoXgIg8Uv1JgGmMEGfZ8uDBQ15//bVt27YmJ3cfNGgQz7bSNIfRaB41asxtt91x6NDBiRMnhYaGaxoqCt+jvIWT0IbAs3wBCBDKPaJcy0YESkxAQNOQUFXXu+URcl7DQ6N1DhzpMKVRx2ad9kkIEESmISi6vi54kAByFooNnDqkifVLsG5RcAc/oUCQ6M8oJCGKdF9X8MMUVBAQNJNRQdCAO0WJpji5uUYooUCnz7ihuLiouKR4+vQZUdHtGdPqljFBjTGFUgRk6CAUKCXJ3bt8+t9PGWO+fj4KJZqmUkoRwGhS/u/RfwwfOdSgmPr374+oEkpQ6sNTj/6drmOUH7j+LDQyorp5a3iAPG+N/Vr/OqQFxyCPmnPVGQEAaWWVzW63BQZ4AlAAg65+aS2XhQB6YiQAACGoAFDiJDMCqAAR/th6gzsbJdXFr8N5FBIAqlBEFAm8XC3mv4KTrnhOpsIjf3o5shEAGcNhQ4d//fWi4uLiDvHxBqNx5cpfzWbLhx9+0K1bd5ut1tPT86677s7Jybn55pk7duwMDAx4+eWX+c7M4PTB6DomUQhQTdUURZk5c+Y111yTm5sLAL+t/u2O2+/gG2Koqrpnz55//vPx7du2E0Lee+/9119/3cvLq+WT7DIJjRpLTc9eU3828+VZHMCXsNMpQBCYnrvAXUt1obQzc2SDPjCiG8j1WYKe++gsbiKABBhTKQAQpzNN9wnQFs1P08Orn7rpzGXQY4TO75ulY6IoCgDhNTHSpeoq/DSNDRo88N13312zZs3AgQMHDRrEmGvGINZt34MAYDAYRo8eM3LkKH3zQqBUIYQyxjp2THj//fekskX+6+UoCBG5sQ8UneYgMmAK0Kpq26H0Ix06JPj5mTQ0MDAgUADCUAUACgrPdgGq+wbqqiW41KKcbnSaZADImLMGFJEgoMa414xyFwZDQgitE251/o06NavOAUua9ELUHQNOMc25lMT9uTOlQX2HuAIAIFA9Dg9QZ4UILs/LYxCgQ3zHl156BQG5wNO4FeicDkIVojNJhehGtJ+fPwAwYAyQKgYugDTEAP/Aa6+ZgIgMmcbtYTlRot57I+If55DrL1+XQZ3dvDXtAnP6/7FuhTZyDAAAMM4yUCQxAqWGtLSDn3667Prrx/ft21UxWIBYkdtzACLuAM5RN6LOU0Bd8AAAUMYdYRQY5YU4iAplLWPXZwNe5wAAujNMyAmQ0u7qmjPwBD/xK+G79SAaDIaOHTuCXqM8Zcp1iNi9e3d+TYVSg9F46NChHTt2lJWVlZWV7tixY8KECfKGqXJ9PRBQqBIZGTlq1KjPP/9c07SY2JgTJ04gYkFBASHk008/3blzJy9SrKiocNn8pA6NvcfGFYc2w98IAa4iEkoAQeMxYuRciFGR6c5IQ0PPZRLkgnrOyIgrZRMGYGeoAX8BTj2Jitog/jeSFmoKzsNbemQLIdIU6+wM6W46lSKixrSBA/sPHNgfADRkoMco6qsNdZVO3NYFQutxJJ3jGI3UaDQiQUTGCzEQW24Wtx0wBGcIXXd0EiQKAVJdbXt03r+j2nW66dbJg4Z0URQvABNwX6Nef1LfoqrzitZLrXIWyzsQ9ARjoAiUUAOllAAo1Ix68hUQAxUclgAAbfCCxE+uXzRzDDZ1TFMXcZpzjR/GreY6qUFBMShi/I2YNg3MJ81pmFIhcviQ9e8JEN3qaCDhGn9gaHJOWnJMw6c9wzEtOIC4ZOxRAIDycttH//lp1cojo0YNvG7qwPbt/AyKAZw1vqJLIkgJAS52Cbcg9QJ6AgQ0ABWoqrsimHbGlIWzR904SIMP9YENfyWEOb0shABojDFkClWongdoMpmQR4gAEDG+Q3x0TMwfe/eGhoX26NnTYDAwIX2dKiZojHFfDGPM28fniSee5NuADxgw4Pfff+/cuXNxcXFsbOx9993Xp0+fL774AgDuvPNOPz8/tX7nS2fdTsvTHdsIf0NEjVHeEoAhgJHrBgwJAgOm6Tyn7nCQRLsLeTSer0WAMMEZUQPQnBW+hDIAqheeEADgKZfOHtwt1xVaXVtr/sLOUeuKOSCAhqAQiQc1dkX+P6ovL5ffufHMJTAjDSKNlw9Ivfxj51fcwFc1JTOzbPWvqzZvPT5+Ur/+fbpFRUYCAKEKoIaIjKHijLwj1DnroQE1IKCKoAIhDHifWiSgOBzGoiKmoYMhEEKZiiYjaCjUMaK76s4lLnFux8gHIJyF/utyZd3lKi5EuP7gjEbqa9RZLdLgqYQWQZw6nMyJpasKQm3ZU7XeMa7z0uhFEIEBIAWqD8RiIaWlRkoijh93fPSflb//tmfU6K6zZ1+b3D2asxWed4fIoK54ruG1qU5vgIAMHAAqpRqh6IxkE4rQWCXTeaChhtvU1Rv3Ljg9eDzvEwlDIEw0+2CgOT8gEiBJiYlvvvXG77//3rFjwrVjrwG+gQpzpo9SSgkQpmkMkRJFQ81AIDY2es6cOQCATPWwWvwC/I0Go9ls8vX1S0joMHBAf6LQ2JhYTXMAqavtdj5eYxyurYOA7nABngnr0LCyyuHhaeLWs8bVauasi4OmDFwAaLbXqG7pAwGw5uXi3q2lGtNsDNAAgEARuMucSY/UUPtsdACtD8Fo6u5Sr4gHhOQiBBlDJIqBe1F0/4Y0SVgvGM9/1APgepE5itsJowCA1xRcdq5RRhAIEy3Q+FAYosFIS4qqHfZ2lDgOH7BnHlvxXeS6XTeMmH3PhMhIf4NCkDqLnLBuqYOeWEygTidGwlc4URj3XhEAwowGc16O7dZb5iuKDYERogAi8KwZp0eUe+icivB5MvRzYPfInSTSny5wlV6NXK/+mS3OuSNETxU90/GIYqYa+/UM9mTdMa0IlJaFU5yDs28UUbTyMqKQdkQxAjiOHCnKzVn1+2+rb7hx6MxbJrRv385gUKTU62buIRwPzv9XNVXTkPtKVYYGQ8u0p7MaFrr83fSRjf0tLDpw8goEwpxJFjy1ilCVaRrTDIpx6OCh/fr1MRiMlBC7w0YVZ8YUACAy5ozgABBGKWiaCtSZQaNQpWu3rjbNZlZMDJlNrVEUQ1x8HAA6mI0SSpz6iZMunMZ3S7Ky2xgIoarqUAwUqAKE2uw1/5j3clx8wpTJozrEBRmNnoQaWlJECC1puk0IUsVjyZJVq39Zx5BpoIKBMAYUCYADAHU3KUXQ9FKnpigEm/615dKjmfUuHyTcF+L3Os8+JZQhEx/kUxBENqyepCdc0cIMlu4gKmERmZTd2obQkDtj/V8RGBAGqAAoACoCAhi4q0TTjFXlFgMJRKJpjuKs46Vvvrn4l19/vmHGsBkzxrcLjyB1lxPzI1dPgwjvE6IA76FPAAA0tcbmqHBo9l17ivRz+UU0PW9C1NkbhPp/KdBCViqGL/x4LjJIfJCPaf6CDT+7iOk24qVqHvw5FQADgAZQC+BvUDogGhlSSv1rarS09IwXXnjtxIkD8+c/HRgUxHMjzwBn5BEAAKgJwKgo3larEQAMilE5o6V8bmiVCzZwX8mPalQU4Vg3G60uH+rOavgvAACIpgtmxQoAlCgWoxH0d2CkTaQjXRZ01BAEjMa6ESkGZefOY//9dPUP327+859viI7yDw7yILReOqQc1pWv1EivUf0Lp+pRXVPCtJNllaVllYJVORMrAOw6zzLoy5s1u1ax6fTU8xSEZ8UlBfmQ+ieKK7ukG5H6PM7lIg05XRtHo4aNKDVRAQDAqAskTwLRBkKQUAJGQGtFVXFa2unvv6/p0zupXXg7RtCp0Dor62ndXeoXbBFUVKY5c78JhIQHJPeIUTUTNZhUh2pQTAQoQwfvREOcQV8NgAAaABgSJibbZZYbJR1ypgMaHtPoC24pYTqbzdZdo5HzkDuMEXjXD0qakocIztar4tEaPwbAmQ/QBPGh/OnCzFtTR+qPTpzeQKSAFIFRg6OsnGQerQLw4LuWOdARFxc7ZvS4u+/+k79/gKYxRXHN5Xa9l2TrIVLUjACe+Xm2HdtOUIMDFMIYJcjOYn+O81+7Z7qCbvMR4On2unsJhWOc1zwjoRQIgMYopYwAQ6BOdZMAAN/JEoAzLwRFAaYhAHG2EECgCjDuZ9UvzntEqpruLNZz+px6KxE9StsMmuepzrVKgBFKQSMOBgQUxVZLaqoC7DX2zZsK9ux6tWeP6JtvHjFhQr/2UUEgpUw2Cu6Lr7sVOv1/wFsBlpdXf/75j0eOnqZgIagg7+1D9Eoe0HTHDE8TOCPPaKEufM6Qpw1BEvtiEqgu4IHQumwH+QkRkeiV+PyruovUcUse69Fp6YIO6vzA3ZAUmAaKwvPWnN5dPUCh+0fASQ4IoFCqoaYopKYKF329pbLUSqjmYLkEyoYM7XbD9KHXjhsY1T5YeJsBgIjE7jpXRH2xwpy2IoJKCM0/XZmfW86QEkqZhoQomqYZDQoDDRkDpHWilG9MUdePW1zxLAiuhd+7HHM2cE02QGjMOUAaWSaNP4yz3U5jzjjXJzs7F8Q5zpt0a5csVmflujPDBQA4jRF9dSjIS5oRAdBkMW5cv/+++14hmped2UKD/WbMGDH1T3369U0wmp2Z4VKyTAPrid8UkRDCACmQ7dvSZ858OSPDHhoUFBzkqWENEqDEyJh6Nm+wSXbbLCGcQf1w/d7ZRk+uX63HoPWSZILIeOGpPAniJyElnKfyVFsAcKan6nF1KbVVpOOKJCIXNf+80ZD8W+S9IPzZeOeweroC47K9qWACQUqQUgX/v73zDqji2Br42d3b6VKkiSJikCIqKAYbEkWwgA0RMBqfeRpFo4mxJfleLMkzEWNMzDOJLXkvUSxRiTEURQXFRkAswQoYaQIiyIULt+zufH8MbC4gCAlRlPn9ocvM7uzc3dk5c86cOaPjVbSE4UGqUcuLi1SaWuw1WotQOUDpqACPhYsmj3rFVyIR6z+Kphphg7/rHMoRwrUxNFRERYW18YkQnjcajR/QH2vfy0prTp1IrnxULBVB/362kydPnjhxpPNLdgCAxxKAeL3tJ6iGzalh06eFk0QAYG1lbG1l/Lf/NELHggegS4ukFH/H2qpnUGDgpClD/EcPEEvrsik9Qduc7z7P8xRNsSwHNEXTFI94nqvg+Zr7pZqiUqqtmzrV8xQEYetr0pyC3fKt/47KtJ7WVKY5cDgFbFwULuTq7Y5s/eRIo99C1S8/xelSADkDXShawvMsQ8toMGV5dXx8Un7Btf98+eHw4b5Ib9vRRjVoPEfYSFq2ee/Pp/bY/1Za/wY79u/lEc/zvLAQoU5HoYAChmHq9jSgaaouZAGeHEVCBAMOgEGUhkMl3R2MohbNDJ44sGdPW5rGzukAAHUbcTSiQyrGhD8NQghPhGOVIjs7Ozk5mWVZiURCURTP8zqdjmGYESNGlJWVqdVqX19fuVwu7HoNgF3LEc+zFFA0LRWJ0ORJI+cv+Gf//q5GplJAwCOWpqB1+4QjoBAuG8eEYkTIyAQsLHiG4njsj1xnAmzadbbhRzf5F5oxGz8290+DGhoMmtfZ6jTxFlPawl/2sEVN6tnycxMyKZoWcxxHUxSPeEBQFwSOZjiepQBRNMVzLAgb8P1RDgJgaZrmeawBc4jnVNVKnjXgEfCcioNHcoV2yLBRUQsm9+7tBPUB8KB+72v9WjTb8p7ob9rMs3gxaP0P6cC9PkXdunUr7pe4R48qaJoRi8UAoFGrxRLJ+PHjeZ6/fetWcEiIoaEhNsPpmQ0AgOORjqF4BBA41nfSxElDh/aVSCgA4DmoixsAQtNs376A0LGgKApPTeG+4/79+0lJSSzLlpWV3bhxw83NzdLSkuO4nj17ZmRkVFZW+vj4AABewU3TNG5LNCViaAk2CwwY4Lllq4uFpVn9DQRjQasqUxctlhYBAI/A1dV5374vtFq+LjoVBTwgQBQNrfC4eU54nOW8gexC9SmN6PgPACHgEQUIMQwFgHi+LjgHy1EiBo94BLtvwwvr/RE4vm59jlrNvTF306WMfATQxUTar79TWHjA2HH97e26AADHcYJG2HS/9MaCsBnJ1xrBQNXNR3Uq2j0yQHtC6bSa+/eLKisrH5Q9OJuaOmCAl6NjD4qia2tVVVVVuXdzeR6Hvf/DEkXRwPE8Q+NJX9bCwjh6w7symUQolGbqRq160dSeP8drQpugKAr3IBzHDR48uH///jRNnzx5Mioqavny5X5+fhzHSSQSd3d3mqZlMlltbS0Oz1RWVmpkJDcxsWRZbWlpqVxuYGZmYmCkMDBSAEBV9aOKinJjIyNTU8tW14WnaGBwtDNEAQUyudTZ2f5v++mE54YatQao+4ZGFQO9vaaFjp4SOszcXFHnMYR43IZx5F5hI26BZjXC1umCjXRh0iF2JBB4uHt+/LE7RVHp6Zfm/GPOnDn/nDJlMh4WVVVVDxgwSKEwrlKqKApohsrJzpHL5Xi90a1bNwFQT6eeYhEtkzEA8OhR5b17vysUCmdn57pQFBTFcRzD0I3vCvA8jEQJbaA+2gslEolwkDCapiUSiUgkUigUcnmdc39CQgLP82FhYXFxcVlZWTqd7vLly917dJs0cXL6r5nnzp3v0sUiKmr+wEFeFMUnJMbv3r1bq9VKJbLp0yPGjh3bltpwCInq4jjwiKewfwSq9/cW1fdFDd21/rxz1Z8uoTmXlDYV9dS+phYcy/7Kk2kpFwf/ValqTp9Ovn79hlgsYRiaomlWp2NZ1tzCPCQkJOu33wBg6NBhSK+S2OFPp2UZkQRwECaERo32nvMPp5CQIFtbAwAcDQaP8gGHwMRr7bGtoiWNUN9JSe+4hTehl9WRtaNOCe65AAAhimEkFDBCjPyzqWfT0y8vWbLo5KlTp06eqqp6dOfObZqiQ8OmP3jw4MyZM1VVVbNmzZoz5x9yuex0yunPNm+urVVrtepBgwauWvWuiYkJjvfY8Ib6szJEFr5oIITqd11HUB/rUpgLRAglJSVptdopU6akpaVt3759/vz5Y8YE7t69J/nkueHDhwcEjP7xx4MfffTR3n17rl/PWrPmQ3c3t8Ax486du/DRR+stLCwHDRr45DoAIArRQGPfZL4u8iFqEA4e8fWbJDRyA2tN8frH1F8rQf/P5tKfXBTV2OzUGo+Ytp7TwuKCRhOl+umPfTKP9eJ5PBQAAo6iGK1Wffjw4R9//FEulyuVlWq1xsLCXKdje/XqNWzokN27dzMMM3ToMOqP8ikABIgSiyTCohCxWPLuqsXGRjIAqFvjDjQgjgIKKBFN1xnVQQjTqkdLptE2B+sjXV/Ho95tmuU4DU3/MQ149/e7ab+eY7k3bt++uXff7gXz54aHh/148Md/f7QuYMyY5cuXnTqV/MUXX/j5jejSxXT9xx/a23efOXPW/fuFmzd/amNjvXjxW1DnrU2/MDMxhOaod9yv8xsQXO8aef9LpVKcxTCMp6fn0qVLLSwsVCrVoUOxa9d9YGVlKZEyW77YUl2tPHr0ZytLq3/9a7WJifGQIUOiohYePXp00KCBTSdvGtcEKEB0nWaAtyZCUB/3GAHQwNeP3SkKqL8ShOGJOsCz4k/I4yef0/avuLkL2lgQogDA2Nh45coVc+f+k6Kogwd/PHHi5KZNn8lkUrFYYmtrGxU1H0diYVlWJBJzHFtTUyOTycRiCVCgqq4WiRipTMbQyNhIit2yqquraUpsaGQIiK2Pvd2gDTeqxZPdtNr0m14UrZBq3evs0PvAYeqn/xDN8Lhf4Hkdw0hEIlAopAAcy2lc3V5atmyZwsBYImFSU88sXvxm//4DrKysYmNjS0qK8/PvFpeUrFq1ysHB3s7eZuiwYUeOHJk/Pwp73xAp2HloJKLwKjf9E4R1WhqNpmvXrni7H1NTE3t7GwsLcwCQyyUSqVipfFRQkH/r1s1Vq1ZoNDoAqqSkRCKR4G3UBL2zGXFI1W8ehxqarJg/8qHVXzDhWYOjnopEIicnZycnAIDMzMsZGZmDBw8WicQAoNNpS0oeiMUiADh8+JBUKnv4sOzs2bPOvZzDwsJzc3JjfzoslYnCpk8f0N8bAJU+KP75558vnEs3kJtPnTrFx9dTP/pMc2OsVgrCx4q3x6rAL4YsbP1n1KF/LwJAiKcpCY+4+kkUqF/wgHCiiKHNzc1FYikAiMSyLl0szc0tAQAhJJfLdDpNQWF+eXnZV1//BxBN04xSqezVy1mtrhWLxXh57/Mcb5zw58GTzfpWJoZh1Go1PhAWe3OclqK4eg9SGvFAUTQAN2TYy++ufI9lOY6D8ocVFhYW2L9GEG9Nfdzrbwz1oQZ4hB637yAF9b0TaZnPH1qtjueRVqvDglCj0Rw8eFAmUwwf7rd37/7Lly9PmDDB2bn3gQMHDh3+0dOzX48eTidOnLx27ca27duNjAzfe/+DwoLCwIBxlY+q31r6VtTC2TNnznrMKq+GtEYQttDXNzVev0jDsMcuf2mU2KF/L1X/DwU0QjRF/bG7MkI0TYkQokUiKU2J6wOCUAjRHFe35RbLsjKZTCpR2Ns5/Pujj83MzHge3b9/v7a21sDAEIf/aBK3vsMalAjtDEVRLMvqdDqo96ZhWRZbn/RkGEXRiMMhvwB4nmY53tjI1Mtr4M5dO6pV1Z59+9+9m/ftt5+PGzfGpY9zo0Aqzd4bAdA84D3+/ghChIOMUfXBrGnSDp9PKAB9TxYKm8ABoKamxtGx57p164yMjGpUtTt2fr1t+3bPvgP6evR7///eLykuycy8cjrl3L59Mf08+wKAgaFkz549kyZPNjE2a/ZuANA6QfjEmU+qycGLR3NWmg4NQoDn8BCiOA44DtvH68Qhy/I8T2k0LMfV78ABlE6nw2+YpinE81ot6+09aMOGTYcP/7x48ZsVFZWffrq5e/fuXl4DUR284IDzwo2ECC2BXbGEt0/TNPbMwgdCRyZiJCJR3fIbnkNikZTj+bFjJ6SknFmxfIWbm0duTp5Ox/bq5YzLxA7ujWYfG94X6lor/pOGen9RBBRTPzpFHX+cSngcdXN4ei8fC0IaAGha1KtXD4lEAgDGJsZ9XPpgCWdkbGxkZFRbW3vvXr6qpnb37h8OH5JQFH379p3CwvvKyqp2EYTQsD3pewqRdtbBqWtNEonY3Nwcz+rhmRiZTGpqaioS0UZGhkZGBhTFAyCaQWZdjERiBgBEYtq0i7FILO7du/cb86L2xPyQlpZWW6tWqzWvvTa7fukhIESsT52U/v37b9++3d3dHernCxctWsRxnEKheO2112pqasRiMUJozJhAL69B2Fj6yisjnXo5GhsbyeVWGzd+mpZ2saqqytd3yIABAxwde+CpQaxKthwiuQ6KAkTrDb/05WPT5ROEDkuj9RVIL3AaAPB6YfN4kaiuw+F5Xio1xHEVKEonErEUxVZXVUpE4h4OjhTNAUVZW9uMHTvOxMT0iTX4K84yRAp2dKj6DaRcXFy2bfvG2toa6kZbaMKE8SNHjjQwMJg2ber48UFiMQPAunu4fblli5WVJQDq7dxr586dNtZ2IhHzz3/OHuE35NGjcoqiHRwcHBy64XWELMs2WUdI6CxYWFiMHDkS6uN0AEDfvn1xlqurK9QLsx49evbo0ZPjeIqC7j0cuvdwAACEODs7u0mTJgulIdTY9axh0O0GUML/f5jm6xZOIGDw4jRaSCR0dJquLfljPq7eeapOENK0IDURz1PY6I4QxyEtw1AODvYiEeM3cqSbmwsAnDmTeuvWTawAtEz7eo0SOhxUXfB0QxcXF5yCR9zm5hbm5hYAYGXVFQCwB6yRoalRL1MAAEByuaHLS674EqlM7OHh1rBYAACGEbU0kUPoHDzepaXhJB9NN1hmU2+fh/pO7Y95oMde3jADGriJ4jUVuCujBKcIMj57PqgPmEcLf3Icr9Xq9Dfo4DieZTkAYFlep2NxC2BZTsuq6zzhEa1Vg1bLjRo1avv2HevWrZk795+VlZXR0dG+vr7NtU99iCAkYBq1lVaJNyIFCa2kpZWBf7bIhsekKT7fCHYFDw8PHL0IABBCIpHE398fT0UHBwebmZlhwebt7W1gYGBsbAQAdrb2U6eGWVvbWVtbf/PN17t27fruu+8YhgkODn7ttdekUmmLdwaAJ21XSCAQCATC30Td1pJCdO367Y+EVaqCN5bgitxomam+Cb3ZJTdPgghCAoFAIDwbhJWjjdaP6ptMhRThNP2rGKZuB2PBzUr/NGjedK8PsaQTCAQC4VmCRaB+/LOmKdAwsC1WCrGQw2KywRaYbZGCQAQhgUAgEJ4hePEo1IdoaJQraIpY7AlaIMdxPM/jXQaF3ST01UohtkOr6kBMowQCgUB4JggCSFD+9IMT6UtB/TMbuelhu6iwuYRQSAtRthvx/AnCpj/vseuNWliE1NyZjzVVt1xUo6zmHvpj3xxxueyA6DcG0Pv89BPhmbrLooYhN554MmlmHYHHtqun8Gpaf99O3lSeP9Po02k9woEQUL+9ymyX0ghPh0bDVWiyAwOB0BqeVZshbbWVPH8aIYFAIBAI7cjzpxESCAQCgdCOEEFIIBAIhE4NEYQEAoFA6NQQQUggEAiETg0RhAQCgUDo1BBBSCAQCIRODRGEBAKBQOjUEEFIIBAIhE4NEYQEAoFA6NQQQUggEAiETg0RhAQCgUDo1BBBSCAQCIRODRGEBAKBQOjUEEFIIBAIhE4NEYQEAoFA6NQQQUggEAiETg0RhAQCgUDo1BBBSCAQCIRODRGEBAKBQOjUiJ51BQgEAqEzotPpeJ5nGEYk+rv6YY1GwzAMQgghJJFI2qVMhJBWqxWJRAzDtEuBHQGiERIIBMJTJT09PSoqyt3d3dbWtl+/fitXrszOzm7fW9y7d2/SpEl2dnZBQUFz5syZOHGiVqvF6UePHkUIAYBWqz1w4EB5eXmbSr5586abm9vRo0fbt8LPludAI9TpdElJSfb29h4eHvrpt27dunXrVlBQkFgsbn1pt27dun379ujRo2UyWZuqoVQqU1NTtVpt7969c3JyBg0a1LVrV6GGQh20Wm1bR15paWkqlcrPz4+iqDZdSGg9lZWVWVlZxcXFYrH4pZde6t27d/uWX1BQkJaWNnr0aCMjI/10nucTExNra2sbnW9lZTV06NDCwsKLFy++8sorJiYmAMCyLE3TNF03PFUqlefOnfP397927dq9e/f0L5fL5a6urt27d39ixbKysvLy8kaNGtWmz6QFEEIsy7ZXaZ2QAwcOzJkzp6amxtfX18XFpaSk5JNPPvnhhx927doVEBDQXnfZvHlzbGzsK6+8MmDAADMzs0ePHuF2NXPmzC5duowfPx4A9u/fP2fOnDt37nTp0qX1JWu12ry8vJqamvaqaocAdXjKy8vNzMwWLlzYKH316tUA8PDhwzaVtnr1arFYXFhY2KarlEplYGAgfmJz584FgNjYWIRQfn7+7Nmzr127hhDS6XSffPJJdHR0m0pGCE2aNMnd3V2n07X1QkJr0Gq1X331laOjo9DmjYyMQkND79692453+f777wEgKyurUbparTYzM2v63Xl7eyOEdu/eDQAZGRkIoZMnT86dO7e6ulq49sCBA3379tXpdGFhYU1LsLS0/Pzzz59Ysbffftvc3LyioqJdfmZ2dvbMmTNzc3PbpbROyNWrV01MTLy8vNLT03GKTqeLj4+3t7e3t7fPz89vrxtNnTrV1dW1abq7u/u0adPw8bZt2xiGKSsra1PJv/32m1wuj4mJaYdadhieA9MoRVEKhaKpmiUWiw0MDNqqRf25q+7cuZOQkPDmm2+mpKSsWLEiNTV12LBhAHDhwoVvv/0WD7XUanV0dHRRUVGbSgYAqVQql8vbehWhNSCE1q5dO3/+fFNT002bNiUmJsbFxUVERBw6dGjWrFlNFbU/DZ7mEZQ5/QqIxeLQ0NBjDfn6668BICAgIDk5Gaunu3btSkpKkkqlwrW//PLLuHHjcMmurq5xcXHC5Tt37jQ3N1+2bFlGRkbLFZNIJAqFor2MDcePH9+7d++LNDn0NEEIbd26VafT/fDDD15eXjhRJBIFBgbu2LGjoKDg+++/r6iomDBhQmxsrHBVbm7uuHHjzp8/DwBKpfLzzz8PCAgICAj4/PPPlUolPufnn3+OjIw8derU+PHj33zzzalTpyYnJ+fl5Y0cOTI+Pn7jxo1LlixhWXbWrFl37949derUjBkzvvzyy+joaJ7nx48fj+2cWq12//79wcHBfn5+H3zwQWFhoVCHgoKCVatW+fn5rVy58sGDBy9eA3gOTKOtobS0VK1WOzg4FBUVqVQqCwuLRsPwgoKC2tpaR0fHpvPS+BIjIyNra2ucwnFcXl6epaWlTqerqKiQSqV37twBgEGDBrm4uHTp0kUikRgYGCiVyqKiIoqicnJyrKysioqKGIZ59OhRfn6+nZ0d7hPLyspwCQ4ODvo35XkeG7scHR1fvFbVcbh8+XJ0dHRQUFBMTAw2PwJAUFCQr6/vrFmzYmNjw8PDcaJOp8vPz+c4zsbGxtDQUL8QjUZTUFAAANbW1gYGBvpZxcXFVVVV9vb2LZgKeZ53cnIaPXp00yyFQtGzZ0+5XF5cXKxSqRBCN27ccHZ2lslk1dXVly9fxtXjeb5Lly5BQUH61zo6Ovr7+2dkZAhdanP1pChKIpGUlJRUVVXZ2NgIWSUlJTU1NYKurFKpioqKunXrhmcNamtrCwoKeJ63tLTEprOKiorS0lKxWJydnW1iYiI8T0Irqa2tPX78+KhRo1xcXBpl+fv7u7u7x8fHY0nzn//8Z+LEiTjr0KFDp0+f7t69e3l5eVhYWFJSko2NDQAcP348MTFx7969xsbG+fn5MTExaWlpNTU1xsbGJSUlKpWKZdmcnJyqqqpLly7dvn2b5/n8/HytVosPnJ2dsS6Yl5dXVVXFsuz8+fN37dplaWkplUrPnDkTExMTHx/v5OSUl5c3duzYrKwsOzu7K1euHDx4UKfTNR3zPd88U320VVRUVNjZ2b399tuN0j/66CMDA4Py8nKE0IIFC5ydnRcvXoy7MBcXl8OHD+PTKisrFy1ahD/+yZMnz58/39zcvKioCCFUXl6+cOFC/D2bm5svX74cd0YPHz50cnKKiorq06cPwzB+fn7C4+rVq1dqaqpMJktJSdm1a5eQ/uabb9ra2uJjDw8PlUql0+k2bNjQrVs3AJBKpXgshquUk5MzZcoUfPL8+fODg4N9fHyIafTv4K233pJIJNevX2+UXlNTs3HjxkuXLuE/z5496+/vj9+Ip6envtnnxIkTQ4YMwVkDBgw4cuQITtdqtR988IGFhQUADBs27P3332cY5saNG41uVFtba2FhsWrVqsdWb//+/TRN5+bmTp48WWhLZ86cQQhduHDBw8MDN+/Q0NBhw4Y1unbHjh0A8L///a/leq5cudLR0TE6Otrc3BwAvLy8jh07hrNef/11R0dHocD4+HiKoi5evIgQSk1N9fHxMTQ0VCgUvXv33rx5M8dxH3/8sVDJLVu2tOLxExpQXl4uFov/8Y9/PDY3PDy8d+/earV6586dhoaGv//+O0KIZVkvL6+IiAiE0IcffkjT9LZt2zQajUaj+f7778Vi8aZNmxBC27ZtA4B33nlHo9Hg0qZMmeLh4cHzPEIoNDTU19dXo9HwPO/h4TFlyhScvnXrVpFIlJeXhxDCSuHSpUsfPXrE8/ypU6e6du06Y8YMhND7778vlUoPHDig1Wrv3buHJ4kOHDjwNB7Z0+IF0QjFYvGdO3diYmLeeOMNjuO2bdv2zjvv+Pn5mZqafvDBB1u2bJkyZUr//v0TEhKOHj1qYWFBURTHcVFRUTExMdOnT3d3d7969eqGDRtYlv30008pihKLxdu3bw8NDZ09e7arq2vv3r23bdv22muv+fr6AgDP81qt1tvbe/r06fv27YuKigoODu7evfuaNWs8PDzmzJkjk8nWr1///vvvjx49et68eXl5ef/9739LSkoOHTpE0/T8+fOTkpLmzZtnaWl56NCh27dvv/zyy8/6Eb6A8Dyflpbm4eHx0ksvNcqSy+VLly7Fxzk5OWFhYTU1NUuWLDE2Nt63b9/MmTPNzMzGjBmTlZUVGhoqkUiWLVsmFov37t0bHh6emJg4ZMiQrVu3rlmzJiAgYPjw4WfPnt24cSMANLVAUhQlEolOnjz57rvvCom2trbz5s3DSiTP8xqN5tVXX717925+fv6iRYuwinbmzBlnZ2ds2BCJRHfv3l2xYoVgPMjNzT18+LCTk9Mrr7wCAC3UE/d0n3322YwZM+Ry+f/+97/IyMizZ886OzsjhHie168tQoimaa1Wu3DhQnNz87i4OIqiDh48uHbt2tGjR/v7+wcHBycmJkZFReEPgdCOYOHEcVxgYKBIJDpy5MiiRYt+++2369evr1mzBgCOHj3q5+cXERGhVqsBYNKkSbt27fr555/feustnuelUml4eHijKaRGDVL4Uz8d63aJiYn29vZLly6laVqpVA4aNCgiIiI2NlapVB4/fjwgIGDq1KkA4ODgsHr16hMnTnAc9zc/j6fLMxbEraA1GuGiRYuwloaz1q5dCwCFhYXl5eVdu3YVhmAVFRXDhw+3tLR8+PDh1atXGYbR921Zt26doaFhfn6+Uql0cnLy8fHBTRMhdOnSJagfqqempkql0ri4OITQkSNHKIq6c+cOQkitVtvb269YsQIh9PDhQ1tb28jISKHwQ4cOiUSi06dPX716laZpwc0hNzfX1tbW19eXaITtjk6nw4MVIaWwsHDz5s2f1oPVpg8//FChUJw+fRqfU1BQ4OjoOHHiRJ7nly9fbmxsLPg1ZGdnW1tbv/rqq2q12sPDIyAgoLa2FiGk1WojIiIA4ObNm43qoFar7ezsGn10Hh4eNTU1CKH9+/dTFHX58mWE0Jw5c/r06SNc6O/v/8033+DjGTNmNCpBLpeHhIRcuHABn7Bs2bKm9RSG8xKJ5NChQzjrwoULYrF4zZo1+I49evQQ7hgfHw8A6enpKpXKwcEhJCTk+vXr+BOorKzEqsauXbuMjY3v37//V99Np0SlUjk7OwcGBjbN0mq1L730kp+fH8dxCKGpU6eOGDECIfTee+/17NlTqVRqNJq+ffsaGxtb62FiYjJw4ECE0DfffGNkZKTvxIQ1QnwsaIQIIawR4nSsEWIPnbCwMIlEYmtrKxTepUsXW1vbrKwsd3f3qKgooeSSkhJLS8s9e/b8PQ/p2fB8aIQIoceOtRFC+JhlWXt7e29vb/ynt7e3VCotKyvjeb60tFSwO5mamk6dOnXt2rUURV27do2iKJVKhbsbiqKqqqqqq6tv377t4+PDcdzQoUOFm2Kviqa+FXhohj2JcZ+o0+kAICcnp7S01NDQEBeOc3mez8jIsLa2lslkY8eOxSU4OjoGBgZeu3atnR8ZAYCiKIZh8LQZJicnZ8mSJcKfY8eOnTBhwo0bN/r06SPYFe3s7MaPHx8bG6tSqa5everh4SFMwjk5OQUFBWVmZubk5BQVFc2dOxdPp4nF4vDw8P379zdSsKB+9fHcuXPfe+89IVEikeiv3sHNjGVZnudra2vlcnlhYWFZWZmgdWm1Wi8vr71790okkuzs7CVLlkil0k2bNvXs2ROfcPny5ab1/PXXX3GZ9vb2Qnvz8fHx8PBIT09/7OMCAJ7n5XJ5RETExx9/HB8f7+joGBISMnXq1IEDBwIA7kxfNNf5p4VCoZgwYcKWLVvOnj0rtDfMTz/9dOvWrXnz5mH9bMaMGZGRkZmZmfHx8YGBgUZGRrhjGTp06DfffIOPRSIRRVH4fNzwhP6wZR6rJsrlcltb26SkJLwAn2EYfGBhYYHd7IXzHzx4UF1d/YLNET4HPwYbl/C716eyslIqleL3gRASi8WN3o1Go2FZFiGk74lnamoqFosRQliqnThxYv/+/QcOHNi/f//Vq1dDQ0MVCgUeBf+VQAy4v7h06RIu/MCBA3FxcVOmTLGxsVGr1biRCSebmZm1sgUT2gTDMC4uLpcvX87Pz8cpXl5eWVlZv/32W1ZW1pAhQ3AXwHEc7lOECyUSiWCnauTKhNsSy7Icx+m3KxMTE9xxNK0GQsjU1NRBD2tr65bdONPS0gwMDITFjgghmUzm5OTk4ODg7+8fExODO02VSoVPaK6eeLAok8n0qyoWi1mWhSbjS/yJ4cT169cfO3bs1VdflUgk0dHRI0aMOHjwYAsVJrSSBQsWmJubh4eHx8fH42F0VVVVTEzMvHnznJ2dIyMj8WnDhw+3t7dfu3bt77//jhPFYnFgYGBKSsrVq1cdHR0dHR3xAGvr1q1tqgBCSKPRCMeo3jweFBR07969X375xc7OztHRUaFQrFmzZtmyZRKJZMyYMfHx8XFxcQCgVCo/++yz2traF8zF7zkQhAYGBs7OzmfPnsXtBqPVak+cOOHm5ia4wOGXqn8hQgh7AJ47d05ITE1N1Wg0FEX16NGD5/kPP/zwRD1Hjhx55513PD09hW6ilTXUF5m4fdjY2MhkssjISKHw48ePr1y5ctSoUd26dauqqsrKyhIqee7cuResVXUcZs+eXVNTs2rVKtx4FAqFq6urm5ubq6srTdP4RdvY2OTl5RUXF+NLEELp6ek9evRQKBT29vZ5eXmPHj3CWVqt9tdff7WxsXFwcDA2NtZvV+fOndNoNM0Nk5tqio+FoigssZKTk318fPTblWBsAAA3N7eNGzcmJSVFR0fjlG7dujWtp52dHcMwNE0XFxfn5eXhrNLS0uzsbFdXVwAQiUQajUYoNjMzEwAYhqmpqTl9+vSwYcN27Nhx6dKlmzdvduvW7YsvvhAq017BujohTk5O33//PUVRY8eO9fT09Pb27tevX0REhIWFxXfffWdlZYVPMzMzCwoKio2NdXZ2FhT9hQsXOjk5jRs3zt3d3cvLa8CAARcvXgwODgYAjuO0Wq1+l6XT6YQ3y7KscGxkZJSQkBAcHFxVVWVoaMhx3KhRo3766aeQkJDx48cvXrzYzc3N29vbw8Njx44dwcHBNE1jV8QJEyb079+/X79+KSkpwrfzwvAcCEKRSBQaGpqRkTF58uS4uLgrV64kJiZGRESkp6dHRES0EKZPp9PhCEP//ve/t2zZcuXKlfXr1+/Zs0cmk+l0usGDB7u6uk6fPn3nzp1Xrlw5evTo0KFDJ06cqFQqW6/1Y73hwoULFRUVePSdk5OTm5uL2+uKFSs2bNiQmZl5+vTpsLAwLy+v3NxcX19fd3f3N954Y9++fRkZGQsWLEhLSyM9y9/EsGHD3n777d27d/v7++/YsSMzMzMjIwOH8Dhz5gx2S5k0adKDBw8iIyOPHTuWlpb2+uuvp6SkhIaGMgwTGhqKh+TJycnnzp2bPXt2RkZGaGioqanptGnTvvvuuzVr1ly5cuXrr7/GPlZ/Zbkez/MPHz68ePGiSqU6efLkY5dbCMyZMycgIAC3LgAICwtrWk+8DJ+m6fLy8tdff/3MmTOnT5+OiIiorKzEM5qurq5FRUWrV6/OzMz86quvtm/fjo3J1dXVEyZMGD9+fGJi4o0bN9LT04uKivr06YMrqVarL1y4IKxgI7SVUaNGpaamrlu3rmvXriqVytHR8csvvzxz5kwj/6MZM2Z4enq++uqrgjbfrVu3o0ePLlu2TCQSqdXq8PDw5OTkQYMGAYCVlZWXl5e+3u/s7Ozu7o6PnZyc+vTpgxvnunXrfHx8SktLKysrg4ODX3/9dYZhiouLpVLpDz/8sGHDBjMzM5VKNXz48KSkJLx6B983KipKrVaPGDFix44dgwcPNjU1fSpP62nx900/tiO1tbVLlizRXxqlUChWrFgh+ArPnj3bwcEBOyAghI4cOQIA2Hfm3r17gjne0dFx3LhxeA4GIXThwgX9BT3dunVLSEhACJWVlVlYWOi755w+fRoA4uPjEUIpKSkAgP0szp8/j0Nq/etf/2JZFq/06tGjh1KpLCgo0F93IcwXIoTOnTvXq1cvnD5w4MDBgwd7enoSZ5m/CY1Gs3HjRrz0SsDW1vaTTz4R4q1ER0cLodHEYvGCBQvwQhqe51evXi2EO5BIJMuXL1er1Qihhw8fhoSE4HQzM7Np06bB4yLL4Dm/RYsWPbZue/bsAYDMzEyEEPY7xW3Jw8MDr/DB4MG40Noxly9fFovFQ4YMUSqVLdRz6dKlZmZmwqI0hUIhtMO8vLwBAwbgdCcnp1WrVgHA+fPnEUL//e9/jY2Nhcf18ssvY0eMY8eOYWfX9evX/+U3QyB0FP7wN+n4XL9+PSMjo7Ky0tDQcODAgW5ubkJWcnJyYWFhWFgYVhDv3bsXFxc3ceJE3P1VV1cnJCQUFxePGzeusrIyLS0tMjISi9XS0tKUlJSSkhJzc/MRI0bgtYBqtXrfvn29e/cWVjXcv3//4MGDISEh3bp1u3//fmxs7NixY3Gkx5SUlGvXrnl7ew8ePDg/Pz8+Pl4mk02bNk0mk9XU1CQnJ+fm5hoYGPj6+uo78ZeUlMTHx7MsGxIScu3atbKysqlTp75g888ditLS0kuXLuXk5NA07eTkNHDgwEYhF27cuJGSksJxnLe3t4+Pj37WlStXcFwPLy8v7DOCYVk2ISHh999/Hz58uKGhYVxcXGRkZKNiOY779ttv9Z1x9MnOzk5ISJg+fbqFhYVarT569GhpaWnPnj01Go0gZQEgISGhurp60qRJjUzo8fHxd+7cCQ8Pt7S0bK6e58+fz87ODgkJOX78eElJyZAhQzw9PfUfS2JiolqtHjNmjEgkOnToUGhoKA6ie/369bS0tOrqagcHBz8/PywXEUInTpy4efOmj4+P/qMgEJ5rnidBSCAQCARCu0NUEAKBQCB0aoggJBAIBEKnhghCAoFAIHRqiCAkEAgEQqeGCEICgUAgdGqIICQQCARCp4YIQgKBQCB0aoggJBAIBEKnhghCAoFAIHRqiCAkEAgEQqeGCEICgUAgdGqIICQQCARCp4YIQgKBQCB0aoggJBAIBEKnhghCAoFAIHRq/h9AFdoHv1fyfwAAAABJRU5ErkJggg==\" width = 800 >\n",
    "\n",
    "We can detect overfitting by comparing performance scores on the training set and the test set. \n",
    "- If the training score and test score are both low, that's a sign of _underfitting_. The model hasn't picked up the relationship between the features and target. \n",
    "- If the training score and test score are both high, that's a sign of a good fit. The model has picked up the relationship between the features and target.\n",
    "- If the training score is much higher than the test score, that's a sign of _overfitting_. The model has fit to noise in the training set, missing out on the underlying relationship between the features and target.\n",
    "\n",
    "One of the main reasons for withholding a test set is for it to act as an unbiased sample and measure of model performance. It allows us to evaluate whether our model has picked up the general trend in the training data or whether it has been overfit to random noise in the particular data on which we happened to train it.\n",
    "\n",
    "In the iris dataset example earlier, the performance was pretty similar between the train and test sets, so it doesn't seem like overfitting is a problem there."
   ]
  },
  {
   "cell_type": "markdown",
   "metadata": {},
   "source": [
    "---\n",
    "#### Exercise 2\n",
    "\n",
    "1. Load the breast cancer data set from `scikit-learn` using the code below. Each row in this dataset is a tumor found in a patient and the columns contain different measurements thereof. The goal is to model whether the tumor is benign or malignant based on its measurements. Fit a logistic regression model using 25% of the data in the test set and evaluate the performance on both sets of data. Repeat this with a test set size of 75%. Do you see any pattern in the results? "
   ]
  },
  {
   "cell_type": "code",
   "execution_count": 41,
   "metadata": {},
   "outputs": [],
   "source": [
    "from sklearn.datasets import load_breast_cancer\n",
    "from sklearn.model_selection import train_test_split\n",
    "\n",
    "# Load in the breast cancer data\n",
    "cancer = load_breast_cancer()\n",
    "X = cancer.data\n",
    "y = cancer.target\n",
    "\n",
    "# NOTE: Here we add some random noise to the X data to make this\n",
    "# a more difficult classification problem\n",
    "random_state = np.random.RandomState(10)\n",
    "n_samples, n_features = X.shape\n",
    "X = X + (random_state.randn(n_samples, n_features) * 10)\n",
    "\n",
    "# Your code goes here\n",
    "\n"
   ]
  },
  {
   "cell_type": "markdown",
   "metadata": {},
   "source": [
    "2. Imagine we had just run many different model fits on a dataset, each with a different proportion of data in the training set. Our results are below. Run the script to plot the training and test set scores across different split sizes. How do you explain what is going on in the graph? Is there any pattern? \n",
    "\n",
    "_Note: While this is an interesting exercise, optimizing test scores based upon the size of the split is not something that should be done in practice. The goal of using a test set is to have an unbiased measure of how well our models would do on new, unseen data. So normally we will decide on a train/test split at the beginning and stick with it throughout our entire analysis._"
   ]
  },
  {
   "cell_type": "code",
   "execution_count": 42,
   "metadata": {},
   "outputs": [
    {
     "data": {
      "image/png": "[encoded data removed]",
      "text/plain": [
       "<Figure size 432x288 with 1 Axes>"
      ]
     },
     "metadata": {
      "needs_background": "light"
     },
     "output_type": "display_data"
    }
   ],
   "source": [
    "'''\n",
    "Plot train/test split\n",
    "'''\n",
    "\n",
    "# lists of training and test accuracies/scores\n",
    "train_scores = [0.88284688, 0.88846094, 0.79057243, 0.78705259,\\\n",
    "                0.78778089, 0.76681602, 0.76445634, 0.77297187, 0.76286908]\n",
    "test_scores = [0.45039566, 0.64134249, 0.66715683, 0.67892978,\\\n",
    "               0.66617014, 0.68817849, 0.67352809, 0.68920115, 0.68513161]\n",
    "\n",
    "split_range = np.arange(.1,1,.1) \n",
    "\n",
    "plt.plot(split_range, test_scores,  color='red',label=\"test set\")\n",
    "plt.plot(split_range, train_scores, color='blue',label=\"training set\")\n",
    "plt.ylabel('Score (closer to 1 is better)')\n",
    "plt.xlabel('Fraction of data in the training set')\n",
    "plt.legend()\n",
    "plt.show()"
   ]
  },
  {
   "cell_type": "markdown",
   "metadata": {},
   "source": []
  },
  {
   "cell_type": "markdown",
   "metadata": {},
   "source": [
    "---"
   ]
  },
  {
   "cell_type": "markdown",
   "metadata": {},
   "source": [
    "### Regularization\n",
    "\n",
    "What would be our next step if our model was overfitting to the training data? With linear and logistic regression models, we have the option of using *regularization*.\n",
    "\n",
    "Broadly speaking, regularization refers to altering the optimization problem so that we arrive at different model parameters. When a model is trained, the coefficients are calculated based on the data given to it. Hence, these parameters control both the fit and behavior of the model. \n",
    "\n",
    "Ideally, we want to have a way to adjust how the model parameters are calculated to control how the model learns based on the training data."
   ]
  },
  {
   "cell_type": "markdown",
   "metadata": {},
   "source": [
    "#### Penalty for the Cost Function\n",
    "For both linear and logistic regression, to calculate the model parameters (coefficients), we need to solve some optimization problem, *i.e.* optimize against a cost function. For the linear models we have seen thus far, these cost functions are based upon the following:\n",
    "\n",
    "- Linear regression: Minimize the sum of squared residuals (SSR) to find the coefficients\n",
    "- Logistic regression: Maximize the likelihood to find the coefficients \n",
    "\n",
    "To apply regularization means to alter what we are trying to optimize to hopefully end up at better model parameters and hence models which generalize better to unseen data.\n",
    "\n",
    "To achieve this in linear regression, we add in a 'penalty' term to the SSR to penalize large model coefficients. We then try to minimize the SSR plus this penalty and this becomes our new optimization problem. \n",
    "\n",
    "To achieve this in logistic regression, we add in a 'penalty' term to the likelihood. We then try to minimize the likelihood plus this penalty and this becomes our new optimization problem. "
   ]
  },
  {
   "cell_type": "markdown",
   "metadata": {},
   "source": [
    "#### L1 and L2 Penalties\n",
    "\n",
    "If our goal is to shrink extreme coefficient values, there are two penalties that we can add. \n",
    "\n",
    "The first is the $L2$ penalty:\n",
    "\n",
    "$$P(\\beta) = \\alpha \\sum_i \\beta_i ^2$$\n",
    "\n",
    "Using the $L2$ penalty is also called *Ridge Regression*. \n",
    "\n",
    "We can also use the $L1$ penalty:\n",
    "\n",
    "$$P(\\beta) = \\alpha \\sum_i |\\beta_i|$$\n",
    "\n",
    "Using this penalty is called *Lasso Regression*.\n",
    "\n",
    "The $\\alpha$ term is the weight of the regularization. The higher it is, the more the penalty term affects the calculation of the parameters. Whatever regression we pick, the model is now biased to select smaller coefficients - the $\\beta$ terms - as when these become large, greater penalties will be applied. Since the underlying optimization goal has been changed, the trained model will likely be different, usually returning a different solution for its parameters."
   ]
  },
  {
   "cell_type": "markdown",
   "metadata": {},
   "source": [
    "#### Comparison of L1 and L2\n",
    "Now that we have a basic understanding of what regularization is and how it is applied to Linear and Logistic Regression, let's compare the $L1$ and $L2$ penalties in more detail. We will start by plotting the underlying functions of both L1 and L2, the absolute value function and the square function:"
   ]
  },
  {
   "cell_type": "code",
   "execution_count": 43,
   "metadata": {},
   "outputs": [
    {
     "data": {
      "image/png": "[encoded data removed]",
      "text/plain": [
       "<Figure size 432x288 with 1 Axes>"
      ]
     },
     "metadata": {
      "needs_background": "light"
     },
     "output_type": "display_data"
    }
   ],
   "source": [
    "# Data points for creating the lines in our visual.\n",
    "x = np.linspace(-1.5, 1.5, 100)\n",
    "\n",
    "# Plot x^2 and abs(x) on the same visual\n",
    "plt.plot()\n",
    "plt.plot(x, np.abs(x), label=\"L1: $y = |x|$\")\n",
    "plt.plot(x, np.power(x, 2), label=\"L2: $y = x^2$\")\n",
    "plt.title(\"Comparision of Regularization Functions\")\n",
    "plt.legend()\n",
    "plt.xlabel(\"x\")\n",
    "plt.ylabel(\"y\")\n",
    "plt.show()"
   ]
  },
  {
   "cell_type": "markdown",
   "metadata": {},
   "source": [
    "There are a few similarities and differences between these two functions that are of interest to us:\n",
    "1. $L2$ regularization provides much greater penalties than $L1$ for large coefficients, but a smaller penalty for coefficients close to 0.\n",
    "2. Both $L1$ and $L2$ have the smallest penalties at 0, this encourages the coefficients to become smaller, or even shrink them to 0. In fact, with the $L1$ penalty (Lasso), the parameters can be brought directly to 0 while with the $L2$ penalty (Ridge) they can get close to 0 but never be exactly 0."
   ]
  },
  {
   "cell_type": "markdown",
   "metadata": {},
   "source": [
    "#### Regularization and Multicollinearity\n",
    "In addition to overfitting, regularization tends to help with the issue of multicollinearity, as it reduces the effect of many of the features included in the model. $L1$ regularization is often thought of as an automatic way of performing feature selection as it can potentially force some of the coefficients to 0."
   ]
  },
  {
   "cell_type": "markdown",
   "metadata": {},
   "source": [
    "#### Regularization With `scikit-learn`\n",
    "Now that we have an understanding of how regularization works, let's implement it in `scikit-learn`. "
   ]
  },
  {
   "cell_type": "markdown",
   "metadata": {},
   "source": [
    "#### Logistic Regression\n",
    "We can set the regularization type with the `penalty` parameter and the inverse of the weight with the `C` parameter (in our above equation $\\alpha = 1/C$). \n",
    "\n",
    "    1. penalty: The type of regularization method used (defaults to L2)\n",
    "    2. C: The inverse of the regularization strength (lower values mean a stronger regularization term)\n",
    "    \n",
    "In `scikit-learn`, when fitting a logistic regression model, the default settings apply $L2$ regularization with a weight ($\\alpha$ or $C$) of $1$. If you would like to turn it off, you need to set `penalty='none'` when initializing the model."
   ]
  },
  {
   "cell_type": "markdown",
   "metadata": {},
   "source": [
    "#### Linear Regression\n",
    "For linear regression, in order to fit a model with regularization, we use the `linear_model.Ridge()` or `linear_model.Lasso()` and control the strength of the penalty ($\\alpha$) by the `alpha` parameter. \n",
    "\n",
    "For more detail see the official documentation on these model types: [Ridge](https://scikit-learn.org/stable/modules/generated/sklearn.linear_model.Ridge.html), [Lasso](https://scikit-learn.org/stable/modules/generated/sklearn.linear_model.Lasso.html#sklearn.linear_model.Lasso)"
   ]
  },
  {
   "cell_type": "markdown",
   "metadata": {},
   "source": [
    "#### Example of the Effects of Regularization Using `scikit-learn`\n",
    "We now know what regularization does and how to apply it using `scikit-learn`. Let's explore the effect of regularization on a toy example to better solidify our understanding and motivation for its use."
   ]
  },
  {
   "cell_type": "code",
   "execution_count": 44,
   "metadata": {},
   "outputs": [],
   "source": [
    "# Create a simple train set\n",
    "X_train = np.array([1.0, 1.1, 1.3, 1.5, 1.6, 1.8, 2.0]).reshape(-1,1)\n",
    "y_train = np.array([1.0, 2.1, 2.1, 2.0, 3.0, 2.6, 3.5])\n",
    "\n",
    "# Create a simple test set\n",
    "X_test = np.array([1.3, 1.6, 1.8, 2.6, 3.5, 4.0]).reshape(-1,1)\n",
    "y_test = np.array([1.4, 2.6, 3.1, 3.2, 4.6, 5.2])"
   ]
  },
  {
   "cell_type": "markdown",
   "metadata": {},
   "source": [
    "We will start by fitting two linear regression models on the training data set. One without regularization and the other using $L2$ regularization (Ridge Regression)."
   ]
  },
  {
   "cell_type": "code",
   "execution_count": 45,
   "metadata": {},
   "outputs": [
    {
     "data": {
      "text/plain": [
       "LinearRegression()"
      ]
     },
     "execution_count": 45,
     "metadata": {},
     "output_type": "execute_result"
    }
   ],
   "source": [
    "lin_reg = LinearRegression()\n",
    "lin_reg.fit(X_train, y_train)"
   ]
  },
  {
   "cell_type": "code",
   "execution_count": 46,
   "metadata": {},
   "outputs": [
    {
     "data": {
      "text/plain": [
       "Ridge()"
      ]
     },
     "execution_count": 46,
     "metadata": {},
     "output_type": "execute_result"
    }
   ],
   "source": [
    "from sklearn.linear_model import Ridge\n",
    "\n",
    "ridge_reg = Ridge()\n",
    "ridge_reg.fit(X_train, y_train)"
   ]
  },
  {
   "cell_type": "markdown",
   "metadata": {},
   "source": [
    "Fortunately, this is a very simple regression with just a single feature, so we can easily visualize the result by looking at the line of best fit overlayed on our data."
   ]
  },
  {
   "cell_type": "code",
   "execution_count": 47,
   "metadata": {},
   "outputs": [],
   "source": [
    "# Data points for creating the line in our visual.\n",
    "x = np.linspace(1,2,10).reshape(-1,1)\n",
    "\n",
    "# Calculate the value of the points along the line of best fit.\n",
    "y_none = lin_reg.predict(x)\n",
    "y_ridge = ridge_reg.predict(x)"
   ]
  },
  {
   "cell_type": "code",
   "execution_count": 48,
   "metadata": {},
   "outputs": [
    {
     "data": {
      "image/png": "[encoded data removed]",
      "text/plain": [
       "<Figure size 864x360 with 1 Axes>"
      ]
     },
     "metadata": {
      "needs_background": "light"
     },
     "output_type": "display_data"
    }
   ],
   "source": [
    "# Create a visual of the two lines of best fit with only the train data.\n",
    "plt.figure(figsize=(12,5))\n",
    "plt.scatter(X_train, y_train, label=\"Train Data\", s=50)\n",
    "plt.plot(x,y_none, label=\"Linear Regression (None)\", color=\"teal\")\n",
    "plt.plot(x,y_ridge, label=\"Ridge Regression (L2)\", color=\"indigo\")\n",
    "plt.title(\"Comparison of Linear Regression With and Without Regularization\")\n",
    "plt.xlabel(\"x\")\n",
    "plt.ylabel(\"y\")\n",
    "plt.legend()\n",
    "plt.show()"
   ]
  },
  {
   "cell_type": "code",
   "execution_count": 49,
   "metadata": {},
   "outputs": [
    {
     "name": "stdout",
     "output_type": "stream",
     "text": [
      "R^2 of the Linear Regression (None) for train data: 0.7663946276607034\n",
      "R^2 of the Ridge Regression (L2) for train data: 0.5283440427271459\n"
     ]
    }
   ],
   "source": [
    "print(f\"R^2 of the Linear Regression (None) for train data: {lin_reg.score(X_train, y_train)}\")\n",
    "print(f\"R^2 of the Ridge Regression (L2) for train data: {ridge_reg.score(X_train, y_train)}\")"
   ]
  },
  {
   "cell_type": "markdown",
   "metadata": {},
   "source": [
    "It looks like $L2$ regularization has made the slope of the best fit line less steep. This is exactly what we would expect as the slope of the best fit line is the coefficient of our model and regularization encourages our coefficients to be smaller.\n",
    "\n",
    "Based on this result, it looks like linear regression without regularization does a better job of fitting to our data. This is confirmed when we look at the $R^2$ scores as well. But remember, so far we are only looking at the training data. Let's create the same visual, but this time include the test data as well. "
   ]
  },
  {
   "cell_type": "code",
   "execution_count": 50,
   "metadata": {},
   "outputs": [],
   "source": [
    "# Data points for creating the line in our visual.\n",
    "x = np.linspace(1,4,10).reshape(-1,1)\n",
    "\n",
    "# Calculate the value of the points along the line of best fit.\n",
    "y_none = lin_reg.predict(x)\n",
    "y_ridge = ridge_reg.predict(x)"
   ]
  },
  {
   "cell_type": "code",
   "execution_count": 51,
   "metadata": {},
   "outputs": [
    {
     "data": {
      "image/png": "[encoded data removed]",
      "text/plain": [
       "<Figure size 864x360 with 1 Axes>"
      ]
     },
     "metadata": {
      "needs_background": "light"
     },
     "output_type": "display_data"
    }
   ],
   "source": [
    "# Create a visual of the two lines of best fit with the train and test data.\n",
    "plt.figure(figsize=(12,5))\n",
    "plt.scatter(X_train, y_train, label=\"Train Data\", s=50)\n",
    "plt.scatter(X_test, y_test, label=\"Test Data\", s=50)\n",
    "plt.plot(x,y_none, label=\"Linear Regression (None)\", color=\"teal\")\n",
    "plt.plot(x,y_ridge, label=\"Ridge Regression (L2)\", color=\"indigo\")\n",
    "plt.title(\"Comparison of Linear Regression With and Without Regularization\")\n",
    "plt.xlabel(\"x\")\n",
    "plt.ylabel(\"y\")\n",
    "plt.legend()\n",
    "plt.show()"
   ]
  },
  {
   "cell_type": "code",
   "execution_count": 52,
   "metadata": {},
   "outputs": [
    {
     "name": "stdout",
     "output_type": "stream",
     "text": [
      "R^2 of the Linear Regression (None) for test data: 0.05794598917290794\n",
      "R^2 of the Ridge Regression (L2) for test data: 0.8226613847072138\n"
     ]
    }
   ],
   "source": [
    "print(f\"R^2 of the Linear Regression (None) for test data: {lin_reg.score(X_test, y_test)}\")\n",
    "print(f\"R^2 of the Ridge Regression (L2) for test data: {ridge_reg.score(X_test, y_test)}\")"
   ]
  },
  {
   "cell_type": "markdown",
   "metadata": {},
   "source": [
    "When we include our test data we can see that the Ridge Regression ($L2$) is the better fit for our data. One of the features of this test set is that it has values beyond the range of our training data. If we were to trust the model with no regularization we would have overestimated these values, instead, regularization tells our model to not put as much trust in these trends. With many real datasets, some level of regularization tends to improve the performance of our models."
   ]
  },
  {
   "cell_type": "markdown",
   "metadata": {},
   "source": [
    "---\n",
    "#### Exercise 3\n",
    "Using the iris data, let's try a few combinations of the `penalty` and `C` values to see if we can get closer accuracy values on the training and test data. \n",
    "\n",
    "Remember, the default settings are `penalty = 'l2', C=1`.\n",
    "\n",
    "Try: \n",
    "- `penalty = 'l2', C=0.1`\n",
    "- `penalty = 'l1', C=1, solver='liblinear'`\n",
    "- `penalty = 'l1', C=0.01, solver='liblinear'`\n",
    "\n",
    "Using all of these combinations and any others you tried, which model has the least overfitting (*i.e.* the closest accuracies on train and test set)?\n",
    "\n",
    "**Note on Solvers:** _Behind the scenes Logistic Regression uses a specific algorithm, called a solver, to determine the best coefficients of the model. There are many different solvers that we can employ depending on the characteristics of our data. Some of the solvers only support certain regularization methods, hence why we have provided alternative solvers for L1 regularization._\n",
    "\n",
    "---"
   ]
  },
  {
   "cell_type": "code",
   "execution_count": 53,
   "metadata": {},
   "outputs": [],
   "source": [
    "from sklearn.model_selection import train_test_split\n",
    "from sklearn.datasets import load_iris\n",
    "   \n",
    "# Get the data:\n",
    "iris = load_iris()\n",
    "\n",
    "y = iris.target\n",
    "X = iris.data\n",
    "\n",
    "# Split the data so the test set contains 20% of the samples\n",
    "X_train, X_test, y_train, y_test = train_test_split(X, y, test_size=0.2, random_state=17)"
   ]
  },
  {
   "cell_type": "markdown",
   "metadata": {},
   "source": [
    "<div id=\"container\" style=\"position:relative;\">\n",
    "<div style=\"position:relative; float:right\"><img style=\"height:25px\"\"width: 50px\" src=\"data:image/png;base64,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\" />\n",
    "</div>\n",
    "</div>"
   ]
  }
 ],
 "metadata": {
  "hide_input": false,
  "kernelspec": {
   "display_name": "Python 3 (ipykernel)",
   "language": "python",
   "name": "python3"
  },
  "language_info": {
   "codemirror_mode": {
    "name": "ipython",
    "version": 3
   },
   "file_extension": ".py",
   "mimetype": "text/x-python",
   "name": "python",
   "nbconvert_exporter": "python",
   "pygments_lexer": "ipython3",
   "version": "3.11.5"
  }
 },
 "nbformat": 4,
 "nbformat_minor": 4
}
